{
 "cells": [
  {
   "cell_type": "markdown",
   "metadata": {
    "id": "WVeJZsx78ldk"
   },
   "source": [
    "# **Chapter 0**\n"
   ]
  },
  {
   "cell_type": "code",
   "execution_count": 1,
   "metadata": {
    "colab": {
     "base_uri": "https://localhost:8080/"
    },
    "id": "mml7F7ME78tg",
    "outputId": "6ef8c4f9-7f68-4f3b-b7a7-efb0ecd2ffb8"
   },
   "outputs": [
    {
     "name": "stdout",
     "output_type": "stream",
     "text": [
      "Fri Jul  7 19:04:44 2023       \n",
      "+---------------------------------------------------------------------------------------+\n",
      "| NVIDIA-SMI 536.23                 Driver Version: 536.23       CUDA Version: 12.2     |\n",
      "|-----------------------------------------+----------------------+----------------------+\n",
      "| GPU  Name                     TCC/WDDM  | Bus-Id        Disp.A | Volatile Uncorr. ECC |\n",
      "| Fan  Temp   Perf          Pwr:Usage/Cap |         Memory-Usage | GPU-Util  Compute M. |\n",
      "|                                         |                      |               MIG M. |\n",
      "|=========================================+======================+======================|\n",
      "|   0  NVIDIA GeForce GTX 1650 Ti   WDDM  | 00000000:01:00.0 Off |                  N/A |\n",
      "| N/A   51C    P0              14W /  50W |    160MiB /  4096MiB |      0%      Default |\n",
      "|                                         |                      |                  N/A |\n",
      "+-----------------------------------------+----------------------+----------------------+\n",
      "                                                                                         \n",
      "+---------------------------------------------------------------------------------------+\n",
      "| Processes:                                                                            |\n",
      "|  GPU   GI   CI        PID   Type   Process name                            GPU Memory |\n",
      "|        ID   ID                                                             Usage      |\n",
      "|=======================================================================================|\n",
      "|    0   N/A  N/A      1716    C+G   C:\\Windows\\System32\\dwm.exe               N/A      |\n",
      "|    0   N/A  N/A      2860    C+G   ...__8wekyb3d8bbwe\\WindowsTerminal.exe    N/A      |\n",
      "|    0   N/A  N/A      4432    C+G   ...on\\114.0.1823.67\\msedgewebview2.exe    N/A      |\n",
      "|    0   N/A  N/A      5572    C+G   ...les\\AMD\\CNext\\CNext\\AMDRSSrcExt.exe    N/A      |\n",
      "|    0   N/A  N/A     11472    C+G   ...2txyewy\\StartMenuExperienceHost.exe    N/A      |\n",
      "|    0   N/A  N/A     11592    C+G   ...nt.CBS_cw5n1h2txyewy\\SearchHost.exe    N/A      |\n",
      "|    0   N/A  N/A     12248    C+G   ...FancyZones\\PowerToys.FancyZones.exe    N/A      |\n",
      "|    0   N/A  N/A     15032    C+G   ...61.0_x64__8wekyb3d8bbwe\\GameBar.exe    N/A      |\n",
      "|    0   N/A  N/A     15068    C+G   ...auncher\\PowerToys.PowerLauncher.exe    N/A      |\n",
      "|    0   N/A  N/A     15472    C+G   ...ekyb3d8bbwe\\PhoneExperienceHost.exe    N/A      |\n",
      "|    0   N/A  N/A     15524    C+G   ...CBS_cw5n1h2txyewy\\TextInputHost.exe    N/A      |\n",
      "|    0   N/A  N/A     16472    C+G   C:\\Program Files\\LGHUB\\lghub.exe          N/A      |\n",
      "|    0   N/A  N/A     17380    C+G   ...B\\system_tray\\lghub_system_tray.exe    N/A      |\n",
      "|    0   N/A  N/A     19764    C+G   ...03.0_x64__8wekyb3d8bbwe\\Cortana.exe    N/A      |\n",
      "|    0   N/A  N/A     20304    C+G   ...64__v826wp6bftszj\\TranslucentTB.exe    N/A      |\n",
      "+---------------------------------------------------------------------------------------+\n"
     ]
    }
   ],
   "source": [
    "!nvidia-smi"
   ]
  },
  {
   "cell_type": "code",
   "execution_count": 2,
   "metadata": {
    "colab": {
     "base_uri": "https://localhost:8080/"
    },
    "id": "TzSnEVLX8UTs",
    "outputId": "d8c4e080-e91e-47f6-b955-7ce86c96cb94"
   },
   "outputs": [
    {
     "name": "stdout",
     "output_type": "stream",
     "text": [
      "2.0.1+cu118\n"
     ]
    }
   ],
   "source": [
    "import torch\n",
    "import numpy as np\n",
    "import pandas as pd\n",
    "import matplotlib.pyplot as plt\n",
    "print(torch.__version__)"
   ]
  },
  {
   "cell_type": "markdown",
   "metadata": {
    "id": "YAYokwRa-WOX"
   },
   "source": [
    "## **Introduction to tensors**\n",
    "* ###  Creating tensors\n",
    "\n",
    "\n",
    "\n",
    "\n"
   ]
  },
  {
   "cell_type": "code",
   "execution_count": 3,
   "metadata": {
    "colab": {
     "base_uri": "https://localhost:8080/"
    },
    "id": "ROX1C0Ev-U4f",
    "outputId": "8764ee04-10e6-4da5-8be1-7b51ff582a56"
   },
   "outputs": [
    {
     "data": {
      "text/plain": [
       "tensor(7)"
      ]
     },
     "execution_count": 3,
     "metadata": {},
     "output_type": "execute_result"
    }
   ],
   "source": [
    "# scalar\n",
    "scalar  = torch.tensor(7)\n",
    "scalar"
   ]
  },
  {
   "cell_type": "code",
   "execution_count": 4,
   "metadata": {
    "colab": {
     "base_uri": "https://localhost:8080/"
    },
    "id": "Pr8ywhg0_JoE",
    "outputId": "fb775603-796c-4f64-de0c-41eef23df8d9"
   },
   "outputs": [
    {
     "data": {
      "text/plain": [
       "0"
      ]
     },
     "execution_count": 4,
     "metadata": {},
     "output_type": "execute_result"
    }
   ],
   "source": [
    "scalar.ndim   # Number of Dimensions"
   ]
  },
  {
   "cell_type": "code",
   "execution_count": 5,
   "metadata": {
    "colab": {
     "base_uri": "https://localhost:8080/"
    },
    "id": "yv0rMr-g_uq5",
    "outputId": "a74cd633-d68b-4069-cb1b-b65bbd80ab9f"
   },
   "outputs": [
    {
     "data": {
      "text/plain": [
       "7"
      ]
     },
     "execution_count": 5,
     "metadata": {},
     "output_type": "execute_result"
    }
   ],
   "source": [
    "scalar.item()    # Extract from Tensor"
   ]
  },
  {
   "cell_type": "code",
   "execution_count": 6,
   "metadata": {
    "colab": {
     "base_uri": "https://localhost:8080/"
    },
    "id": "UK7s0SvN_11y",
    "outputId": "cc83e8c9-cf30-4aa0-eb2a-45652705672e"
   },
   "outputs": [
    {
     "data": {
      "text/plain": [
       "tensor([7, 7])"
      ]
     },
     "execution_count": 6,
     "metadata": {},
     "output_type": "execute_result"
    }
   ],
   "source": [
    "# Vector\n",
    "vector = torch.tensor([7,7])\n",
    "vector"
   ]
  },
  {
   "cell_type": "code",
   "execution_count": 7,
   "metadata": {
    "colab": {
     "base_uri": "https://localhost:8080/"
    },
    "id": "GDi9RQFWAAgC",
    "outputId": "709f66e0-5669-4089-9a5a-6e4ed6ceca92"
   },
   "outputs": [
    {
     "data": {
      "text/plain": [
       "1"
      ]
     },
     "execution_count": 7,
     "metadata": {},
     "output_type": "execute_result"
    }
   ],
   "source": [
    "vector.ndim"
   ]
  },
  {
   "cell_type": "code",
   "execution_count": 8,
   "metadata": {
    "colab": {
     "base_uri": "https://localhost:8080/"
    },
    "id": "3rRgkQpPAKlv",
    "outputId": "c9e4bfd2-1baf-47a3-edd0-d0b0d06204ad"
   },
   "outputs": [
    {
     "data": {
      "text/plain": [
       "torch.Size([2])"
      ]
     },
     "execution_count": 8,
     "metadata": {},
     "output_type": "execute_result"
    }
   ],
   "source": [
    "vector.shape"
   ]
  },
  {
   "cell_type": "code",
   "execution_count": 9,
   "metadata": {
    "colab": {
     "base_uri": "https://localhost:8080/"
    },
    "id": "EzCMkEy6AQhI",
    "outputId": "8808b2ea-2ca7-43a1-98a5-398b32c2eb0c"
   },
   "outputs": [
    {
     "data": {
      "text/plain": [
       "tensor([[1, 2, 3],\n",
       "        [4, 5, 6]])"
      ]
     },
     "execution_count": 9,
     "metadata": {},
     "output_type": "execute_result"
    }
   ],
   "source": [
    "# MATRIX\n",
    "MATRIX = torch.tensor([[1,2,3], [4,5,6]])\n",
    "MATRIX"
   ]
  },
  {
   "cell_type": "code",
   "execution_count": 10,
   "metadata": {
    "colab": {
     "base_uri": "https://localhost:8080/"
    },
    "id": "KUY5jvhWA4rc",
    "outputId": "2749e3e5-fefe-4be9-c0d4-41e5a45fbb76"
   },
   "outputs": [
    {
     "data": {
      "text/plain": [
       "2"
      ]
     },
     "execution_count": 10,
     "metadata": {},
     "output_type": "execute_result"
    }
   ],
   "source": [
    "MATRIX.ndim"
   ]
  },
  {
   "cell_type": "code",
   "execution_count": 11,
   "metadata": {
    "colab": {
     "base_uri": "https://localhost:8080/"
    },
    "id": "ncEki6JNA8hW",
    "outputId": "990199d2-0d0c-4bb2-c646-8b4ef0415e36"
   },
   "outputs": [
    {
     "data": {
      "text/plain": [
       "torch.Size([2, 3])"
      ]
     },
     "execution_count": 11,
     "metadata": {},
     "output_type": "execute_result"
    }
   ],
   "source": [
    "MATRIX.shape"
   ]
  },
  {
   "cell_type": "code",
   "execution_count": 12,
   "metadata": {
    "colab": {
     "base_uri": "https://localhost:8080/"
    },
    "id": "nKxhsS1KBG-E",
    "outputId": "835fe83a-64b4-490b-dd88-0986832fb7d2"
   },
   "outputs": [
    {
     "data": {
      "text/plain": [
       "tensor([1, 2, 3])"
      ]
     },
     "execution_count": 12,
     "metadata": {},
     "output_type": "execute_result"
    }
   ],
   "source": [
    "MATRIX[0]"
   ]
  },
  {
   "cell_type": "code",
   "execution_count": 13,
   "metadata": {
    "colab": {
     "base_uri": "https://localhost:8080/"
    },
    "id": "9V2iBw4sBX8_",
    "outputId": "295a50db-147c-4be9-d0f2-74e271699cfd"
   },
   "outputs": [
    {
     "data": {
      "text/plain": [
       "tensor([[[1, 2, 3, 4],\n",
       "         [4, 5, 6, 4],\n",
       "         [7, 8, 9, 4]]])"
      ]
     },
     "execution_count": 13,
     "metadata": {},
     "output_type": "execute_result"
    }
   ],
   "source": [
    "# TENSOR\n",
    "TENSOR = torch.tensor([[[1,2,3,4],\n",
    "                        [4,5,6,4],\n",
    "                        [7,8,9,4]]])\n",
    "TENSOR"
   ]
  },
  {
   "cell_type": "code",
   "execution_count": 14,
   "metadata": {
    "colab": {
     "base_uri": "https://localhost:8080/"
    },
    "id": "9yRyoNFvB5UO",
    "outputId": "25352e85-1693-450e-d7da-8fbc675878da"
   },
   "outputs": [
    {
     "data": {
      "text/plain": [
       "3"
      ]
     },
     "execution_count": 14,
     "metadata": {},
     "output_type": "execute_result"
    }
   ],
   "source": [
    "TENSOR.ndim"
   ]
  },
  {
   "cell_type": "code",
   "execution_count": 15,
   "metadata": {
    "colab": {
     "base_uri": "https://localhost:8080/"
    },
    "id": "eanHFkGiB8eC",
    "outputId": "27f29560-9ef9-4adc-8a7c-caab61a048bf"
   },
   "outputs": [
    {
     "data": {
      "text/plain": [
       "torch.Size([1, 3, 4])"
      ]
     },
     "execution_count": 15,
     "metadata": {},
     "output_type": "execute_result"
    }
   ],
   "source": [
    "TENSOR.shape"
   ]
  },
  {
   "cell_type": "code",
   "execution_count": 16,
   "metadata": {
    "colab": {
     "base_uri": "https://localhost:8080/"
    },
    "id": "tWuHP-W2CBYf",
    "outputId": "1991adb9-e311-4bf2-c67b-c91915c8f8cd"
   },
   "outputs": [
    {
     "data": {
      "text/plain": [
       "tensor([[1, 2, 3, 4],\n",
       "        [4, 5, 6, 4],\n",
       "        [7, 8, 9, 4]])"
      ]
     },
     "execution_count": 16,
     "metadata": {},
     "output_type": "execute_result"
    }
   ],
   "source": [
    "TENSOR[0]"
   ]
  },
  {
   "cell_type": "code",
   "execution_count": 17,
   "metadata": {
    "colab": {
     "base_uri": "https://localhost:8080/"
    },
    "id": "JgDZQsLSCFlA",
    "outputId": "64de8287-c5ee-452f-f160-48e2a511be81"
   },
   "outputs": [
    {
     "data": {
      "text/plain": [
       "tensor([1, 2, 3, 4])"
      ]
     },
     "execution_count": 17,
     "metadata": {},
     "output_type": "execute_result"
    }
   ],
   "source": [
    "TENSOR[0][0]"
   ]
  },
  {
   "cell_type": "markdown",
   "metadata": {
    "id": "yiGhB8BuEkFD"
   },
   "source": [
    "## **Random Tensors**\n",
    "\n",
    "In essence:\n",
    "\n",
    "`Start with random numbers -> look at data -> update random numbers -> look at data -> update random numbers...`"
   ]
  },
  {
   "cell_type": "code",
   "execution_count": 18,
   "metadata": {
    "colab": {
     "base_uri": "https://localhost:8080/"
    },
    "id": "bSRNsFS-CJjm",
    "outputId": "239204fe-7ea6-455e-8b86-6c69ac1a6fbc"
   },
   "outputs": [
    {
     "data": {
      "text/plain": [
       "tensor([[0.2559, 0.9967, 0.8020, 0.1350],\n",
       "        [0.0436, 0.3599, 0.9476, 0.5924],\n",
       "        [0.4108, 0.1766, 0.9967, 0.9053]])"
      ]
     },
     "execution_count": 18,
     "metadata": {},
     "output_type": "execute_result"
    }
   ],
   "source": [
    "# Random Tensors\n",
    "random_tensor = torch.rand(3,4)\n",
    "random_tensor"
   ]
  },
  {
   "cell_type": "code",
   "execution_count": 19,
   "metadata": {
    "colab": {
     "base_uri": "https://localhost:8080/"
    },
    "id": "KkgUa7pbGp_H",
    "outputId": "8c19a5e1-3dca-456a-ecf2-a4157c6775f1"
   },
   "outputs": [
    {
     "data": {
      "text/plain": [
       "(torch.Size([224, 224, 3]), 3)"
      ]
     },
     "execution_count": 19,
     "metadata": {},
     "output_type": "execute_result"
    }
   ],
   "source": [
    "# Create a random tensor with similar shape to an image tensor\n",
    "random_image_size_tensor = torch.rand(size=(224, 224, 3)) # height, width, colour channels (R,G,B)\n",
    "random_image_size_tensor.shape, random_image_size_tensor.ndim"
   ]
  },
  {
   "cell_type": "markdown",
   "metadata": {
    "id": "FbpVul4wKWiA"
   },
   "source": [
    "## **Zeros and ones**"
   ]
  },
  {
   "cell_type": "code",
   "execution_count": 20,
   "metadata": {
    "colab": {
     "base_uri": "https://localhost:8080/"
    },
    "id": "6ezNbJu-Hx0V",
    "outputId": "9a3bf528-f7b9-47ee-fab4-481a99e63599"
   },
   "outputs": [
    {
     "data": {
      "text/plain": [
       "tensor([[0., 0., 0., 0.],\n",
       "        [0., 0., 0., 0.],\n",
       "        [0., 0., 0., 0.]])"
      ]
     },
     "execution_count": 20,
     "metadata": {},
     "output_type": "execute_result"
    }
   ],
   "source": [
    "# Create tensor of all zeroes\n",
    "zeros = torch.zeros(3, 4)\n",
    "zeros"
   ]
  },
  {
   "cell_type": "code",
   "execution_count": 21,
   "metadata": {
    "colab": {
     "base_uri": "https://localhost:8080/"
    },
    "id": "j924BwiJKu2O",
    "outputId": "a8e41c4b-f08e-4bc6-b7de-d5280706fe4b"
   },
   "outputs": [
    {
     "data": {
      "text/plain": [
       "tensor([[1., 1., 1., 1.],\n",
       "        [1., 1., 1., 1.],\n",
       "        [1., 1., 1., 1.]])"
      ]
     },
     "execution_count": 21,
     "metadata": {},
     "output_type": "execute_result"
    }
   ],
   "source": [
    "# Create tensor of all ones\n",
    "ones = torch.ones(3, 4)\n",
    "ones"
   ]
  },
  {
   "cell_type": "code",
   "execution_count": 22,
   "metadata": {
    "colab": {
     "base_uri": "https://localhost:8080/"
    },
    "id": "XGgzwr0pLDuJ",
    "outputId": "88eac27f-62bf-4f53-cefc-75617855fdeb"
   },
   "outputs": [
    {
     "data": {
      "text/plain": [
       "torch.float32"
      ]
     },
     "execution_count": 22,
     "metadata": {},
     "output_type": "execute_result"
    }
   ],
   "source": [
    "ones.dtype"
   ]
  },
  {
   "cell_type": "markdown",
   "metadata": {
    "id": "ag_DaWXbLNgG"
   },
   "source": [
    "## **Creating a range of tensors and tensors-like**\n"
   ]
  },
  {
   "cell_type": "code",
   "execution_count": 23,
   "metadata": {
    "colab": {
     "base_uri": "https://localhost:8080/"
    },
    "id": "dn-gsiRxLFoO",
    "outputId": "9c9a5c3e-434f-49da-89cb-f00373a7503c"
   },
   "outputs": [
    {
     "data": {
      "text/plain": [
       "tensor([ 1,  2,  3,  4,  5,  6,  7,  8,  9, 10])"
      ]
     },
     "execution_count": 23,
     "metadata": {},
     "output_type": "execute_result"
    }
   ],
   "source": [
    "# Use torch.arange()\n",
    "one_to_ten = torch.arange(1, 11, 1)\n",
    "one_to_ten"
   ]
  },
  {
   "cell_type": "code",
   "execution_count": 24,
   "metadata": {
    "colab": {
     "base_uri": "https://localhost:8080/"
    },
    "id": "8RhXSwZPLlWc",
    "outputId": "fc127141-bf62-4f9d-d860-0a29b95ef8ea"
   },
   "outputs": [
    {
     "data": {
      "text/plain": [
       "tensor([0, 0, 0, 0, 0, 0, 0, 0, 0, 0])"
      ]
     },
     "execution_count": 24,
     "metadata": {},
     "output_type": "execute_result"
    }
   ],
   "source": [
    "# Creating tensors like\n",
    "ten_zeros = torch.zeros_like(one_to_ten)\n",
    "ten_zeros"
   ]
  },
  {
   "cell_type": "markdown",
   "metadata": {
    "id": "eiSC6PDeM0yt"
   },
   "source": [
    "## **Tensor Datatypes**\n",
    "**Note :** Tensor datatypes is one of the big errors you'll run to with PyTorch & deep learning:\n",
    "1. Tensors not right datatype\n",
    "2. Tensors not right shape\n",
    "3. Tensors not on the right device"
   ]
  },
  {
   "cell_type": "code",
   "execution_count": 25,
   "metadata": {
    "colab": {
     "base_uri": "https://localhost:8080/"
    },
    "id": "YLP6irqoM4C7",
    "outputId": "eb8f725a-2cc8-4e5b-f842-e741a151942f"
   },
   "outputs": [
    {
     "data": {
      "text/plain": [
       "tensor([3., 6., 9.])"
      ]
     },
     "execution_count": 25,
     "metadata": {},
     "output_type": "execute_result"
    }
   ],
   "source": [
    "# FLoat 32 tensor\n",
    "float_32_tensor = torch.tensor([3.0, 6.0, 9.0],\n",
    "                               dtype=None,          # What datatype is the Tensor?\n",
    "                               device=None,         # What device is your tensor on?\n",
    "                               requires_grad=False) # Whether or not to track gradients wiht this tensors operations?\n",
    "float_32_tensor"
   ]
  },
  {
   "cell_type": "code",
   "execution_count": 26,
   "metadata": {
    "colab": {
     "base_uri": "https://localhost:8080/"
    },
    "id": "gqr4YiC3NWCy",
    "outputId": "c2bba7f1-3802-42af-a02f-4f5bd29dfb82"
   },
   "outputs": [
    {
     "data": {
      "text/plain": [
       "torch.float32"
      ]
     },
     "execution_count": 26,
     "metadata": {},
     "output_type": "execute_result"
    }
   ],
   "source": [
    "float_32_tensor.dtype"
   ]
  },
  {
   "cell_type": "code",
   "execution_count": 27,
   "metadata": {
    "colab": {
     "base_uri": "https://localhost:8080/"
    },
    "id": "tgpQuT6RN34f",
    "outputId": "464303e2-1b15-41ad-e84f-ef146cd4cb66"
   },
   "outputs": [
    {
     "data": {
      "text/plain": [
       "tensor([3., 6., 9.], dtype=torch.float16)"
      ]
     },
     "execution_count": 27,
     "metadata": {},
     "output_type": "execute_result"
    }
   ],
   "source": [
    "float_16_tensor = float_32_tensor.type(torch.float16)\n",
    "float_16_tensor"
   ]
  },
  {
   "cell_type": "code",
   "execution_count": 28,
   "metadata": {
    "colab": {
     "base_uri": "https://localhost:8080/"
    },
    "id": "HJcCHa3j1p_Y",
    "outputId": "987c7620-6b0a-4698-cca5-3897dcb10bab"
   },
   "outputs": [
    {
     "data": {
      "text/plain": [
       "tensor([ 9., 36., 81.])"
      ]
     },
     "execution_count": 28,
     "metadata": {},
     "output_type": "execute_result"
    }
   ],
   "source": [
    "float_16_tensor*float_32_tensor"
   ]
  },
  {
   "cell_type": "code",
   "execution_count": 29,
   "metadata": {
    "colab": {
     "base_uri": "https://localhost:8080/"
    },
    "id": "A8enjULQ1psv",
    "outputId": "9a45234d-5ed3-4a16-b8f6-f38a415b44a1"
   },
   "outputs": [
    {
     "data": {
      "text/plain": [
       "tensor([3, 6, 9], dtype=torch.int32)"
      ]
     },
     "execution_count": 29,
     "metadata": {},
     "output_type": "execute_result"
    }
   ],
   "source": [
    "int_32_tensor = torch.tensor([3, 6, 9], dtype=torch.int32)                  # INT 32 ==>  torch.int32 or torch.int\n",
    "int_32_tensor                                                               # INT 64 ==>  torch.int64 or torch.long"
   ]
  },
  {
   "cell_type": "code",
   "execution_count": 30,
   "metadata": {
    "colab": {
     "base_uri": "https://localhost:8080/"
    },
    "id": "vZeVdqeR34pa",
    "outputId": "513e6da1-526e-4e8e-adf6-0b69ca42c843"
   },
   "outputs": [
    {
     "data": {
      "text/plain": [
       "tensor([ 9., 36., 81.])"
      ]
     },
     "execution_count": 30,
     "metadata": {},
     "output_type": "execute_result"
    }
   ],
   "source": [
    "float_32_tensor*int_32_tensor"
   ]
  },
  {
   "cell_type": "markdown",
   "metadata": {
    "id": "sfNpcY8j4Iey"
   },
   "source": [
    "## **Getting information from tensors**\n",
    "\n",
    "1. Tensors not right datatype - to do get datatype from a tensor, can use `tensor.dtype`\n",
    "2. Tensors not right shape - to get shape from a tensor, can use `tensor.shape`\n",
    "3. Tensors not on the right device - to get device from a tensor, can use `tensor.device`"
   ]
  },
  {
   "cell_type": "code",
   "execution_count": 31,
   "metadata": {
    "colab": {
     "base_uri": "https://localhost:8080/"
    },
    "id": "CIf2RpQ38EfR",
    "outputId": "aee1bad0-d109-4010-d2dc-a2a254f83ff3"
   },
   "outputs": [
    {
     "data": {
      "text/plain": [
       "tensor([[0.8580, 0.9999, 0.4006, 0.7054],\n",
       "        [0.3719, 0.3038, 0.9160, 0.9244],\n",
       "        [0.1491, 0.0530, 0.0664, 0.2937]])"
      ]
     },
     "execution_count": 31,
     "metadata": {},
     "output_type": "execute_result"
    }
   ],
   "source": [
    "# Create a tensor\n",
    "some_tensor = torch.rand(3, 4)\n",
    "some_tensor"
   ]
  },
  {
   "cell_type": "code",
   "execution_count": 32,
   "metadata": {
    "colab": {
     "base_uri": "https://localhost:8080/"
    },
    "id": "uFqDtM9V9hjj",
    "outputId": "c3133171-5c2a-4dbd-a9ff-5d16f02177f1"
   },
   "outputs": [
    {
     "name": "stdout",
     "output_type": "stream",
     "text": [
      "tensor([[0.8580, 0.9999, 0.4006, 0.7054],\n",
      "        [0.3719, 0.3038, 0.9160, 0.9244],\n",
      "        [0.1491, 0.0530, 0.0664, 0.2937]])\n",
      "Datatype of tensor : torch.float32\n",
      "Shape of tensor : torch.Size([3, 4])\n",
      "Device of tensor : cpu\n"
     ]
    }
   ],
   "source": [
    "# Find out details about some tensor\n",
    "print(some_tensor)\n",
    "print(f\"Datatype of tensor : {some_tensor.dtype}\")\n",
    "print(f\"Shape of tensor : {some_tensor.shape}\")\n",
    "print(f\"Device of tensor : {some_tensor.device}\")"
   ]
  },
  {
   "cell_type": "markdown",
   "metadata": {
    "id": "fplyjrp3-lS5"
   },
   "source": [
    "## **Manipulating Tensors (tensor operations)**\n",
    "\n",
    "Tensor operations include:\n",
    "* Addition\n",
    "* Substraction\n",
    "* Multiplication (element-wise)\n",
    "* Division\n",
    "* Matrix Multiplication"
   ]
  },
  {
   "cell_type": "code",
   "execution_count": 33,
   "metadata": {
    "colab": {
     "base_uri": "https://localhost:8080/"
    },
    "id": "x9z6n4L_BWBs",
    "outputId": "a743f3a2-bb98-43e6-e6a2-3717315f8cbb"
   },
   "outputs": [
    {
     "data": {
      "text/plain": [
       "tensor([11, 12, 13])"
      ]
     },
     "execution_count": 33,
     "metadata": {},
     "output_type": "execute_result"
    }
   ],
   "source": [
    "# Create a tensor\n",
    "tensor = torch.tensor([1,2,3])\n",
    "tensor + 10"
   ]
  },
  {
   "cell_type": "code",
   "execution_count": 34,
   "metadata": {
    "colab": {
     "base_uri": "https://localhost:8080/"
    },
    "id": "80ltUh9pBkF_",
    "outputId": "5306590e-ab4d-42b5-de05-d16a5bfbe0b6"
   },
   "outputs": [
    {
     "data": {
      "text/plain": [
       "tensor([10, 20, 30])"
      ]
     },
     "execution_count": 34,
     "metadata": {},
     "output_type": "execute_result"
    }
   ],
   "source": [
    "# Multiply tensor by 10\n",
    "tensor * 10"
   ]
  },
  {
   "cell_type": "code",
   "execution_count": 35,
   "metadata": {
    "colab": {
     "base_uri": "https://localhost:8080/"
    },
    "id": "qWEgfdObB0ol",
    "outputId": "6bcc7eb1-fa30-44c9-f903-379343be96c7"
   },
   "outputs": [
    {
     "data": {
      "text/plain": [
       "tensor([-9, -8, -7])"
      ]
     },
     "execution_count": 35,
     "metadata": {},
     "output_type": "execute_result"
    }
   ],
   "source": [
    "# Substract 10\n",
    "tensor - 10"
   ]
  },
  {
   "cell_type": "code",
   "execution_count": 36,
   "metadata": {
    "colab": {
     "base_uri": "https://localhost:8080/"
    },
    "id": "HVChQalKCLx9",
    "outputId": "dfefd29b-c8dd-4d96-8de5-63c02394d92f"
   },
   "outputs": [
    {
     "data": {
      "text/plain": [
       "tensor([10, 20, 30])"
      ]
     },
     "execution_count": 36,
     "metadata": {},
     "output_type": "execute_result"
    }
   ],
   "source": [
    "# Try out PyTorch in-built functions\n",
    "torch.mul(tensor, 10)"
   ]
  },
  {
   "cell_type": "code",
   "execution_count": 37,
   "metadata": {
    "colab": {
     "base_uri": "https://localhost:8080/"
    },
    "id": "1lqh3QcYCXlh",
    "outputId": "e9e8f3a3-0486-447c-82e3-0660e2cec361"
   },
   "outputs": [
    {
     "data": {
      "text/plain": [
       "tensor([11, 12, 13])"
      ]
     },
     "execution_count": 37,
     "metadata": {},
     "output_type": "execute_result"
    }
   ],
   "source": [
    "torch.add(tensor, 10)"
   ]
  },
  {
   "cell_type": "markdown",
   "metadata": {
    "id": "VBnuEMJJCdU6"
   },
   "source": [
    "## **Matrix Multiplication**\n",
    "\n",
    "Two main ways of performing multiplication in neural networks and deep learning:\n",
    "\n",
    "1. Element-wise multiplication\n",
    "2. Matrix multiplication (dot product)\n",
    "\n",
    "There are two main rules that performing matrix multiplication needs to satisfy:\n",
    "1. The **inner dimensions** must match:\n",
    "* `(3, 2) @ (3, 2)` won't work\n",
    "* `(2, 3) @ (3, 2)` will work\n",
    "* `(3, 2) @ (2, 3)` will work\n",
    "2. The resulting matrix has the shape of the **outer dimensions**:\n",
    "* `(2, 3) @ (3, 2)` -> `(2, 2)`\n",
    "* `(3, 2) @ (2, 3)` -> `(3, 3)`"
   ]
  },
  {
   "cell_type": "code",
   "execution_count": 38,
   "metadata": {
    "colab": {
     "base_uri": "https://localhost:8080/"
    },
    "id": "pchMEp_ZJmtm",
    "outputId": "ac86828c-899d-4ef0-d18e-ef134ecd8f2e"
   },
   "outputs": [
    {
     "data": {
      "text/plain": [
       "torch.Size([3, 3])"
      ]
     },
     "execution_count": 38,
     "metadata": {},
     "output_type": "execute_result"
    }
   ],
   "source": [
    "torch.matmul(torch.rand(3, 10), torch.rand(10, 3)).shape"
   ]
  },
  {
   "cell_type": "code",
   "execution_count": 39,
   "metadata": {
    "colab": {
     "base_uri": "https://localhost:8080/"
    },
    "id": "rgVGIuzJEjaV",
    "outputId": "92a06d22-8c23-45cc-9448-ade5c04dc6a2"
   },
   "outputs": [
    {
     "name": "stdout",
     "output_type": "stream",
     "text": [
      "tensor([1, 2, 3]) * tensor([1, 2, 3])\n",
      "Equals : tensor([1, 4, 9])\n"
     ]
    }
   ],
   "source": [
    "# Element wise multiplication\n",
    "print(tensor, \"*\", tensor)\n",
    "print(f\"Equals : {tensor*tensor}\")"
   ]
  },
  {
   "cell_type": "code",
   "execution_count": 40,
   "metadata": {
    "colab": {
     "base_uri": "https://localhost:8080/"
    },
    "id": "54Pim_sDIGir",
    "outputId": "f5a69c43-cac7-4a01-aaa2-89b9b8880d93"
   },
   "outputs": [
    {
     "data": {
      "text/plain": [
       "tensor(14)"
      ]
     },
     "execution_count": 40,
     "metadata": {},
     "output_type": "execute_result"
    }
   ],
   "source": [
    "tensor @ tensor"
   ]
  },
  {
   "cell_type": "code",
   "execution_count": 41,
   "metadata": {
    "colab": {
     "base_uri": "https://localhost:8080/"
    },
    "id": "NRZfV9jJEnzM",
    "outputId": "a560dcb1-4bc0-410c-c137-7927c8a2dc01"
   },
   "outputs": [
    {
     "data": {
      "text/plain": [
       "tensor(14)"
      ]
     },
     "execution_count": 41,
     "metadata": {},
     "output_type": "execute_result"
    }
   ],
   "source": [
    "torch.matmul(tensor, tensor)"
   ]
  },
  {
   "cell_type": "code",
   "execution_count": 42,
   "metadata": {
    "colab": {
     "base_uri": "https://localhost:8080/"
    },
    "id": "OYVO0FURFRwy",
    "outputId": "cf053081-cc96-4c21-a33c-66972f38be4f"
   },
   "outputs": [
    {
     "data": {
      "text/plain": [
       "14"
      ]
     },
     "execution_count": 42,
     "metadata": {},
     "output_type": "execute_result"
    }
   ],
   "source": [
    "# Matrix multiplication by hand\n",
    "1*1 + 2*2 + 3*3"
   ]
  },
  {
   "cell_type": "code",
   "execution_count": 43,
   "metadata": {
    "colab": {
     "base_uri": "https://localhost:8080/"
    },
    "id": "3IMxaWbfF0dQ",
    "outputId": "b3b3dcd4-b3a1-4cd8-c64c-fbc72128e7b4"
   },
   "outputs": [
    {
     "name": "stdout",
     "output_type": "stream",
     "text": [
      "CPU times: total: 0 ns\n",
      "Wall time: 2.51 ms\n"
     ]
    },
    {
     "data": {
      "text/plain": [
       "tensor(14)"
      ]
     },
     "execution_count": 43,
     "metadata": {},
     "output_type": "execute_result"
    }
   ],
   "source": [
    "%%time\n",
    "value = 0\n",
    "for i in range(len(tensor)):\n",
    "    value += tensor[i]*tensor[i]\n",
    "value"
   ]
  },
  {
   "cell_type": "code",
   "execution_count": 44,
   "metadata": {
    "colab": {
     "base_uri": "https://localhost:8080/"
    },
    "id": "VjDs9JBHGlcI",
    "outputId": "8e4840e7-3a99-433b-b01f-62358ac26135"
   },
   "outputs": [
    {
     "name": "stdout",
     "output_type": "stream",
     "text": [
      "CPU times: total: 0 ns\n",
      "Wall time: 0 ns\n"
     ]
    },
    {
     "data": {
      "text/plain": [
       "tensor(14)"
      ]
     },
     "execution_count": 44,
     "metadata": {},
     "output_type": "execute_result"
    }
   ],
   "source": [
    "%%time\n",
    "torch.matmul(tensor, tensor)"
   ]
  },
  {
   "cell_type": "markdown",
   "metadata": {
    "id": "sKHjqks-Gyh9"
   },
   "source": [
    "## **One of the most common errors in deep learning: shape errors**"
   ]
  },
  {
   "cell_type": "code",
   "execution_count": 45,
   "metadata": {
    "colab": {
     "base_uri": "https://localhost:8080/"
    },
    "id": "NP3JpmCDJ9rj",
    "outputId": "fafd6ebc-bed5-41b6-cb8b-f6e4a0d178b7"
   },
   "outputs": [
    {
     "data": {
      "text/plain": [
       "tensor([[ 27,  30,  33],\n",
       "        [ 61,  68,  75],\n",
       "        [ 95, 106, 117]])"
      ]
     },
     "execution_count": 45,
     "metadata": {},
     "output_type": "execute_result"
    }
   ],
   "source": [
    "# Shapes for matrix multiplication\n",
    "tensor_A = torch.tensor([[1, 2],\n",
    "                         [3, 4],\n",
    "                         [5, 6]])\n",
    "\n",
    "tensor_B = torch.tensor([[7, 10],\n",
    "                         [8, 11],\n",
    "                         [9, 12]])\n",
    "\n",
    "# torch.mm(tensor_A, tensor_B) # torch.mm is the same as torch.matmul (it's an alias for writing less code)\n",
    "torch.matmul(tensor_A, tensor_B.T)"
   ]
  },
  {
   "cell_type": "code",
   "execution_count": 46,
   "metadata": {
    "colab": {
     "base_uri": "https://localhost:8080/"
    },
    "id": "9fva6F-iLg1V",
    "outputId": "9a000fba-c165-479c-d851-826a9d061983"
   },
   "outputs": [
    {
     "data": {
      "text/plain": [
       "(torch.Size([3, 2]), torch.Size([3, 2]))"
      ]
     },
     "execution_count": 46,
     "metadata": {},
     "output_type": "execute_result"
    }
   ],
   "source": [
    "tensor_A.shape, tensor_B.shape"
   ]
  },
  {
   "cell_type": "markdown",
   "metadata": {
    "id": "mjdxbs5xMS6p"
   },
   "source": [
    "To fix our tensor shape issues, we can manipulate the shape of one of our using a **transpose**.\n",
    "\n",
    "A **transpose** switches the axes or dimensions of a given tensor."
   ]
  },
  {
   "cell_type": "code",
   "execution_count": 47,
   "metadata": {
    "colab": {
     "base_uri": "https://localhost:8080/"
    },
    "id": "JSfoygvlM2T4",
    "outputId": "9d39317f-4716-4eda-dd1d-15555fbd01e8"
   },
   "outputs": [
    {
     "data": {
      "text/plain": [
       "(tensor([[ 7, 10],\n",
       "         [ 8, 11],\n",
       "         [ 9, 12]]),\n",
       " torch.Size([3, 2]))"
      ]
     },
     "execution_count": 47,
     "metadata": {},
     "output_type": "execute_result"
    }
   ],
   "source": [
    "tensor_B, tensor_B.shape"
   ]
  },
  {
   "cell_type": "code",
   "execution_count": 48,
   "metadata": {
    "colab": {
     "base_uri": "https://localhost:8080/"
    },
    "id": "iwM5HuayM3uE",
    "outputId": "c296b662-f067-4bf4-aad1-ddb9dba84e2f"
   },
   "outputs": [
    {
     "data": {
      "text/plain": [
       "(tensor([[ 7,  8,  9],\n",
       "         [10, 11, 12]]),\n",
       " torch.Size([2, 3]))"
      ]
     },
     "execution_count": 48,
     "metadata": {},
     "output_type": "execute_result"
    }
   ],
   "source": [
    "tensor_B.T, tensor_B.T.shape"
   ]
  },
  {
   "cell_type": "code",
   "execution_count": 49,
   "metadata": {
    "colab": {
     "base_uri": "https://localhost:8080/"
    },
    "id": "sJWGXIUPNB5C",
    "outputId": "79b2d047-692c-49ae-f5db-f9049f85dbad"
   },
   "outputs": [
    {
     "name": "stdout",
     "output_type": "stream",
     "text": [
      "Original shapes: tensor_A = torch.Size([3, 2]), tensor_B = torch.Size([3, 2])\n",
      "New shapes : tensor_A = torch.Size([3, 2]) (same shape as above), tensor_B.T = torch.Size([2, 3])\n",
      "Multiplying: torch.Size([3, 2]) @ torch.Size([3]) <- inner dimensions must match\n",
      "Output:\n",
      "\n",
      "tensor([[ 27,  30,  33],\n",
      "        [ 61,  68,  75],\n",
      "        [ 95, 106, 117]])\n",
      "\n",
      "Output shape : torch.Size([3, 3])\n"
     ]
    }
   ],
   "source": [
    "#The matrix multiplication operation works when tensor_B is transposed\n",
    "print(f\"Original shapes: tensor_A = {tensor_A.shape}, tensor_B = {tensor_B.shape}\")\n",
    "print(f\"New shapes : tensor_A = {tensor_A.shape} (same shape as above), tensor_B.T = {tensor_B.T.shape}\")\n",
    "print(f\"Multiplying: {tensor_A.shape} @ {tensor.shape} <- inner dimensions must match\")\n",
    "print(\"Output:\\n\")\n",
    "output = torch.matmul(tensor_A, tensor_B.T)\n",
    "print(output)\n",
    "print(f\"\\nOutput shape : {output.shape}\")"
   ]
  },
  {
   "cell_type": "markdown",
   "metadata": {
    "id": "tcWU7PK0OQwV"
   },
   "source": [
    "## **Finding the min, max, mean, sum, etc (tensor aggregation)**"
   ]
  },
  {
   "cell_type": "code",
   "execution_count": 50,
   "metadata": {
    "colab": {
     "base_uri": "https://localhost:8080/"
    },
    "id": "-eetKK7MQKYU",
    "outputId": "2341cb0a-66f4-41b0-8e0a-a947b409a4d9"
   },
   "outputs": [
    {
     "data": {
      "text/plain": [
       "tensor([ 1, 11, 21, 31, 41, 51, 61, 71, 81, 91])"
      ]
     },
     "execution_count": 50,
     "metadata": {},
     "output_type": "execute_result"
    }
   ],
   "source": [
    "# Create a tensor\n",
    "x = torch.arange(1, 100, 10)\n",
    "x"
   ]
  },
  {
   "cell_type": "code",
   "execution_count": 51,
   "metadata": {
    "colab": {
     "base_uri": "https://localhost:8080/"
    },
    "id": "r9MR_0A6QaoM",
    "outputId": "41763d1c-ccc8-464a-8153-ff9bd9e23c5d"
   },
   "outputs": [
    {
     "data": {
      "text/plain": [
       "(tensor(1), tensor(1))"
      ]
     },
     "execution_count": 51,
     "metadata": {},
     "output_type": "execute_result"
    }
   ],
   "source": [
    "# Find the min\n",
    "torch.min(x), x.min()"
   ]
  },
  {
   "cell_type": "code",
   "execution_count": 52,
   "metadata": {
    "colab": {
     "base_uri": "https://localhost:8080/"
    },
    "id": "jnQ84Z9qQhRp",
    "outputId": "d9a41d1f-3969-4ed9-e984-a114e117d4ec"
   },
   "outputs": [
    {
     "data": {
      "text/plain": [
       "(tensor(91), tensor(91))"
      ]
     },
     "execution_count": 52,
     "metadata": {},
     "output_type": "execute_result"
    }
   ],
   "source": [
    "# Find the max\n",
    "torch.max(x), x.max()"
   ]
  },
  {
   "cell_type": "code",
   "execution_count": 53,
   "metadata": {
    "colab": {
     "base_uri": "https://localhost:8080/"
    },
    "id": "iyT3pjyPQnh4",
    "outputId": "cad121b4-df85-4f2e-f45a-73bbda47fec8"
   },
   "outputs": [
    {
     "data": {
      "text/plain": [
       "(tensor(46.), tensor(46.))"
      ]
     },
     "execution_count": 53,
     "metadata": {},
     "output_type": "execute_result"
    }
   ],
   "source": [
    "# Find the mean - note: the torch.mean() functions requires a tensor of float32 datatype to work\n",
    "torch.mean(x.type(torch.float32)), x.type(torch.float32).mean()"
   ]
  },
  {
   "cell_type": "code",
   "execution_count": 54,
   "metadata": {
    "colab": {
     "base_uri": "https://localhost:8080/"
    },
    "id": "PRMIs-a3RM4j",
    "outputId": "2a1b2f9b-17dc-4c53-8240-716d6edc7a25"
   },
   "outputs": [
    {
     "data": {
      "text/plain": [
       "(tensor(460), tensor(460))"
      ]
     },
     "execution_count": 54,
     "metadata": {},
     "output_type": "execute_result"
    }
   ],
   "source": [
    "# Find the sum\n",
    "torch.sum(x), x.sum()"
   ]
  },
  {
   "cell_type": "markdown",
   "metadata": {
    "id": "MbE-oPzjRr3g"
   },
   "source": [
    "## **Finding the positional min and max**"
   ]
  },
  {
   "cell_type": "code",
   "execution_count": 55,
   "metadata": {
    "colab": {
     "base_uri": "https://localhost:8080/"
    },
    "id": "-rSNkswVSQXa",
    "outputId": "ff4c853b-f7a7-4b8a-f40c-d67db699a16d"
   },
   "outputs": [
    {
     "data": {
      "text/plain": [
       "tensor([ 1, 11, 21, 31, 41, 51, 61, 71, 81, 91])"
      ]
     },
     "execution_count": 55,
     "metadata": {},
     "output_type": "execute_result"
    }
   ],
   "source": [
    "x"
   ]
  },
  {
   "cell_type": "code",
   "execution_count": 56,
   "metadata": {
    "colab": {
     "base_uri": "https://localhost:8080/"
    },
    "id": "HgW5dzmSSRR2",
    "outputId": "6e4195af-16dc-4b48-cbb0-0daafde8e645"
   },
   "outputs": [
    {
     "data": {
      "text/plain": [
       "tensor(0)"
      ]
     },
     "execution_count": 56,
     "metadata": {},
     "output_type": "execute_result"
    }
   ],
   "source": [
    "# Find the position in tensor that has the minimum value with argmin() -> returns index position of target tensor where the minimum value occurs.\n",
    "x.argmin()"
   ]
  },
  {
   "cell_type": "code",
   "execution_count": 57,
   "metadata": {
    "colab": {
     "base_uri": "https://localhost:8080/"
    },
    "id": "Iy6dLM76SX41",
    "outputId": "97b8a1d5-1101-4e5a-8355-8aa9ee85ef8b"
   },
   "outputs": [
    {
     "data": {
      "text/plain": [
       "tensor(1)"
      ]
     },
     "execution_count": 57,
     "metadata": {},
     "output_type": "execute_result"
    }
   ],
   "source": [
    "x[0]"
   ]
  },
  {
   "cell_type": "code",
   "execution_count": 58,
   "metadata": {
    "colab": {
     "base_uri": "https://localhost:8080/"
    },
    "id": "AVxA4sW5SS2m",
    "outputId": "8684ac93-58aa-4186-c267-f936b40cdcd4"
   },
   "outputs": [
    {
     "data": {
      "text/plain": [
       "tensor(9)"
      ]
     },
     "execution_count": 58,
     "metadata": {},
     "output_type": "execute_result"
    }
   ],
   "source": [
    "# Find the position in tensor that has the maxmum value with argmax() -> returns index position of target tensor where the maximum value occurs.\n",
    "x.argmax()"
   ]
  },
  {
   "cell_type": "code",
   "execution_count": 59,
   "metadata": {
    "colab": {
     "base_uri": "https://localhost:8080/"
    },
    "id": "6MC89CJ7SUVd",
    "outputId": "f6208b6d-acd9-46f4-a24f-aeb9bcc685f3"
   },
   "outputs": [
    {
     "data": {
      "text/plain": [
       "tensor(91)"
      ]
     },
     "execution_count": 59,
     "metadata": {},
     "output_type": "execute_result"
    }
   ],
   "source": [
    "x[9]"
   ]
  },
  {
   "cell_type": "markdown",
   "metadata": {
    "id": "XEuW8DsjSZxZ"
   },
   "source": [
    "## **Reshaping, stacking, squeezing and unsqueezing tensors**\n",
    "\n",
    "* Reshaping - reshapes an input tensor to a defined shape\n",
    "* View - return a view of an input tensor of certain shape but keep the same memory as the original tensor\n",
    "* Stacking - combine multiple tensors on top of each other (vstack) or side by side (hstack)\n",
    "* Squeeze - removes all `1` dimensions from a tensor\n",
    "* Unsqueeze - add a `1` dimension to a target tensor\n",
    "* Permute - return a view of the input with dimensions permuted (swapped) in a certain way"
   ]
  },
  {
   "cell_type": "code",
   "execution_count": 60,
   "metadata": {
    "colab": {
     "base_uri": "https://localhost:8080/"
    },
    "id": "i1XWfpWPYsX1",
    "outputId": "a8c8cad1-cbc0-487b-cae8-ba007aa14ce2"
   },
   "outputs": [
    {
     "data": {
      "text/plain": [
       "(tensor([ 1.,  2.,  3.,  4.,  5.,  6.,  7.,  8.,  9., 10.]),\n",
       " torch.Size([10]),\n",
       " torch.float32)"
      ]
     },
     "execution_count": 60,
     "metadata": {},
     "output_type": "execute_result"
    }
   ],
   "source": [
    "# Let's create\n",
    "x = torch.arange(1., 11.)\n",
    "x, x.shape, x.dtype"
   ]
  },
  {
   "cell_type": "code",
   "execution_count": 61,
   "metadata": {
    "colab": {
     "base_uri": "https://localhost:8080/"
    },
    "id": "oAx6iVova2tk",
    "outputId": "bad0ac78-4658-4d13-fd7c-6475e2dc9d77"
   },
   "outputs": [
    {
     "data": {
      "text/plain": [
       "(tensor([[ 1.,  2.],\n",
       "         [ 3.,  4.],\n",
       "         [ 5.,  6.],\n",
       "         [ 7.,  8.],\n",
       "         [ 9., 10.]]),\n",
       " torch.Size([5, 2]))"
      ]
     },
     "execution_count": 61,
     "metadata": {},
     "output_type": "execute_result"
    }
   ],
   "source": [
    "# Add an extra dimension\n",
    "x_reshaped = x.reshape(5, 2)\n",
    "x_reshaped, x_reshaped.shape"
   ]
  },
  {
   "cell_type": "code",
   "execution_count": 62,
   "metadata": {
    "colab": {
     "base_uri": "https://localhost:8080/"
    },
    "id": "d-npgVDbbE0E",
    "outputId": "817dac24-0fd9-4b9d-9278-b7463855d2d0"
   },
   "outputs": [
    {
     "data": {
      "text/plain": [
       "(tensor([[ 1.,  2.,  3.,  4.,  5.,  6.,  7.,  8.,  9., 10.]]),\n",
       " torch.Size([1, 10]))"
      ]
     },
     "execution_count": 62,
     "metadata": {},
     "output_type": "execute_result"
    }
   ],
   "source": [
    "# Change the view\n",
    "z = x.view(1, 10)\n",
    "z, z.shape"
   ]
  },
  {
   "cell_type": "code",
   "execution_count": 63,
   "metadata": {
    "colab": {
     "base_uri": "https://localhost:8080/"
    },
    "id": "IAGdDTnDchzK",
    "outputId": "0a8140ca-67f7-4cb3-eaf9-05c98a736337"
   },
   "outputs": [
    {
     "data": {
      "text/plain": [
       "(tensor([[ 1.,  2.,  3.,  4.,  5.,  5.,  7.,  8.,  9., 10.]]),\n",
       " tensor([ 1.,  2.,  3.,  4.,  5.,  5.,  7.,  8.,  9., 10.]))"
      ]
     },
     "execution_count": 63,
     "metadata": {},
     "output_type": "execute_result"
    }
   ],
   "source": [
    "# Changing z changes x (because a view of a tensor shares the same memory as the original input)\n",
    "z[:, 5] = 5\n",
    "z, x"
   ]
  },
  {
   "cell_type": "code",
   "execution_count": 64,
   "metadata": {
    "colab": {
     "base_uri": "https://localhost:8080/"
    },
    "id": "faZDU871eT7B",
    "outputId": "53216624-85f6-4561-cce8-0973223f20e3"
   },
   "outputs": [
    {
     "data": {
      "text/plain": [
       "tensor([[ 1.,  1.,  1.,  1.],\n",
       "        [ 2.,  2.,  2.,  2.],\n",
       "        [ 3.,  3.,  3.,  3.],\n",
       "        [ 4.,  4.,  4.,  4.],\n",
       "        [ 5.,  5.,  5.,  5.],\n",
       "        [ 5.,  5.,  5.,  5.],\n",
       "        [ 7.,  7.,  7.,  7.],\n",
       "        [ 8.,  8.,  8.,  8.],\n",
       "        [ 9.,  9.,  9.,  9.],\n",
       "        [10., 10., 10., 10.]])"
      ]
     },
     "execution_count": 64,
     "metadata": {},
     "output_type": "execute_result"
    }
   ],
   "source": [
    "# Stack tensors on top of each other\n",
    "x_stacked = torch.stack([x, x, x, x], dim = 1)\n",
    "x_stacked"
   ]
  },
  {
   "cell_type": "code",
   "execution_count": 65,
   "metadata": {
    "colab": {
     "base_uri": "https://localhost:8080/"
    },
    "id": "KWbk11JEfA7g",
    "outputId": "82fe8682-f15c-488c-d8f1-fe8a16765b83"
   },
   "outputs": [
    {
     "name": "stdout",
     "output_type": "stream",
     "text": [
      "Previous tensor : tensor([[ 1.,  2.,  3.,  4.,  5.,  5.,  7.,  8.,  9., 10.]])\n",
      "Previous shape : torch.Size([1, 10])\n",
      "\n",
      "Previous tesnor : tensor([ 1.,  2.,  3.,  4.,  5.,  5.,  7.,  8.,  9., 10.])\n",
      "Previous shape : torch.Size([10])\n"
     ]
    }
   ],
   "source": [
    "# torch.squeeze() - removes all the single dimensions from a target tensor\n",
    "print(f\"Previous tensor : {z}\")\n",
    "print(f\"Previous shape : {z.shape}\")\n",
    "\n",
    "z_squeezed = z.squeeze()\n",
    "\n",
    "# Remove extra dimensions from z\n",
    "print(f\"\\nPrevious tesnor : {z_squeezed}\")\n",
    "print(f\"Previous shape : {z_squeezed.shape}\")"
   ]
  },
  {
   "cell_type": "code",
   "execution_count": 66,
   "metadata": {
    "colab": {
     "base_uri": "https://localhost:8080/"
    },
    "id": "ANYngC4xOpMO",
    "outputId": "5c9061df-e9ce-4287-96f8-3da1a055da92"
   },
   "outputs": [
    {
     "name": "stdout",
     "output_type": "stream",
     "text": [
      "Previous tensor : tensor([ 1.,  2.,  3.,  4.,  5.,  5.,  7.,  8.,  9., 10.])\n",
      "Previous shape : torch.Size([10])\n",
      "\n",
      "Previous tesnor : tensor([[ 1.,  2.,  3.,  4.,  5.,  5.,  7.,  8.,  9., 10.]])\n",
      "Previous shape : torch.Size([1, 10])\n"
     ]
    }
   ],
   "source": [
    "# torch.unsqueeze() - adds a single dimension to a target tensor at a specific dim (dimensions)\n",
    "print(f\"Previous tensor : {z_squeezed}\")\n",
    "print(f\"Previous shape : {z_squeezed.shape}\")\n",
    "\n",
    "z_unsqueezed = z_squeezed.unsqueeze(dim=0)\n",
    "\n",
    "# Add an extra dimension with unsqueeze\n",
    "print(f\"\\nPrevious tesnor : {z_unsqueezed}\")\n",
    "print(f\"Previous shape : {z_unsqueezed.shape}\")"
   ]
  },
  {
   "cell_type": "code",
   "execution_count": 67,
   "metadata": {
    "colab": {
     "base_uri": "https://localhost:8080/"
    },
    "id": "9B2X6BAmRRSj",
    "outputId": "553864fd-9ebb-494e-f6cb-cbe343f9998f"
   },
   "outputs": [
    {
     "name": "stdout",
     "output_type": "stream",
     "text": [
      "Previous shape : torch.Size([224, 224, 3])\n",
      "New shape : torch.Size([3, 224, 224])\n"
     ]
    }
   ],
   "source": [
    "# torch.permute() - rearranges the dimensions of a target tensor in a specified order\n",
    "x_original = torch.rand([224, 224, 3]) #[height, width, colour_channels]\n",
    "\n",
    "# Permute the original tensor to arrange the axis (or dim) order\n",
    "x_permuted = torch.permute(x_original, (2, 0, 1)) #Shifts axis 0->1, 1->2, 2->0\n",
    "\n",
    "print(f\"Previous shape : {x_original.shape}\")\n",
    "print(f\"New shape : {x_permuted.shape}\") #[colour_channels, height, width]"
   ]
  },
  {
   "cell_type": "markdown",
   "metadata": {
    "id": "4JN7o8ZlRlUu"
   },
   "source": [
    "##Indexing  (selecting data from tensors)\n",
    "Indexing with Pytorch is similar to indexing with NumPy"
   ]
  },
  {
   "cell_type": "code",
   "execution_count": 68,
   "metadata": {
    "colab": {
     "base_uri": "https://localhost:8080/"
    },
    "id": "o2W9sRSrZWEX",
    "outputId": "c6ec5579-ab76-436b-f5ee-f0e75332fb78"
   },
   "outputs": [
    {
     "data": {
      "text/plain": [
       "(tensor([[[1, 2, 3],\n",
       "          [4, 5, 6],\n",
       "          [7, 8, 9]]]),\n",
       " torch.Size([1, 3, 3]))"
      ]
     },
     "execution_count": 68,
     "metadata": {},
     "output_type": "execute_result"
    }
   ],
   "source": [
    "# Create a tensor\n",
    "x = torch.arange(1, 10).reshape(1, 3, 3)\n",
    "x, x.shape"
   ]
  },
  {
   "cell_type": "code",
   "execution_count": 69,
   "metadata": {
    "colab": {
     "base_uri": "https://localhost:8080/"
    },
    "id": "Xl5RmSuiZgxs",
    "outputId": "d92870a4-4738-41b8-d1ac-3353976ffe2a"
   },
   "outputs": [
    {
     "data": {
      "text/plain": [
       "tensor([[1, 2, 3],\n",
       "        [4, 5, 6],\n",
       "        [7, 8, 9]])"
      ]
     },
     "execution_count": 69,
     "metadata": {},
     "output_type": "execute_result"
    }
   ],
   "source": [
    "# Let's index our new tensor\n",
    "x[0]"
   ]
  },
  {
   "cell_type": "code",
   "execution_count": 70,
   "metadata": {
    "colab": {
     "base_uri": "https://localhost:8080/"
    },
    "id": "2SR1lnkzaEzB",
    "outputId": "cf29bc4c-569b-407e-e40c-95ffe5af62e3"
   },
   "outputs": [
    {
     "data": {
      "text/plain": [
       "tensor([1, 2, 3])"
      ]
     },
     "execution_count": 70,
     "metadata": {},
     "output_type": "execute_result"
    }
   ],
   "source": [
    "# Let's index on middle bracket (dim=1)\n",
    "x[0, 0]        # or X[0][0]"
   ]
  },
  {
   "cell_type": "code",
   "execution_count": 71,
   "metadata": {
    "colab": {
     "base_uri": "https://localhost:8080/"
    },
    "id": "ou5hDOyMaTHD",
    "outputId": "be15170f-bd08-4ddc-a367-c408bbc3c2d8"
   },
   "outputs": [
    {
     "data": {
      "text/plain": [
       "tensor(9)"
      ]
     },
     "execution_count": 71,
     "metadata": {},
     "output_type": "execute_result"
    }
   ],
   "source": [
    "# Let's index on most inner bracket (last dimension)\n",
    "x[0][2][2]"
   ]
  },
  {
   "cell_type": "code",
   "execution_count": 72,
   "metadata": {
    "colab": {
     "base_uri": "https://localhost:8080/"
    },
    "id": "HYs1AxkMaesA",
    "outputId": "51617f25-68b4-4dc9-9483-a6362b239ed2"
   },
   "outputs": [
    {
     "data": {
      "text/plain": [
       "tensor([3, 6, 9])"
      ]
     },
     "execution_count": 72,
     "metadata": {},
     "output_type": "execute_result"
    }
   ],
   "source": [
    "# You can also use \":\" to select \"all\" of a target dimension\n",
    "x[0, :, 2]"
   ]
  },
  {
   "cell_type": "markdown",
   "metadata": {
    "id": "L5wIsvjualkE"
   },
   "source": [
    "## PyTorch tensors & Numpy\n",
    "\n",
    "Numpy is a popular scientific Python numerical computing Library.\n",
    "\n",
    "And because of this, PyTorch has functionality to interact with it.\n",
    "\n",
    "* Data in Numpy, want in PyTorch tensor -> `torch.from_numpy(ndarray)`\n",
    "* PyTorch tensor -> NumPy -> `torch.Tensor.numpy()`"
   ]
  },
  {
   "cell_type": "code",
   "execution_count": 73,
   "metadata": {
    "colab": {
     "base_uri": "https://localhost:8080/"
    },
    "id": "3CcUQ9hLc0_a",
    "outputId": "8ce0fd3e-12a4-4d71-9086-0ee3317507a0"
   },
   "outputs": [
    {
     "data": {
      "text/plain": [
       "(array([1., 2., 3., 4., 5., 6., 7.]),\n",
       " tensor([1., 2., 3., 4., 5., 6., 7.], dtype=torch.float64))"
      ]
     },
     "execution_count": 73,
     "metadata": {},
     "output_type": "execute_result"
    }
   ],
   "source": [
    "# NumPy array to tensor\n",
    "import numpy as np\n",
    "\n",
    "array = np.arange(1.0, 8.0)\n",
    "tensor = torch.from_numpy(array) #Warning : when converting from numpy -> pytorch, pytorch reflects numpy's default datatype of float64 unless specified otherwise\n",
    "array, tensor"
   ]
  },
  {
   "cell_type": "code",
   "execution_count": 74,
   "metadata": {
    "colab": {
     "base_uri": "https://localhost:8080/"
    },
    "id": "QhVzJQYkdpDg",
    "outputId": "557d6496-716a-410d-875a-d0437349e89e"
   },
   "outputs": [
    {
     "data": {
      "text/plain": [
       "(array([2., 3., 4., 5., 6., 7., 8.]),\n",
       " tensor([1., 2., 3., 4., 5., 6., 7.], dtype=torch.float64))"
      ]
     },
     "execution_count": 74,
     "metadata": {},
     "output_type": "execute_result"
    }
   ],
   "source": [
    "# Change the value of array, what will this do to `tensor`?\n",
    "array = array+1\n",
    "array, tensor"
   ]
  },
  {
   "cell_type": "code",
   "execution_count": 75,
   "metadata": {
    "colab": {
     "base_uri": "https://localhost:8080/"
    },
    "id": "vG8iG-C9eOqc",
    "outputId": "ae3d810c-b4a6-4667-9817-2c7e0fb0545b"
   },
   "outputs": [
    {
     "data": {
      "text/plain": [
       "(tensor([1., 1., 1., 1., 1., 1., 1.]),\n",
       " array([1., 1., 1., 1., 1., 1., 1.], dtype=float32))"
      ]
     },
     "execution_count": 75,
     "metadata": {},
     "output_type": "execute_result"
    }
   ],
   "source": [
    "# Tensor to NumPy array\n",
    "tensor = torch.ones(7)\n",
    "numpy_tensor = tensor.numpy()\n",
    "tensor, numpy_tensor"
   ]
  },
  {
   "cell_type": "code",
   "execution_count": 76,
   "metadata": {
    "colab": {
     "base_uri": "https://localhost:8080/"
    },
    "id": "ZHbinnXNe7at",
    "outputId": "a8e70cff-cb34-4fa4-afaa-e0f504bd4d24"
   },
   "outputs": [
    {
     "data": {
      "text/plain": [
       "(tensor([2., 2., 2., 2., 2., 2., 2.]),\n",
       " array([1., 1., 1., 1., 1., 1., 1.], dtype=float32))"
      ]
     },
     "execution_count": 76,
     "metadata": {},
     "output_type": "execute_result"
    }
   ],
   "source": [
    "# Change the tensor, what happens to `numpy_tensor`?\n",
    "tensor = tensor + 1\n",
    "tensor, numpy_tensor"
   ]
  },
  {
   "cell_type": "markdown",
   "metadata": {
    "id": "hei0Ij43fOj4"
   },
   "source": [
    "## Reproducibility (trying to take random out of random)\n",
    "\n",
    "In short how a neural network learns:\n",
    "\n",
    "`start with random numbers -> tensor operations -> update random numbers to try and make them of the data -> again -> again -> again...`\n",
    "\n",
    "To reduce the randomness in neural networks and PyTorch comes the concept of a **random seed**.\n",
    "\n",
    "Essentially what the random seed does is \"flavour\" the randomness."
   ]
  },
  {
   "cell_type": "code",
   "execution_count": 77,
   "metadata": {
    "colab": {
     "base_uri": "https://localhost:8080/"
    },
    "id": "1hB16kfNbeD3",
    "outputId": "de90a403-72d4-4495-fc70-8c41916fdbb3"
   },
   "outputs": [
    {
     "name": "stdout",
     "output_type": "stream",
     "text": [
      "tensor([[0.7977, 0.7972, 0.6827, 0.7126],\n",
      "        [0.3637, 0.8622, 0.9310, 0.3562],\n",
      "        [0.2261, 0.1454, 0.2442, 0.1874]])\n",
      "tensor([[0.9471, 0.8151, 0.6531, 0.3638],\n",
      "        [0.5428, 0.3216, 0.8840, 0.2941],\n",
      "        [0.5287, 0.4622, 0.5977, 0.8956]])\n",
      "tensor([[False, False, False, False],\n",
      "        [False, False, False, False],\n",
      "        [False, False, False, False]])\n"
     ]
    }
   ],
   "source": [
    "# Create two random tensors\n",
    "random_tensor_A = torch.rand(3, 4)\n",
    "random_tensor_B = torch.rand(3 ,4)\n",
    "\n",
    "print(random_tensor_A)\n",
    "print(random_tensor_B)\n",
    "print(random_tensor_A == random_tensor_B)"
   ]
  },
  {
   "cell_type": "code",
   "execution_count": 78,
   "metadata": {
    "colab": {
     "base_uri": "https://localhost:8080/"
    },
    "id": "jJliqvdHcOXi",
    "outputId": "707e416a-571e-4415-c709-7c52e288ac08"
   },
   "outputs": [
    {
     "name": "stdout",
     "output_type": "stream",
     "text": [
      "tensor([[0.8823, 0.9150, 0.3829, 0.9593],\n",
      "        [0.3904, 0.6009, 0.2566, 0.7936],\n",
      "        [0.9408, 0.1332, 0.9346, 0.5936]])\n",
      "tensor([[0.8823, 0.9150, 0.3829, 0.9593],\n",
      "        [0.3904, 0.6009, 0.2566, 0.7936],\n",
      "        [0.9408, 0.1332, 0.9346, 0.5936]])\n",
      "tensor([[True, True, True, True],\n",
      "        [True, True, True, True],\n",
      "        [True, True, True, True]])\n"
     ]
    }
   ],
   "source": [
    "# Let's make some random but reproducible tensors\n",
    "\n",
    "# Set the random seed\n",
    "RANDOM_SEED = 42\n",
    "torch.manual_seed(RANDOM_SEED)\n",
    "random_tensor_C = torch.rand(3, 4)\n",
    "torch.manual_seed(RANDOM_SEED)\n",
    "random_tensor_D = torch.rand(3, 4)\n",
    "\n",
    "print(random_tensor_C)\n",
    "print(random_tensor_D)\n",
    "print(random_tensor_C == random_tensor_D)"
   ]
  },
  {
   "cell_type": "markdown",
   "metadata": {
    "id": "qL7ugS6XeVNT"
   },
   "source": [
    "## Running tensors and PyTorch pbjects on the GPUs (and making faster computations)\n",
    "\n",
    "GPUs = faster computations on numbers, thanks to CUDA + NVIDIA hardware + PyTorch working behind the scenes to make everything hunky dory (good)."
   ]
  },
  {
   "cell_type": "markdown",
   "metadata": {
    "id": "hQ69mtGLoPnu"
   },
   "source": [
    "### 1. Getting a GPU\n",
    "\n",
    "1. Easiest - Use Google Colab for a free GPU (options to upgrade as well)\n",
    "2. Use your own GPU - takes a little bit of setup and requires the investment of purchasing a GPU, there's lots of option...\n",
    "3. Use cloud computing - GCP, AWS, Azure, these services allow you to rent the computers on the cloud and access them.\n",
    "\n",
    "For 2, 3 PyTorch + CUDA drives (CUDA) takes a liitle bit of setting up, to do this."
   ]
  },
  {
   "cell_type": "code",
   "execution_count": 79,
   "metadata": {
    "colab": {
     "base_uri": "https://localhost:8080/"
    },
    "id": "YgnC5Fklpmtp",
    "outputId": "6c0ceb13-88d0-4af3-ae83-adfce9198391"
   },
   "outputs": [
    {
     "name": "stdout",
     "output_type": "stream",
     "text": [
      "Fri Jul  7 19:04:51 2023       \n",
      "+---------------------------------------------------------------------------------------+\n",
      "| NVIDIA-SMI 536.23                 Driver Version: 536.23       CUDA Version: 12.2     |\n",
      "|-----------------------------------------+----------------------+----------------------+\n",
      "| GPU  Name                     TCC/WDDM  | Bus-Id        Disp.A | Volatile Uncorr. ECC |\n",
      "| Fan  Temp   Perf          Pwr:Usage/Cap |         Memory-Usage | GPU-Util  Compute M. |\n",
      "|                                         |                      |               MIG M. |\n",
      "|=========================================+======================+======================|\n",
      "|   0  NVIDIA GeForce GTX 1650 Ti   WDDM  | 00000000:01:00.0 Off |                  N/A |\n",
      "| N/A   52C    P0              14W /  50W |    266MiB /  4096MiB |      4%      Default |\n",
      "|                                         |                      |                  N/A |\n",
      "+-----------------------------------------+----------------------+----------------------+\n",
      "                                                                                         \n",
      "+---------------------------------------------------------------------------------------+\n",
      "| Processes:                                                                            |\n",
      "|  GPU   GI   CI        PID   Type   Process name                            GPU Memory |\n",
      "|        ID   ID                                                             Usage      |\n",
      "|=======================================================================================|\n",
      "|    0   N/A  N/A      1716    C+G   C:\\Windows\\System32\\dwm.exe               N/A      |\n",
      "|    0   N/A  N/A      2860    C+G   ...__8wekyb3d8bbwe\\WindowsTerminal.exe    N/A      |\n",
      "|    0   N/A  N/A      4432    C+G   ...on\\114.0.1823.67\\msedgewebview2.exe    N/A      |\n",
      "|    0   N/A  N/A      5572    C+G   ...les\\AMD\\CNext\\CNext\\AMDRSSrcExt.exe    N/A      |\n",
      "|    0   N/A  N/A     11472    C+G   ...2txyewy\\StartMenuExperienceHost.exe    N/A      |\n",
      "|    0   N/A  N/A     11592    C+G   ...nt.CBS_cw5n1h2txyewy\\SearchHost.exe    N/A      |\n",
      "|    0   N/A  N/A     12248    C+G   ...FancyZones\\PowerToys.FancyZones.exe    N/A      |\n",
      "|    0   N/A  N/A     15032    C+G   ...61.0_x64__8wekyb3d8bbwe\\GameBar.exe    N/A      |\n",
      "|    0   N/A  N/A     15068    C+G   ...auncher\\PowerToys.PowerLauncher.exe    N/A      |\n",
      "|    0   N/A  N/A     15472    C+G   ...ekyb3d8bbwe\\PhoneExperienceHost.exe    N/A      |\n",
      "|    0   N/A  N/A     15524    C+G   ...CBS_cw5n1h2txyewy\\TextInputHost.exe    N/A      |\n",
      "|    0   N/A  N/A     16472    C+G   C:\\Program Files\\LGHUB\\lghub.exe          N/A      |\n",
      "|    0   N/A  N/A     17380    C+G   ...B\\system_tray\\lghub_system_tray.exe    N/A      |\n",
      "|    0   N/A  N/A     19764    C+G   ...03.0_x64__8wekyb3d8bbwe\\Cortana.exe    N/A      |\n",
      "|    0   N/A  N/A     20304    C+G   ...64__v826wp6bftszj\\TranslucentTB.exe    N/A      |\n",
      "+---------------------------------------------------------------------------------------+\n"
     ]
    }
   ],
   "source": [
    "!nvidia-smi"
   ]
  },
  {
   "cell_type": "markdown",
   "metadata": {
    "id": "rreoOe4wrBUv"
   },
   "source": [
    "### 2. Check for GPU access with PyTorch\n"
   ]
  },
  {
   "cell_type": "code",
   "execution_count": 80,
   "metadata": {
    "colab": {
     "base_uri": "https://localhost:8080/"
    },
    "id": "sNHL_aF8rWyw",
    "outputId": "7067bd30-494c-4568-a3f3-71259ab775c3"
   },
   "outputs": [
    {
     "data": {
      "text/plain": [
       "True"
      ]
     },
     "execution_count": 80,
     "metadata": {},
     "output_type": "execute_result"
    }
   ],
   "source": [
    "# Check for GPU access with PyTorch\n",
    "torch.cuda.is_available()"
   ]
  },
  {
   "cell_type": "code",
   "execution_count": 81,
   "metadata": {
    "colab": {
     "base_uri": "https://localhost:8080/",
     "height": 36
    },
    "id": "xMdEvZ8LreZN",
    "outputId": "20c45b93-1382-46ad-e6f8-eb2493604ce5"
   },
   "outputs": [
    {
     "data": {
      "text/plain": [
       "'cuda'"
      ]
     },
     "execution_count": 81,
     "metadata": {},
     "output_type": "execute_result"
    }
   ],
   "source": [
    "# Setup device agnoistic code\n",
    "device = \"cuda\" if torch.cuda.is_available() else \"cpu\"\n",
    "device"
   ]
  },
  {
   "cell_type": "code",
   "execution_count": 82,
   "metadata": {
    "colab": {
     "base_uri": "https://localhost:8080/"
    },
    "id": "75LKCpCIKz-F",
    "outputId": "884f9e42-e711-43a2-ba8b-83bf0541df5a"
   },
   "outputs": [
    {
     "data": {
      "text/plain": [
       "1"
      ]
     },
     "execution_count": 82,
     "metadata": {},
     "output_type": "execute_result"
    }
   ],
   "source": [
    "# Count number of devices\n",
    "torch.cuda.device_count()"
   ]
  },
  {
   "cell_type": "markdown",
   "metadata": {
    "id": "qWh_irBKK6AV"
   },
   "source": [
    "## 3. Putting tensors (and models) on the GPU\n",
    "\n",
    "The reason we want our tensors/models on the GPU is because using a GPU results in faster computations."
   ]
  },
  {
   "cell_type": "code",
   "execution_count": 83,
   "metadata": {
    "colab": {
     "base_uri": "https://localhost:8080/"
    },
    "id": "zDFhHAAHLwQX",
    "outputId": "23243529-ec9c-4942-bacc-b80673072a7a"
   },
   "outputs": [
    {
     "name": "stdout",
     "output_type": "stream",
     "text": [
      "tensor([1, 2, 3]) cpu\n"
     ]
    }
   ],
   "source": [
    "# Create a tensor (default on the CPU)\n",
    "tensor = torch.tensor([1,2,3])\n",
    "\n",
    "# Tensor not on GPU\n",
    "print(tensor, tensor.device)"
   ]
  },
  {
   "cell_type": "code",
   "execution_count": 84,
   "metadata": {
    "colab": {
     "base_uri": "https://localhost:8080/"
    },
    "id": "Cpx_sVD4MXm4",
    "outputId": "5beaf26b-1c8d-48f1-d79a-b4856a1520f5"
   },
   "outputs": [
    {
     "data": {
      "text/plain": [
       "tensor([1, 2, 3], device='cuda:0')"
      ]
     },
     "execution_count": 84,
     "metadata": {},
     "output_type": "execute_result"
    }
   ],
   "source": [
    "# Move tensor to GPU (if available)\n",
    "tensor_on_gpu = tensor.to(device)\n",
    "tensor_on_gpu"
   ]
  },
  {
   "cell_type": "markdown",
   "metadata": {
    "id": "Xyl84fLyMlK2"
   },
   "source": [
    "## 4. Moving tensors back to the CPU"
   ]
  },
  {
   "cell_type": "markdown",
   "metadata": {
    "id": "INmRzjpcNy72"
   },
   "source": [
    "If tensor is on GPU, can't transform it to NumPy\n",
    "\n",
    "`tensor_on_gpu.numpy()`  <-  ERROR\n",
    "\n",
    "`TypeError: can't convert cuda:0 device type tensor to numpy. Use Tensor.cpu() to copy the tensor to host memory first.`"
   ]
  },
  {
   "cell_type": "code",
   "execution_count": 85,
   "metadata": {
    "colab": {
     "base_uri": "https://localhost:8080/"
    },
    "id": "ES_gK0vhUCaF",
    "outputId": "cf1be8d2-55c4-4bb8-8699-f86335a4282e"
   },
   "outputs": [
    {
     "data": {
      "text/plain": [
       "array([1, 2, 3], dtype=int64)"
      ]
     },
     "execution_count": 85,
     "metadata": {},
     "output_type": "execute_result"
    }
   ],
   "source": [
    "# To fix the GPU tensor with NumPy issue, we can first set it to the CPU\n",
    "tensor_back_on_cpu = tensor_on_gpu.cpu().numpy()\n",
    "tensor_back_on_cpu"
   ]
  },
  {
   "cell_type": "markdown",
   "metadata": {
    "id": "XgkC4pl3VaYu"
   },
   "source": [
    "## Exercises & Extra-curriculum"
   ]
  },
  {
   "cell_type": "code",
   "execution_count": 86,
   "metadata": {
    "colab": {
     "base_uri": "https://localhost:8080/"
    },
    "id": "BlFRdYtNWPSx",
    "outputId": "0b456b95-7e3e-4c78-8280-89b490b8ed55"
   },
   "outputs": [
    {
     "data": {
      "text/plain": [
       "tensor([[0.8694, 0.5677, 0.7411, 0.4294, 0.8854, 0.5739, 0.2666],\n",
       "        [0.6274, 0.2696, 0.4414, 0.2969, 0.8317, 0.1053, 0.2695],\n",
       "        [0.3588, 0.1994, 0.5472, 0.0062, 0.9516, 0.0753, 0.8860],\n",
       "        [0.5832, 0.3376, 0.8090, 0.5779, 0.9040, 0.5547, 0.3423],\n",
       "        [0.6343, 0.3644, 0.7104, 0.9464, 0.7890, 0.2814, 0.7886],\n",
       "        [0.5895, 0.7539, 0.1952, 0.0050, 0.3068, 0.1165, 0.9103],\n",
       "        [0.6440, 0.7071, 0.6581, 0.4913, 0.8913, 0.1447, 0.5315]])"
      ]
     },
     "execution_count": 86,
     "metadata": {},
     "output_type": "execute_result"
    }
   ],
   "source": [
    "random_tensor = torch.rand(7, 7)\n",
    "random_tensor"
   ]
  },
  {
   "cell_type": "code",
   "execution_count": 87,
   "metadata": {
    "colab": {
     "base_uri": "https://localhost:8080/"
    },
    "id": "q3a9jKKMWj7d",
    "outputId": "4334693f-20cf-4322-be2a-75d54cebb412"
   },
   "outputs": [
    {
     "data": {
      "text/plain": [
       "tensor([[1.9625],\n",
       "        [1.0950],\n",
       "        [0.9967],\n",
       "        [1.8910],\n",
       "        [1.9205],\n",
       "        [1.0674],\n",
       "        [1.6949]])"
      ]
     },
     "execution_count": 87,
     "metadata": {},
     "output_type": "execute_result"
    }
   ],
   "source": [
    "random_tensor_A = torch.rand(1, 7)\n",
    "torch.matmul(random_tensor, random_tensor_A.T)"
   ]
  },
  {
   "cell_type": "code",
   "execution_count": 88,
   "metadata": {
    "colab": {
     "base_uri": "https://localhost:8080/"
    },
    "id": "r5ytsW1UW3I7",
    "outputId": "9f1d3f63-e3a3-48d4-b26f-9dd374e3735e"
   },
   "outputs": [
    {
     "name": "stdout",
     "output_type": "stream",
     "text": [
      "tensor([[0.4963, 0.7682, 0.0885, 0.1320, 0.3074, 0.6341, 0.4901],\n",
      "        [0.8964, 0.4556, 0.6323, 0.3489, 0.4017, 0.0223, 0.1689],\n",
      "        [0.2939, 0.5185, 0.6977, 0.8000, 0.1610, 0.2823, 0.6816],\n",
      "        [0.9152, 0.3971, 0.8742, 0.4194, 0.5529, 0.9527, 0.0362],\n",
      "        [0.1852, 0.3734, 0.3051, 0.9320, 0.1759, 0.2698, 0.1507],\n",
      "        [0.0317, 0.2081, 0.9298, 0.7231, 0.7423, 0.5263, 0.2437],\n",
      "        [0.5846, 0.0332, 0.1387, 0.2422, 0.8155, 0.7932, 0.2783]])\n",
      "tensor([[0.4963, 0.7682, 0.0885, 0.1320, 0.3074, 0.6341, 0.4901]])\n",
      "tensor([[1.5985],\n",
      "        [1.1173],\n",
      "        [1.2741],\n",
      "        [1.6838],\n",
      "        [0.8279],\n",
      "        [1.0347],\n",
      "        [1.2498]])\n"
     ]
    }
   ],
   "source": [
    "random_seed = 0\n",
    "torch.manual_seed(random_seed)\n",
    "\n",
    "random_tensor = torch.rand(7, 7)\n",
    "print(random_tensor)\n",
    "\n",
    "torch.manual_seed(random_seed)\n",
    "\n",
    "random_tensor_A = torch.rand(1, 7)\n",
    "print(random_tensor_A)\n",
    "\n",
    "matrix_product_tensor = torch.matmul(random_tensor, random_tensor_A.T)\n",
    "print(matrix_product_tensor)"
   ]
  },
  {
   "cell_type": "code",
   "execution_count": 89,
   "metadata": {
    "colab": {
     "base_uri": "https://localhost:8080/"
    },
    "id": "S6DCQn4cGIz_",
    "outputId": "426e3fce-bcfb-41e2-935a-0242c324a66d"
   },
   "outputs": [
    {
     "name": "stdout",
     "output_type": "stream",
     "text": [
      "Random tensor A on GPU : tensor([[0.1272, 0.8167, 0.5440],\n",
      "        [0.6601, 0.2721, 0.9737]], device='cuda:0')\n",
      "Random tensor B on GPU : tensor([[0.1272, 0.8167, 0.5440],\n",
      "        [0.6601, 0.2721, 0.9737]], device='cuda:0')\n",
      "\n",
      "Random tensor matrix multiplication : tensor([[0.9792, 0.8358],\n",
      "        [0.8358, 1.4578]], device='cuda:0')\n"
     ]
    }
   ],
   "source": [
    "torch.cuda.manual_seed(1234)\n",
    "random_gpu_tensor_A = torch.rand(2, 3, device=device)\n",
    "print(f\"Random tensor A on GPU : {random_gpu_tensor_A}\")\n",
    "\n",
    "torch.cuda.manual_seed(1234)\n",
    "random_gpu_tensor_B = torch.rand(2, 3, device=device)\n",
    "print(f\"Random tensor B on GPU : {random_gpu_tensor_B}\")\n",
    "\n",
    "matrix_product_tensor_gpu = torch.matmul(random_gpu_tensor_A, random_gpu_tensor_B.T)\n",
    "print(f\"\\nRandom tensor matrix multiplication : {matrix_product_tensor_gpu}\")"
   ]
  },
  {
   "cell_type": "code",
   "execution_count": 90,
   "metadata": {
    "colab": {
     "base_uri": "https://localhost:8080/"
    },
    "id": "yU1-bHFwYpKE",
    "outputId": "cb9c9515-686c-4480-e188-8b0aa56898ca"
   },
   "outputs": [
    {
     "name": "stdout",
     "output_type": "stream",
     "text": [
      "Maximum : 1.4577524662017822\n",
      "Maximum Index : 3\n",
      "Minimum : 0.8358409404754639\n",
      "Minimum Index : 1\n"
     ]
    }
   ],
   "source": [
    "print(f\"Maximum : {matrix_product_tensor_gpu.max()}\")\n",
    "print(f\"Maximum Index : {matrix_product_tensor_gpu.argmax()}\")\n",
    "print(f\"Minimum : {matrix_product_tensor_gpu.min()}\")\n",
    "print(f\"Minimum Index : {matrix_product_tensor_gpu.argmin()}\")"
   ]
  },
  {
   "cell_type": "code",
   "execution_count": 91,
   "metadata": {
    "colab": {
     "base_uri": "https://localhost:8080/"
    },
    "id": "nRRHWepaahaJ",
    "outputId": "b7e2097f-8284-40d9-e913-a78ea5ab3e46"
   },
   "outputs": [
    {
     "name": "stdout",
     "output_type": "stream",
     "text": [
      "Random tensor : tensor([[[[0.5349, 0.1988, 0.6592, 0.6569, 0.2328, 0.4251, 0.2071, 0.6297,\n",
      "           0.3653, 0.8513]]]])\n",
      "Random tensor size : torch.Size([1, 1, 1, 10])\n",
      "Random tensor : tensor([0.5349, 0.1988, 0.6592, 0.6569, 0.2328, 0.4251, 0.2071, 0.6297, 0.3653,\n",
      "        0.8513])\n",
      "Random tensor size : torch.Size([10])\n"
     ]
    }
   ],
   "source": [
    "random_seed = 7\n",
    "torch.manual_seed(random_seed)\n",
    "\n",
    "random_tensor = torch.rand(1, 1, 1, 10)\n",
    "print(f\"Random tensor : {random_tensor}\")\n",
    "print(f\"Random tensor size : {random_tensor.shape}\")\n",
    "\n",
    "new_random_tensor = random_tensor.squeeze()\n",
    "print(f\"Random tensor : {new_random_tensor}\")\n",
    "print(f\"Random tensor size : {new_random_tensor.shape}\")"
   ]
  },
  {
   "cell_type": "markdown",
   "metadata": {
    "id": "IxgnSzPxbqdh"
   },
   "source": [
    "# Chapter 1"
   ]
  },
  {
   "cell_type": "code",
   "execution_count": 92,
   "metadata": {
    "colab": {
     "base_uri": "https://localhost:8080/"
    },
    "id": "DAPGExe9ML2w",
    "outputId": "61abca76-2429-480e-ac77-bf6d9373ce5f"
   },
   "outputs": [
    {
     "data": {
      "text/plain": [
       "{1: 'data (prepare and load)',\n",
       " 2: 'build model',\n",
       " 3: 'fitting the model to data (training)',\n",
       " 4: 'making predictions and evaluating a model (inference)',\n",
       " 5: 'saving and loading a model',\n",
       " 6: 'putting it all together'}"
      ]
     },
     "execution_count": 92,
     "metadata": {},
     "output_type": "execute_result"
    }
   ],
   "source": [
    "what_were_covering = {1 : \"data (prepare and load)\",\n",
    "                      2 : \"build model\",\n",
    "                      3 : \"fitting the model to data (training)\",\n",
    "                      4 : \"making predictions and evaluating a model (inference)\",\n",
    "                      5 : \"saving and loading a model\",\n",
    "                      6 : \"putting it all together\"}\n",
    "\n",
    "what_were_covering"
   ]
  },
  {
   "cell_type": "code",
   "execution_count": 93,
   "metadata": {
    "colab": {
     "base_uri": "https://localhost:8080/",
     "height": 36
    },
    "id": "uco3LTaYNuC8",
    "outputId": "42bbe2b4-a70b-4290-bdcc-75729b8f0424"
   },
   "outputs": [
    {
     "data": {
      "text/plain": [
       "'2.0.1+cu118'"
      ]
     },
     "execution_count": 93,
     "metadata": {},
     "output_type": "execute_result"
    }
   ],
   "source": [
    "from torch import nn # nn contain all of PyTorch's building blocks for neural networks\n",
    "import matplotlib.pyplot as plt\n",
    "\n",
    "# Check PyTorch version\n",
    "torch.__version__"
   ]
  },
  {
   "cell_type": "markdown",
   "metadata": {
    "id": "5IbhGGLrOB7T"
   },
   "source": [
    "## 1. Data (preparing and loading)\n",
    "\n",
    "Data can be almost anything... in machine learning.\n",
    "\n",
    "* Excel spreadsheet\n",
    "* Images of any kind\n",
    "* Videos (YouTube has lots of data...)\n",
    "* Audio like songs or podcasts\n",
    "* DNA\n",
    "* Text\n",
    "\n",
    "Machine learning is a game of two parts:\n",
    "\n",
    "1. Get data into a numerical representation.\n",
    "2. Build a model to learn patterns in that numerical representation.\n",
    "\n",
    "To showcase this, let's create some *known* data using the linear regression formula.\n",
    "\n",
    "We'll use a linear regression formula to make a straight line with known **parameters**."
   ]
  },
  {
   "cell_type": "code",
   "execution_count": 94,
   "metadata": {
    "colab": {
     "base_uri": "https://localhost:8080/"
    },
    "id": "Y1NJZEK8PxPP",
    "outputId": "3799f534-03b3-4b32-98eb-e2b0f3c95c51"
   },
   "outputs": [
    {
     "data": {
      "text/plain": [
       "(tensor([[0.0000],\n",
       "         [0.0200],\n",
       "         [0.0400],\n",
       "         [0.0600],\n",
       "         [0.0800],\n",
       "         [0.1000],\n",
       "         [0.1200],\n",
       "         [0.1400],\n",
       "         [0.1600],\n",
       "         [0.1800]]),\n",
       " tensor([[0.3000],\n",
       "         [0.3140],\n",
       "         [0.3280],\n",
       "         [0.3420],\n",
       "         [0.3560],\n",
       "         [0.3700],\n",
       "         [0.3840],\n",
       "         [0.3980],\n",
       "         [0.4120],\n",
       "         [0.4260]]))"
      ]
     },
     "execution_count": 94,
     "metadata": {},
     "output_type": "execute_result"
    }
   ],
   "source": [
    "# Create *known* parameters\n",
    "weight = 0.7\n",
    "bias = 0.3\n",
    "\n",
    "# Create\n",
    "start = 0\n",
    "end = 1\n",
    "step = 0.02\n",
    "X = torch.arange(start, end, step).unsqueeze(dim=1)\n",
    "Y = weight*X + bias\n",
    "\n",
    "X[:10], Y[:10]"
   ]
  },
  {
   "cell_type": "markdown",
   "metadata": {
    "id": "6iSCklkURoOK"
   },
   "source": [
    "### Splitting data into training and test sets (one of the most important concept in machine learning in general)\n",
    "\n",
    "Let's create a training and test set with our data"
   ]
  },
  {
   "cell_type": "code",
   "execution_count": 95,
   "metadata": {
    "colab": {
     "base_uri": "https://localhost:8080/"
    },
    "id": "F4YoG82OSy2z",
    "outputId": "7eaf779b-23c0-4d04-e79b-c297dc18ad0a"
   },
   "outputs": [
    {
     "data": {
      "text/plain": [
       "(40, 40, 10, 10)"
      ]
     },
     "execution_count": 95,
     "metadata": {},
     "output_type": "execute_result"
    }
   ],
   "source": [
    "# Create a train/ test split\n",
    "train_split = int(0.8*len(X))\n",
    "\n",
    "X_train, Y_train = X[:train_split], Y[:train_split]\n",
    "X_test, Y_test = X[train_split:], Y[train_split:]\n",
    "\n",
    "len(X_train), len(Y_train), len(X_test), len(Y_test)"
   ]
  },
  {
   "cell_type": "markdown",
   "metadata": {
    "id": "HQr4x8z9ZYkW"
   },
   "source": [
    "How might we better visualize our data?\n",
    "\n",
    "This is where the data explorer's motto comes in!\n",
    "\n",
    "\"Visualize, visualize, visualize!\""
   ]
  },
  {
   "cell_type": "code",
   "execution_count": 96,
   "metadata": {
    "id": "0ZYRAs4vNyhk"
   },
   "outputs": [],
   "source": [
    "def plot_predictions(train_data=X_train,\n",
    "                     train_labels=Y_train,\n",
    "                     test_data=X_test,\n",
    "                     test_labels=Y_test,\n",
    "                     predictions=None):\n",
    "    \"\"\"\n",
    "    Plots training data, test data and compares predictions.\n",
    "    \"\"\"\n",
    "\n",
    "    plt.figure(figsize=(10, 7))\n",
    "\n",
    "    # Plot training data in blue\n",
    "    plt.scatter(train_data, train_labels, c=\"b\", s=4, label=\"Training data\")\n",
    "\n",
    "    # Plot test data in green\n",
    "    plt.scatter(test_data, test_labels, c=\"g\", s=4, label=\"Testing data\")\n",
    "\n",
    "    # Are there predictions?\n",
    "    if predictions is not None:\n",
    "        # Plot the predictions if they exist\n",
    "        plt.scatter(test_data, predictions, c=\"r\", s=4, label=\"Predictions\")\n",
    "\n",
    "    # Show the legend\n",
    "    plt.legend(prop={\"size\":14})"
   ]
  },
  {
   "cell_type": "code",
   "execution_count": 97,
   "metadata": {
    "colab": {
     "base_uri": "https://localhost:8080/",
     "height": 471
    },
    "id": "Fa1JsRRcPxU7",
    "outputId": "90e5ad53-9234-4a42-fee5-075cc360e1c8"
   },
   "outputs": [
    {
     "data": {
      "image/png": "[encoded data removed]",
      "text/plain": [
       "<Figure size 720x504 with 1 Axes>"
      ]
     },
     "metadata": {
      "needs_background": "light"
     },
     "output_type": "display_data"
    }
   ],
   "source": [
    "plot_predictions()"
   ]
  },
  {
   "cell_type": "markdown",
   "metadata": {
    "id": "uztGMRTSPz3y"
   },
   "source": [
    "## 2. Build model\n",
    "\n",
    "Our first PyTorch model!\n",
    "\n",
    "This is very exciting... let's do it!\n",
    "\n",
    "What our model does:\n",
    "* Start with random values (weight & bias)\n",
    "* Look at training data and adjust the random values to better represent (or get closer to) the ideal values (the weight & bias values we used to create the data)\n",
    "\n",
    "How does it do so?\n",
    "\n",
    "Through two main algorithms:\n",
    "1.   Gradient descent\n",
    "2.   Backpropagation"
   ]
  },
  {
   "cell_type": "code",
   "execution_count": 98,
   "metadata": {
    "id": "9_8vQYPXSP-M"
   },
   "outputs": [],
   "source": [
    "# Create linear regression model class\n",
    "class LinearRegressionModel(nn.Module): # <- almost everything in PyTorch inherits from nn.Module\n",
    "    def __init__(self):\n",
    "        super().__init__()\n",
    "        self.weights = nn.Parameter(torch.randn(1,\n",
    "                                               requires_grad=True,\n",
    "                                               dtype=torch.float))\n",
    "        self.bias = nn.Parameter(torch.randn(1,\n",
    "                                             requires_grad=True,\n",
    "                                             dtype=torch.float))\n",
    "\n",
    "    # Forward method to define the computation in the model\n",
    "    def forward(self, x: torch.Tensor) -> torch.Tensor: # <- \"x\" is the input data\n",
    "        return self.weights*x + self.bias # this is the linear regression formula"
   ]
  },
  {
   "cell_type": "markdown",
   "metadata": {
    "id": "lef6us40qgWi"
   },
   "source": [
    "### PyTorch model building essentials\n",
    "\n",
    "* torch.nn - contains all of the buildings for computational graphs (a neural network can be considered a computational graph)\n",
    "* torch.nn.Parameter - what parameters should our model try and learn, often a PyTorch layer from torch.nn will set these for us\n",
    "* torch.nn.Module - These base class for all neural network modules, if you subclass it, you should overwrite forward()\n",
    "* torch.optim - this is where the optimizers in PyTorch live, they will help with gradient descent\n",
    "* def forward() - All nn.Module subclasses require you to overwrite forward(), this method defines what happens in the forward computation"
   ]
  },
  {
   "cell_type": "markdown",
   "metadata": {
    "id": "K5LxNqJsrvf_"
   },
   "source": [
    "### Checking the contents of our PyTorch model\n",
    "\n",
    "Now we've created a model, let's see what's inside...\n",
    "\n",
    "So we can check our model parameters or what's inside our model using `.parameters()`."
   ]
  },
  {
   "cell_type": "code",
   "execution_count": 99,
   "metadata": {
    "colab": {
     "base_uri": "https://localhost:8080/"
    },
    "id": "9wOR3Ze-vr_D",
    "outputId": "098bd3cf-7c3f-4c7a-8110-3c416fc1d876"
   },
   "outputs": [
    {
     "data": {
      "text/plain": [
       "[Parameter containing:\n",
       " tensor([0.3367], requires_grad=True),\n",
       " Parameter containing:\n",
       " tensor([0.1288], requires_grad=True)]"
      ]
     },
     "execution_count": 99,
     "metadata": {},
     "output_type": "execute_result"
    }
   ],
   "source": [
    "# Create a random seed\n",
    "torch.manual_seed(42)\n",
    "\n",
    "# Create an instance of the model (this is a subclass of nn.Module)\n",
    "model_0 = LinearRegressionModel()\n",
    "\n",
    "# Check out the parameters\n",
    "list(model_0.parameters())"
   ]
  },
  {
   "cell_type": "code",
   "execution_count": 100,
   "metadata": {
    "colab": {
     "base_uri": "https://localhost:8080/"
    },
    "id": "BGWUHxMZxbjI",
    "outputId": "7d57f60f-47c2-4219-e8cc-1033f5646ae9"
   },
   "outputs": [
    {
     "data": {
      "text/plain": [
       "OrderedDict([('weights', tensor([0.3367])), ('bias', tensor([0.1288]))])"
      ]
     },
     "execution_count": 100,
     "metadata": {},
     "output_type": "execute_result"
    }
   ],
   "source": [
    "# List named parameters\n",
    "model_0.state_dict()"
   ]
  },
  {
   "cell_type": "code",
   "execution_count": 101,
   "metadata": {
    "colab": {
     "base_uri": "https://localhost:8080/"
    },
    "id": "LIFc-Iu_y0GS",
    "outputId": "e2a55998-ecfa-4789-8580-9e1b9c10e37e"
   },
   "outputs": [
    {
     "data": {
      "text/plain": [
       "(0.7, 0.3)"
      ]
     },
     "execution_count": 101,
     "metadata": {},
     "output_type": "execute_result"
    }
   ],
   "source": [
    "# Ideal values\n",
    "weight, bias"
   ]
  },
  {
   "cell_type": "markdown",
   "metadata": {
    "id": "E8aawxSAz_rd"
   },
   "source": [
    "### Making predictions using `torch.inference_mode()`\n",
    "\n",
    "To check our model's predictive power, let's see how well it predicts `Y_test` based on `X_test`.\n",
    "\n",
    "When we pass data through our model, it's going to run it through the `forward()` method."
   ]
  },
  {
   "cell_type": "code",
   "execution_count": 102,
   "metadata": {
    "colab": {
     "base_uri": "https://localhost:8080/"
    },
    "id": "mgVsi5NB1TC4",
    "outputId": "5f7f8ddf-d36e-47e0-aaca-7654ea6fd20b"
   },
   "outputs": [
    {
     "data": {
      "text/plain": [
       "(tensor([[0.8000],\n",
       "         [0.8200],\n",
       "         [0.8400],\n",
       "         [0.8600],\n",
       "         [0.8800],\n",
       "         [0.9000],\n",
       "         [0.9200],\n",
       "         [0.9400],\n",
       "         [0.9600],\n",
       "         [0.9800]]),\n",
       " tensor([[0.8600],\n",
       "         [0.8740],\n",
       "         [0.8880],\n",
       "         [0.9020],\n",
       "         [0.9160],\n",
       "         [0.9300],\n",
       "         [0.9440],\n",
       "         [0.9580],\n",
       "         [0.9720],\n",
       "         [0.9860]]))"
      ]
     },
     "execution_count": 102,
     "metadata": {},
     "output_type": "execute_result"
    }
   ],
   "source": [
    "X_test, Y_test"
   ]
  },
  {
   "cell_type": "code",
   "execution_count": 103,
   "metadata": {
    "colab": {
     "base_uri": "https://localhost:8080/"
    },
    "id": "tUaQnoYG06iK",
    "outputId": "1616703e-03ab-4ac9-d3f5-7bce27807239"
   },
   "outputs": [
    {
     "data": {
      "text/plain": [
       "tensor([[0.3982],\n",
       "        [0.4049],\n",
       "        [0.4116],\n",
       "        [0.4184],\n",
       "        [0.4251],\n",
       "        [0.4318],\n",
       "        [0.4386],\n",
       "        [0.4453],\n",
       "        [0.4520],\n",
       "        [0.4588]])"
      ]
     },
     "execution_count": 103,
     "metadata": {},
     "output_type": "execute_result"
    }
   ],
   "source": [
    "# Make predictions with model\n",
    "with torch.inference_mode():\n",
    "    Y_preds = model_0(X_test)\n",
    "\n",
    "# You can also do something similar with torch.no_grad(), however, inference_mode() is preferred\n",
    "# with torch.no_grad():\n",
    "#     Y_preds = model_0(X_test)\n",
    "\n",
    "Y_preds"
   ]
  },
  {
   "cell_type": "code",
   "execution_count": 104,
   "metadata": {
    "colab": {
     "base_uri": "https://localhost:8080/",
     "height": 471
    },
    "id": "gsiVETIy10u9",
    "outputId": "c9b45c21-4dca-4638-db9e-a256224276d2"
   },
   "outputs": [
    {
     "data": {
      "image/png": "[encoded data removed]",
      "text/plain": [
       "<Figure size 720x504 with 1 Axes>"
      ]
     },
     "metadata": {
      "needs_background": "light"
     },
     "output_type": "display_data"
    }
   ],
   "source": [
    "plot_predictions(predictions = Y_preds)"
   ]
  },
  {
   "cell_type": "markdown",
   "metadata": {
    "id": "8_mnsij52pe1"
   },
   "source": [
    "## 3. Train model\n",
    "\n",
    "The whole idea of training is for a model to move from some *unknown* paramters (these may be random) to some *known* parameters.\n",
    "\n",
    "Or in other words from a poor representation of the data to a better representation of the data.\n",
    "\n",
    "One way to measure how poor or how wrong your models predictions are is to use a loss function.\n",
    "\n",
    "* Note: Loss function may also be called cost function or criterion in different areas. For our case, we're going to refer to it as a loss function.\n",
    "\n",
    "Things we need to train:\n",
    "\n",
    "* **Loss function:** A function to measure how wrong your model's predictions are to the ideal outputs, lower is better.\n",
    "* **Optimizer:** Takes into account the loss of a model and adjust the model's parameters (e.g. weight & bias in our case) to improve the loss function.\n",
    "    * Inside the optimizer you'll often have to set two parameters:\n",
    "        * `params` - the mode parameters you'd like to optimize, for example `params=model_0.parameters()`\n",
    "        * `lr` (learning rate) - the learning rate is a hyperparameter that defines how big/small the optimizer changes the parameters with each step (a small `lr` results in small changes, a large `lr` results in large changes)\n",
    "\n",
    "And specifically for PyTorch, we need:\n",
    "* A training loop\n",
    "* A testing loop"
   ]
  },
  {
   "cell_type": "code",
   "execution_count": 105,
   "metadata": {
    "colab": {
     "base_uri": "https://localhost:8080/"
    },
    "id": "hRdxOcYG9E5b",
    "outputId": "0206af39-d023-4d68-cd82-5323a522b1eb"
   },
   "outputs": [
    {
     "data": {
      "text/plain": [
       "tensor(0.4945)"
      ]
     },
     "execution_count": 105,
     "metadata": {},
     "output_type": "execute_result"
    }
   ],
   "source": [
    "torch.mean(torch.abs(Y_preds-Y_test))           # Mean Absolute Error"
   ]
  },
  {
   "cell_type": "code",
   "execution_count": 106,
   "metadata": {
    "id": "h2D2IwgX-KIB"
   },
   "outputs": [],
   "source": [
    "# Setup a loss function\n",
    "loss_fn = nn.L1Loss()       # Mean Absolute Error\n",
    "\n",
    "# Setup an optimizer  (stochastic gradient descent)\n",
    "optimizer = torch.optim.SGD(params=model_0.parameters(),\n",
    "                            lr=0.01) # lr = learning rate = possibly the most important hyperparameter you can set"
   ]
  },
  {
   "cell_type": "markdown",
   "metadata": {
    "id": "pyYKiog6BW_8"
   },
   "source": [
    ">   **Q:** Which loss function and optimizer should I use?\n",
    ">\n",
    ">    **A:** This will be problem specific. But with experience, you'll get an idea of what works and what doesn't with your particular problem set.\n",
    ">\n",
    ">    For example, for a regression problem (like ours), a loss function of nn.L1Loss() and an optimizer like `torch.optim.SGD()` will suffice.\n",
    ">\n",
    ">    But for a classification problem like classifying whether a photo is of a dog or a cat, you'll likely want to use a loss function of `nn.BCELoss()` (binary cross entropy loss)."
   ]
  },
  {
   "cell_type": "markdown",
   "metadata": {
    "id": "VZlbbmwGDzRW"
   },
   "source": [
    "### Building a training loop (and a testing loop) in PyTorch\n",
    "\n",
    "A couple of things we need in a training loop:\n",
    "0. Loop through the data and do ...\n",
    "1. Forward pass (this involves data moving through our model's `forward()` functions) to make predictions on data - also called forward propagation\n",
    "2. Calculate the loss (compare forward pass predictions to ground truth labels)\n",
    "3. Optimizer zero grad\n",
    "4. Loss backward - move backwards through the network to calculate the gradients of each of the parameters of our model with respect to the loss (**backpropagation**)\n",
    "5. Optimizer step - use the optimizer to adjust our model's parameters to try and improve the loss (**gradient descent**)"
   ]
  },
  {
   "cell_type": "code",
   "execution_count": 107,
   "metadata": {
    "colab": {
     "base_uri": "https://localhost:8080/"
    },
    "id": "vKsqAwHBFRew",
    "outputId": "43928016-d42d-459c-d222-ae8f202d865e"
   },
   "outputs": [
    {
     "name": "stdout",
     "output_type": "stream",
     "text": [
      "Epoch : 0 | Test : 0.31288138031959534 | Test loss : 0.48106518387794495\n",
      "OrderedDict([('weights', tensor([0.3406])), ('bias', tensor([0.1388]))])\n",
      "Epoch : 10 | Test : 0.1976713240146637 | Test loss : 0.3463551998138428\n",
      "OrderedDict([('weights', tensor([0.3796])), ('bias', tensor([0.2388]))])\n",
      "Epoch : 20 | Test : 0.08908725529909134 | Test loss : 0.21729660034179688\n",
      "OrderedDict([('weights', tensor([0.4184])), ('bias', tensor([0.3333]))])\n",
      "Epoch : 30 | Test : 0.053148526698350906 | Test loss : 0.14464017748832703\n",
      "OrderedDict([('weights', tensor([0.4512])), ('bias', tensor([0.3768]))])\n",
      "Epoch : 40 | Test : 0.04543796554207802 | Test loss : 0.11360953003168106\n",
      "OrderedDict([('weights', tensor([0.4748])), ('bias', tensor([0.3868]))])\n",
      "Epoch : 50 | Test : 0.04167863354086876 | Test loss : 0.09919948130846024\n",
      "OrderedDict([('weights', tensor([0.4938])), ('bias', tensor([0.3843]))])\n",
      "Epoch : 60 | Test : 0.03818932920694351 | Test loss : 0.08886633068323135\n",
      "OrderedDict([('weights', tensor([0.5116])), ('bias', tensor([0.3788]))])\n",
      "Epoch : 70 | Test : 0.03476089984178543 | Test loss : 0.0805937647819519\n",
      "OrderedDict([('weights', tensor([0.5288])), ('bias', tensor([0.3718]))])\n",
      "Epoch : 80 | Test : 0.03132382780313492 | Test loss : 0.07232122868299484\n",
      "OrderedDict([('weights', tensor([0.5459])), ('bias', tensor([0.3648]))])\n",
      "Epoch : 90 | Test : 0.02788739837706089 | Test loss : 0.06473556160926819\n",
      "OrderedDict([('weights', tensor([0.5629])), ('bias', tensor([0.3573]))])\n",
      "Epoch : 100 | Test : 0.024458957836031914 | Test loss : 0.05646304413676262\n",
      "OrderedDict([('weights', tensor([0.5800])), ('bias', tensor([0.3503]))])\n",
      "Epoch : 110 | Test : 0.021020207554101944 | Test loss : 0.04819049686193466\n",
      "OrderedDict([('weights', tensor([0.5972])), ('bias', tensor([0.3433]))])\n",
      "Epoch : 120 | Test : 0.01758546568453312 | Test loss : 0.04060482233762741\n",
      "OrderedDict([('weights', tensor([0.6141])), ('bias', tensor([0.3358]))])\n",
      "Epoch : 130 | Test : 0.014155393466353416 | Test loss : 0.03233227878808975\n",
      "OrderedDict([('weights', tensor([0.6313])), ('bias', tensor([0.3288]))])\n",
      "Epoch : 140 | Test : 0.010716589167714119 | Test loss : 0.024059748277068138\n",
      "OrderedDict([('weights', tensor([0.6485])), ('bias', tensor([0.3218]))])\n",
      "Epoch : 150 | Test : 0.0072835334576666355 | Test loss : 0.016474086791276932\n",
      "OrderedDict([('weights', tensor([0.6654])), ('bias', tensor([0.3143]))])\n",
      "Epoch : 160 | Test : 0.0038517764769494534 | Test loss : 0.008201557211577892\n",
      "OrderedDict([('weights', tensor([0.6826])), ('bias', tensor([0.3073]))])\n",
      "Epoch : 170 | Test : 0.008932482451200485 | Test loss : 0.005023092031478882\n",
      "OrderedDict([('weights', tensor([0.6951])), ('bias', tensor([0.2993]))])\n",
      "Epoch : 180 | Test : 0.008932482451200485 | Test loss : 0.005023092031478882\n",
      "OrderedDict([('weights', tensor([0.6951])), ('bias', tensor([0.2993]))])\n",
      "Epoch : 190 | Test : 0.008932482451200485 | Test loss : 0.005023092031478882\n",
      "OrderedDict([('weights', tensor([0.6951])), ('bias', tensor([0.2993]))])\n"
     ]
    }
   ],
   "source": [
    "# An epochs is one loop through the data ... (this a hyperparameter because we've set it ourselves)\n",
    "epochs = 200\n",
    "\n",
    "# Track different values\n",
    "epoch_count = []\n",
    "loss_values = []\n",
    "test_loss_values = []\n",
    "\n",
    "### Tracking\n",
    "# 0. Loop through the data\n",
    "for epoch in range(epochs):\n",
    "    # Set the model to training mode\n",
    "    model_0.train()  # train mode in PyTorch sets all parameters that require gradients to require gradients\n",
    "\n",
    "    # 1. Forward pass\n",
    "    Y_pred = model_0(X_train)\n",
    "\n",
    "    # 2. Calculate the loss\n",
    "    loss = loss_fn(Y_pred, Y_train)\n",
    "\n",
    "    # 3. Optimizer zero grad (zero the gradients of optimizer)\n",
    "    optimizer.zero_grad()\n",
    "\n",
    "    # 4. Perform backpropagation on the loss with respect to the parameters of the model\n",
    "    loss.backward()\n",
    "\n",
    "    # 5. Step the optimizer (perform gradient descent)\n",
    "    optimizer.step()   # by default how the optimizer changes will accumulate through the loop so... we have to zero them above in step 3 for next iteration of the loop\n",
    "\n",
    "    ### Testing\n",
    "    model_0.eval()   # turns off different settings in the model not needed in evaluation or testing\n",
    "\n",
    "    with torch.inference_mode():    # turns off gradient tracking & a couple more things behind the scenes\n",
    "    # with torch.no_grad():   # you may also seee torch.no_grad() in older PyTorch code\n",
    "        # 1. Do the foward pass\n",
    "        test_pred = model_0(X_test)\n",
    "\n",
    "        # 2. Calculate the loss\n",
    "        test_loss = loss_fn(test_pred, Y_test)\n",
    "\n",
    "    # Print out what's happening\n",
    "    if epoch%10 == 0:\n",
    "        epoch_count.append(epoch)\n",
    "        loss_values.append(loss.detach().numpy())\n",
    "        test_loss_values.append(test_loss.numpy())\n",
    "        print(f\"Epoch : {epoch} | Test : {loss} | Test loss : {test_loss}\")\n",
    "\n",
    "        # Print out model state_dict()\n",
    "        print(model_0.state_dict())"
   ]
  },
  {
   "cell_type": "code",
   "execution_count": 108,
   "metadata": {
    "id": "1R0wnKQq_aLV"
   },
   "outputs": [],
   "source": [
    "with torch.inference_mode():\n",
    "    Y_preds_new = model_0(X_test)"
   ]
  },
  {
   "cell_type": "code",
   "execution_count": 109,
   "metadata": {
    "colab": {
     "base_uri": "https://localhost:8080/",
     "height": 471
    },
    "id": "VAQxxdS-ABkq",
    "outputId": "1d49703e-12e8-4901-8cb3-2b01101e38a9"
   },
   "outputs": [
    {
     "data": {
      "image/png": "[encoded data removed]",
      "text/plain": [
       "<Figure size 720x504 with 1 Axes>"
      ]
     },
     "metadata": {
      "needs_background": "light"
     },
     "output_type": "display_data"
    }
   ],
   "source": [
    "plot_predictions(predictions=Y_preds_new)"
   ]
  },
  {
   "cell_type": "code",
   "execution_count": 110,
   "metadata": {
    "colab": {
     "base_uri": "https://localhost:8080/",
     "height": 489
    },
    "id": "st7kwki7HilB",
    "outputId": "4f20c983-5494-4c39-c722-3db868bb6889"
   },
   "outputs": [
    {
     "data": {
      "text/plain": [
       "<matplotlib.legend.Legend at 0x16b629f10f0>"
      ]
     },
     "execution_count": 110,
     "metadata": {},
     "output_type": "execute_result"
    },
    {
     "data": {
      "image/png": "[encoded data removed]",
      "text/plain": [
       "<Figure size 432x288 with 1 Axes>"
      ]
     },
     "metadata": {
      "needs_background": "light"
     },
     "output_type": "display_data"
    }
   ],
   "source": [
    "# Plot the loss curves\n",
    "plt.plot(epoch_count, loss_values, label=\"Train loss\")\n",
    "plt.plot(epoch_count, test_loss_values, label=\"Test loss\")\n",
    "plt.title(\"Training and test loss curves\")\n",
    "plt.ylabel(\"Loss\")\n",
    "plt.xlabel(\"Epochs\")\n",
    "plt.legend()"
   ]
  },
  {
   "cell_type": "markdown",
   "metadata": {
    "id": "zpoGh19yMAGU"
   },
   "source": [
    "## Saving a model in PyTorch\n",
    "\n",
    "There are three main methods you should about for saving and loading models in PyTorch.\n",
    "\n",
    "1. `torch.save()` - allows you to save a PyTorch object in Python's pickle format\n",
    "2. `torch.load()` - allows you load a saved PyTorch object\n",
    "3. `torch.nn.module.load_state_dict()` - this allows to load a model's saved state dictionary"
   ]
  },
  {
   "cell_type": "code",
   "execution_count": 111,
   "metadata": {
    "colab": {
     "base_uri": "https://localhost:8080/"
    },
    "id": "3Ov_oAPwMIPr",
    "outputId": "26208323-4e20-45ed-8b61-d0a034178606"
   },
   "outputs": [
    {
     "name": "stdout",
     "output_type": "stream",
     "text": [
      "Saving model to : models\\01_pytorch_workflow_model_0.pth\n"
     ]
    }
   ],
   "source": [
    "# Saving our PyTorch model\n",
    "from pathlib import Path\n",
    "\n",
    "# 1. Create models directory\n",
    "MODEL_PATH = Path(\"models\")\n",
    "MODEL_PATH.mkdir(parents=True, exist_ok=True)\n",
    "\n",
    "# 2. Create model save path\n",
    "MODEL_NAME = \"01_pytorch_workflow_model_0.pth\"\n",
    "MODEL_SAVE_PATH = MODEL_PATH / MODEL_NAME\n",
    "\n",
    "# 3. Save the model state dict\n",
    "print(f\"Saving model to : {MODEL_SAVE_PATH}\")\n",
    "torch.save(obj=model_0.state_dict(),\n",
    "           f=MODEL_SAVE_PATH)"
   ]
  },
  {
   "cell_type": "code",
   "execution_count": 112,
   "metadata": {
    "colab": {
     "base_uri": "https://localhost:8080/"
    },
    "id": "DDUgPI6OyIfr",
    "outputId": "6a2c9dbe-4a50-4951-e3d1-0a992addabc4"
   },
   "outputs": [
    {
     "name": "stderr",
     "output_type": "stream",
     "text": [
      "'ls' is not recognized as an internal or external command,\n",
      "operable program or batch file.\n"
     ]
    }
   ],
   "source": [
    "!ls -l models"
   ]
  },
  {
   "cell_type": "markdown",
   "metadata": {
    "id": "H_5Z48mo1eG7"
   },
   "source": [
    "## Loading a PyTorch model\n",
    "\n",
    "Since we saved our model's `state_dict()` rather the entire model, we'll create a new instance of our model class and load the saved`state_dict()` into that"
   ]
  },
  {
   "cell_type": "code",
   "execution_count": 113,
   "metadata": {
    "colab": {
     "base_uri": "https://localhost:8080/"
    },
    "id": "8EWqwq942xvm",
    "outputId": "8c284ff2-cb7c-430f-82ae-1b9f5173f55d"
   },
   "outputs": [
    {
     "data": {
      "text/plain": [
       "OrderedDict([('weights', tensor([0.6990])), ('bias', tensor([0.3093]))])"
      ]
     },
     "execution_count": 113,
     "metadata": {},
     "output_type": "execute_result"
    }
   ],
   "source": [
    "model_0.state_dict()"
   ]
  },
  {
   "cell_type": "code",
   "execution_count": 114,
   "metadata": {
    "colab": {
     "base_uri": "https://localhost:8080/"
    },
    "id": "TZFe9Efe3Dcc",
    "outputId": "2a7932fd-e430-4915-f35a-1b6eaefb7a88"
   },
   "outputs": [
    {
     "data": {
      "text/plain": [
       "<All keys matched successfully>"
      ]
     },
     "execution_count": 114,
     "metadata": {},
     "output_type": "execute_result"
    }
   ],
   "source": [
    "# To load in a saved state_dict we have to instantiate a new instance of our model class\n",
    "loaded_model_0 = LinearRegressionModel()\n",
    "\n",
    "# Load the saved state_dict of model_0 (this will update the new instance with updated parameters)\n",
    "loaded_model_0.load_state_dict(torch.load(f=MODEL_SAVE_PATH))"
   ]
  },
  {
   "cell_type": "code",
   "execution_count": 115,
   "metadata": {
    "colab": {
     "base_uri": "https://localhost:8080/"
    },
    "id": "5KazwNUt4HMu",
    "outputId": "7618430b-c1d6-4991-f420-a10ac06750ab"
   },
   "outputs": [
    {
     "data": {
      "text/plain": [
       "OrderedDict([('weights', tensor([0.6990])), ('bias', tensor([0.3093]))])"
      ]
     },
     "execution_count": 115,
     "metadata": {},
     "output_type": "execute_result"
    }
   ],
   "source": [
    "loaded_model_0.state_dict()"
   ]
  },
  {
   "cell_type": "code",
   "execution_count": 116,
   "metadata": {
    "colab": {
     "base_uri": "https://localhost:8080/"
    },
    "id": "RCsKkgIl4Jb8",
    "outputId": "82768553-ba33-4d93-b742-f62105d63a0f"
   },
   "outputs": [
    {
     "data": {
      "text/plain": [
       "tensor([[0.8685],\n",
       "        [0.8825],\n",
       "        [0.8965],\n",
       "        [0.9105],\n",
       "        [0.9245],\n",
       "        [0.9384],\n",
       "        [0.9524],\n",
       "        [0.9664],\n",
       "        [0.9804],\n",
       "        [0.9944]])"
      ]
     },
     "execution_count": 116,
     "metadata": {},
     "output_type": "execute_result"
    }
   ],
   "source": [
    "# Make some predicitons with our loaded model\n",
    "loaded_model_0.eval()\n",
    "\n",
    "with torch.inference_mode():\n",
    "    loaded_model_preds = loaded_model_0(X_test)\n",
    "\n",
    "loaded_model_preds"
   ]
  },
  {
   "cell_type": "code",
   "execution_count": 117,
   "metadata": {
    "colab": {
     "base_uri": "https://localhost:8080/"
    },
    "id": "kv8IAt244vJ4",
    "outputId": "e3a5452d-92e1-47e9-ef7d-acbe4de69be0"
   },
   "outputs": [
    {
     "data": {
      "text/plain": [
       "tensor([[True],\n",
       "        [True],\n",
       "        [True],\n",
       "        [True],\n",
       "        [True],\n",
       "        [True],\n",
       "        [True],\n",
       "        [True],\n",
       "        [True],\n",
       "        [True]])"
      ]
     },
     "execution_count": 117,
     "metadata": {},
     "output_type": "execute_result"
    }
   ],
   "source": [
    "# Compare loaded model preds with original model preds\n",
    "test_pred == loaded_model_preds"
   ]
  },
  {
   "cell_type": "markdown",
   "metadata": {
    "id": "jo0IqX3-5i50"
   },
   "source": [
    "## 6. Putting it all together\n",
    "\n",
    "Let's go back through the steps above and see it all in one place"
   ]
  },
  {
   "cell_type": "code",
   "execution_count": 118,
   "metadata": {
    "colab": {
     "base_uri": "https://localhost:8080/",
     "height": 36
    },
    "id": "dB8m1sGN6ksy",
    "outputId": "2f52d024-67ac-40f8-d824-4eb93aeafe02"
   },
   "outputs": [
    {
     "data": {
      "text/plain": [
       "'2.0.1+cu118'"
      ]
     },
     "execution_count": 118,
     "metadata": {},
     "output_type": "execute_result"
    }
   ],
   "source": [
    "# Import PyTorch and matplotlib\n",
    "\n",
    "# Check PyTorch version\n",
    "torch.__version__"
   ]
  },
  {
   "cell_type": "markdown",
   "metadata": {
    "id": "08_HlbYx7mLo"
   },
   "source": [
    "Create device-agnostic code.\n",
    "\n",
    "This means if we've got access to a gpu, our code will use it (for potentially faster computing)\n",
    "\n",
    "If no GPU is available, the code will default to using CPU"
   ]
  },
  {
   "cell_type": "code",
   "execution_count": 119,
   "metadata": {
    "colab": {
     "base_uri": "https://localhost:8080/"
    },
    "id": "vc6RWWto75zi",
    "outputId": "74ed1f13-231a-47be-9e3c-6f011660a38f"
   },
   "outputs": [
    {
     "name": "stdout",
     "output_type": "stream",
     "text": [
      "Using device : cuda\n"
     ]
    }
   ],
   "source": [
    "# Setup device agnostic code\n",
    "device = \"cuda\" if torch.cuda.is_available() else \"cpu\"\n",
    "print(f\"Using device : {device}\")"
   ]
  },
  {
   "cell_type": "markdown",
   "metadata": {
    "id": "ebsmlX8d7VHD"
   },
   "source": [
    "### 6.1 Data"
   ]
  },
  {
   "cell_type": "code",
   "execution_count": 120,
   "metadata": {
    "colab": {
     "base_uri": "https://localhost:8080/"
    },
    "id": "0QaWJVnO8xNf",
    "outputId": "81e80939-b90d-4287-f047-431dfd1ccdbf"
   },
   "outputs": [
    {
     "data": {
      "text/plain": [
       "(tensor([[0.0000],\n",
       "         [0.0200],\n",
       "         [0.0400],\n",
       "         [0.0600],\n",
       "         [0.0800],\n",
       "         [0.1000],\n",
       "         [0.1200],\n",
       "         [0.1400],\n",
       "         [0.1600],\n",
       "         [0.1800]]),\n",
       " tensor([[0.1000],\n",
       "         [0.1040],\n",
       "         [0.1080],\n",
       "         [0.1120],\n",
       "         [0.1160],\n",
       "         [0.1200],\n",
       "         [0.1240],\n",
       "         [0.1280],\n",
       "         [0.1320],\n",
       "         [0.1360]]))"
      ]
     },
     "execution_count": 120,
     "metadata": {},
     "output_type": "execute_result"
    }
   ],
   "source": [
    "# Create some data using the linear regression of y = weight * X + bias\n",
    "weight = 0.2\n",
    "bias = 0.1\n",
    "\n",
    "# Create range values\n",
    "start = 0\n",
    "end = 1\n",
    "step = 0.02\n",
    "\n",
    "# Create X and Y (features and labels)\n",
    "X = torch.arange(start, end, step).unsqueeze(dim=1)     # without unsqueeze, errors will pop-up\n",
    "Y = weight * X + bias\n",
    "\n",
    "X[:10], Y[:10]"
   ]
  },
  {
   "cell_type": "code",
   "execution_count": 121,
   "metadata": {
    "colab": {
     "base_uri": "https://localhost:8080/"
    },
    "id": "sg_r0MKV-U0l",
    "outputId": "61c214db-b32f-4644-c30f-55acd93eb877"
   },
   "outputs": [
    {
     "data": {
      "text/plain": [
       "(40, 40, 10, 10)"
      ]
     },
     "execution_count": 121,
     "metadata": {},
     "output_type": "execute_result"
    }
   ],
   "source": [
    "# Split data\n",
    "train_split = int(0.8 * len(X))\n",
    "X_train, Y_train = X[:train_split], Y[:train_split]\n",
    "X_test, Y_test = X[train_split:], Y[train_split:]\n",
    "\n",
    "len(X_train), len(Y_train), len(X_test), len(Y_test)"
   ]
  },
  {
   "cell_type": "code",
   "execution_count": 122,
   "metadata": {
    "colab": {
     "base_uri": "https://localhost:8080/",
     "height": 461
    },
    "id": "VZ-LqIJS-7jM",
    "outputId": "cc2b4022-3637-4817-97cf-b40001a9f679"
   },
   "outputs": [
    {
     "data": {
      "image/png": "[encoded data removed]",
      "text/plain": [
       "<Figure size 720x504 with 1 Axes>"
      ]
     },
     "metadata": {
      "needs_background": "light"
     },
     "output_type": "display_data"
    }
   ],
   "source": [
    "# Plot the data\n",
    "# Note : if you don't have the plot_predictions() function loaded, this will error\n",
    "\n",
    "plot_predictions(X_train, Y_train, X_test, Y_test)"
   ]
  },
  {
   "cell_type": "markdown",
   "metadata": {
    "id": "7E_GpwwW_Vsz"
   },
   "source": [
    "### 6.2 Building a PyTorch Linear model"
   ]
  },
  {
   "cell_type": "code",
   "execution_count": 123,
   "metadata": {
    "colab": {
     "base_uri": "https://localhost:8080/"
    },
    "id": "mezICuIyAEKT",
    "outputId": "4bfc1a23-285d-45bd-837a-49683f1cb7c6"
   },
   "outputs": [
    {
     "data": {
      "text/plain": [
       "(LinearRegressionModelV2(\n",
       "   (linear_layer): Linear(in_features=1, out_features=1, bias=True)\n",
       " ),\n",
       " OrderedDict([('linear_layer.weight', tensor([[0.7645]])),\n",
       "              ('linear_layer.bias', tensor([0.8300]))]))"
      ]
     },
     "execution_count": 123,
     "metadata": {},
     "output_type": "execute_result"
    }
   ],
   "source": [
    "# Create a linear model by subclassing nn.Module\n",
    "class LinearRegressionModelV2(nn.Module):\n",
    "    def __init__(self):\n",
    "        super().__init__()\n",
    "\n",
    "        # Use nn.Linear() for creating the model parameters / also called : linear transform, probing layer, fully connected layer, dense layer\n",
    "        self.linear_layer = nn.Linear(in_features=1,        # Input of size 1\n",
    "                                      out_features=1)        # Output of size 1\n",
    "\n",
    "    def forward(self, x: torch.tensor) -> torch.tensor:\n",
    "        return self.linear_layer(x)\n",
    "\n",
    "# Set the manual seed\n",
    "torch.manual_seed(42)\n",
    "model_1 = LinearRegressionModelV2()\n",
    "model_1, model_1.state_dict()"
   ]
  },
  {
   "cell_type": "code",
   "execution_count": 124,
   "metadata": {
    "colab": {
     "base_uri": "https://localhost:8080/"
    },
    "id": "ButQwPIJHHHd",
    "outputId": "55c59a36-93e7-4f84-caba-cf19110283d6"
   },
   "outputs": [
    {
     "data": {
      "text/plain": [
       "device(type='cpu')"
      ]
     },
     "execution_count": 124,
     "metadata": {},
     "output_type": "execute_result"
    }
   ],
   "source": [
    "# Check the model current device\n",
    "next(model_1.parameters()).device"
   ]
  },
  {
   "cell_type": "code",
   "execution_count": 125,
   "metadata": {
    "colab": {
     "base_uri": "https://localhost:8080/"
    },
    "id": "A67Mj7NEE6Pu",
    "outputId": "5631dda3-49cd-43dc-e82c-8963e6d84b51"
   },
   "outputs": [
    {
     "data": {
      "text/plain": [
       "device(type='cuda', index=0)"
      ]
     },
     "execution_count": 125,
     "metadata": {},
     "output_type": "execute_result"
    }
   ],
   "source": [
    "# Set the model to use the target device\n",
    "model_1.to(device)\n",
    "next(model_1.parameters()).device"
   ]
  },
  {
   "cell_type": "markdown",
   "metadata": {
    "id": "6rtt88JqIKXa"
   },
   "source": [
    "### 6.3 Training\n",
    "\n",
    "For training we need:\n",
    "* Loss function\n",
    "* Optimizer\n",
    "* Training loop\n",
    "* Testing loop"
   ]
  },
  {
   "cell_type": "code",
   "execution_count": 126,
   "metadata": {
    "id": "kHWMWaqDIYLS"
   },
   "outputs": [],
   "source": [
    "# Setup loss function\n",
    "loss_fn = nn.L1Loss()\n",
    "\n",
    "# Setup our optimizer\n",
    "optimizer = torch.optim.SGD(params = model_1.parameters(), lr = 0.003)"
   ]
  },
  {
   "cell_type": "code",
   "execution_count": 127,
   "metadata": {
    "colab": {
     "base_uri": "https://localhost:8080/"
    },
    "id": "5cPqg-YFJHgf",
    "outputId": "136577b1-ffef-41e3-fec0-78385a2a4f56"
   },
   "outputs": [
    {
     "name": "stdout",
     "output_type": "stream",
     "text": [
      "Epoch : 0 | Loss : 0.9501779675483704 | Test loss : 1.2284059524536133\n",
      "Epoch : 1 | Loss : 0.9467216730117798 | Test loss : 1.2243646383285522\n",
      "Epoch : 2 | Loss : 0.9432653784751892 | Test loss : 1.2203234434127808\n",
      "Epoch : 3 | Loss : 0.9398090243339539 | Test loss : 1.2162821292877197\n",
      "Epoch : 4 | Loss : 0.9363526701927185 | Test loss : 1.2122406959533691\n",
      "Epoch : 5 | Loss : 0.9328964352607727 | Test loss : 1.2081995010375977\n",
      "Epoch : 6 | Loss : 0.9294400215148926 | Test loss : 1.204158067703247\n",
      "Epoch : 7 | Loss : 0.925983726978302 | Test loss : 1.200116753578186\n",
      "Epoch : 8 | Loss : 0.9225274324417114 | Test loss : 1.196075439453125\n",
      "Epoch : 9 | Loss : 0.9190711379051208 | Test loss : 1.192034125328064\n",
      "Epoch : 10 | Loss : 0.9156147837638855 | Test loss : 1.1879929304122925\n",
      "Epoch : 11 | Loss : 0.9121584892272949 | Test loss : 1.1839516162872314\n",
      "Epoch : 12 | Loss : 0.9087021946907043 | Test loss : 1.1799103021621704\n",
      "Epoch : 13 | Loss : 0.9052457809448242 | Test loss : 1.1758689880371094\n",
      "Epoch : 14 | Loss : 0.9017894864082336 | Test loss : 1.1718276739120483\n",
      "Epoch : 15 | Loss : 0.8983331918716431 | Test loss : 1.1677864789962769\n",
      "Epoch : 16 | Loss : 0.8948769569396973 | Test loss : 1.1637451648712158\n",
      "Epoch : 17 | Loss : 0.8914206624031067 | Test loss : 1.1597038507461548\n",
      "Epoch : 18 | Loss : 0.8879642486572266 | Test loss : 1.1556625366210938\n",
      "Epoch : 19 | Loss : 0.884507954120636 | Test loss : 1.1516211032867432\n",
      "Epoch : 20 | Loss : 0.8810516595840454 | Test loss : 1.1475800275802612\n",
      "Epoch : 21 | Loss : 0.8775953650474548 | Test loss : 1.143538475036621\n",
      "Epoch : 22 | Loss : 0.8741390109062195 | Test loss : 1.13949716091156\n",
      "Epoch : 23 | Loss : 0.8706827163696289 | Test loss : 1.1354559659957886\n",
      "Epoch : 24 | Loss : 0.8672264218330383 | Test loss : 1.1314146518707275\n",
      "Epoch : 25 | Loss : 0.8637701272964478 | Test loss : 1.1273733377456665\n",
      "Epoch : 26 | Loss : 0.8603138327598572 | Test loss : 1.1233320236206055\n",
      "Epoch : 27 | Loss : 0.8568574786186218 | Test loss : 1.1192907094955444\n",
      "Epoch : 28 | Loss : 0.8534011840820312 | Test loss : 1.115249514579773\n",
      "Epoch : 29 | Loss : 0.8499448895454407 | Test loss : 1.111208200454712\n",
      "Epoch : 30 | Loss : 0.8464885950088501 | Test loss : 1.1071668863296509\n",
      "Epoch : 31 | Loss : 0.8430323004722595 | Test loss : 1.1031255722045898\n",
      "Epoch : 32 | Loss : 0.8395759463310242 | Test loss : 1.0990841388702393\n",
      "Epoch : 33 | Loss : 0.8361196517944336 | Test loss : 1.0950430631637573\n",
      "Epoch : 34 | Loss : 0.832663357257843 | Test loss : 1.0910015106201172\n",
      "Epoch : 35 | Loss : 0.8292070627212524 | Test loss : 1.0869601964950562\n",
      "Epoch : 36 | Loss : 0.8257506489753723 | Test loss : 1.0829190015792847\n",
      "Epoch : 37 | Loss : 0.8222943544387817 | Test loss : 1.0788776874542236\n",
      "Epoch : 38 | Loss : 0.8188380599021912 | Test loss : 1.0748363733291626\n",
      "Epoch : 39 | Loss : 0.8153817057609558 | Test loss : 1.0707950592041016\n",
      "Epoch : 40 | Loss : 0.8119254112243652 | Test loss : 1.0667537450790405\n",
      "Epoch : 41 | Loss : 0.8084691166877747 | Test loss : 1.062712550163269\n",
      "Epoch : 42 | Loss : 0.8050128221511841 | Test loss : 1.058671236038208\n",
      "Epoch : 43 | Loss : 0.8015565276145935 | Test loss : 1.054629921913147\n",
      "Epoch : 44 | Loss : 0.7981001734733582 | Test loss : 1.050588607788086\n",
      "Epoch : 45 | Loss : 0.7946438193321228 | Test loss : 1.046547293663025\n",
      "Epoch : 46 | Loss : 0.7911875247955322 | Test loss : 1.0425060987472534\n",
      "Epoch : 47 | Loss : 0.7877312302589417 | Test loss : 1.0384647846221924\n",
      "Epoch : 48 | Loss : 0.7842748761177063 | Test loss : 1.0344233512878418\n",
      "Epoch : 49 | Loss : 0.7808185815811157 | Test loss : 1.0303820371627808\n",
      "Epoch : 50 | Loss : 0.7773622870445251 | Test loss : 1.0263407230377197\n",
      "Epoch : 51 | Loss : 0.7739059925079346 | Test loss : 1.0222995281219482\n",
      "Epoch : 52 | Loss : 0.7704496383666992 | Test loss : 1.0182580947875977\n",
      "Epoch : 53 | Loss : 0.7669933438301086 | Test loss : 1.0142168998718262\n",
      "Epoch : 54 | Loss : 0.7635371088981628 | Test loss : 1.0101755857467651\n",
      "Epoch : 55 | Loss : 0.7600807547569275 | Test loss : 1.0061343908309937\n",
      "Epoch : 56 | Loss : 0.7566244006156921 | Test loss : 1.002092957496643\n",
      "Epoch : 57 | Loss : 0.7531681060791016 | Test loss : 0.998051643371582\n",
      "Epoch : 58 | Loss : 0.7497117519378662 | Test loss : 0.9940103888511658\n",
      "Epoch : 59 | Loss : 0.7462554574012756 | Test loss : 0.9899690747261047\n",
      "Epoch : 60 | Loss : 0.7427992224693298 | Test loss : 0.9859277606010437\n",
      "Epoch : 61 | Loss : 0.7393428683280945 | Test loss : 0.9818863868713379\n",
      "Epoch : 62 | Loss : 0.7358865141868591 | Test loss : 0.9778451919555664\n",
      "Epoch : 63 | Loss : 0.7324301600456238 | Test loss : 0.9738038182258606\n",
      "Epoch : 64 | Loss : 0.7289738655090332 | Test loss : 0.9697626233100891\n",
      "Epoch : 65 | Loss : 0.7255176305770874 | Test loss : 0.9657212495803833\n",
      "Epoch : 66 | Loss : 0.7220613360404968 | Test loss : 0.9616799354553223\n",
      "Epoch : 67 | Loss : 0.7186049818992615 | Test loss : 0.9576385617256165\n",
      "Epoch : 68 | Loss : 0.7151486277580261 | Test loss : 0.953597366809845\n",
      "Epoch : 69 | Loss : 0.7116923332214355 | Test loss : 0.9495559930801392\n",
      "Epoch : 70 | Loss : 0.7082359790802002 | Test loss : 0.9455146789550781\n",
      "Epoch : 71 | Loss : 0.7047797441482544 | Test loss : 0.9414734244346619\n",
      "Epoch : 72 | Loss : 0.701323390007019 | Test loss : 0.9374321103096008\n",
      "Epoch : 73 | Loss : 0.6978670954704285 | Test loss : 0.9333907961845398\n",
      "Epoch : 74 | Loss : 0.6944108009338379 | Test loss : 0.929349422454834\n",
      "Epoch : 75 | Loss : 0.6909545063972473 | Test loss : 0.9253082275390625\n",
      "Epoch : 76 | Loss : 0.6874982118606567 | Test loss : 0.9212669730186462\n",
      "Epoch : 77 | Loss : 0.6840418577194214 | Test loss : 0.9172255396842957\n",
      "Epoch : 78 | Loss : 0.6805855631828308 | Test loss : 0.9131842851638794\n",
      "Epoch : 79 | Loss : 0.6771292090415955 | Test loss : 0.9091430902481079\n",
      "Epoch : 80 | Loss : 0.6736728549003601 | Test loss : 0.9051017165184021\n",
      "Epoch : 81 | Loss : 0.6702165603637695 | Test loss : 0.9010602831840515\n",
      "Epoch : 82 | Loss : 0.666760265827179 | Test loss : 0.8970190286636353\n",
      "Epoch : 83 | Loss : 0.6633039712905884 | Test loss : 0.8929778337478638\n",
      "Epoch : 84 | Loss : 0.6598476767539978 | Test loss : 0.888936460018158\n",
      "Epoch : 85 | Loss : 0.6563913226127625 | Test loss : 0.8848951458930969\n",
      "Epoch : 86 | Loss : 0.6529350280761719 | Test loss : 0.8808538317680359\n",
      "Epoch : 87 | Loss : 0.6494786739349365 | Test loss : 0.8768125772476196\n",
      "Epoch : 88 | Loss : 0.6460224390029907 | Test loss : 0.8727712631225586\n",
      "Epoch : 89 | Loss : 0.6425661444664001 | Test loss : 0.8687300086021423\n",
      "Epoch : 90 | Loss : 0.63910973072052 | Test loss : 0.8646886944770813\n",
      "Epoch : 91 | Loss : 0.6356534361839294 | Test loss : 0.8606473803520203\n",
      "Epoch : 92 | Loss : 0.6321972012519836 | Test loss : 0.856606125831604\n",
      "Epoch : 93 | Loss : 0.6287407875061035 | Test loss : 0.8525647521018982\n",
      "Epoch : 94 | Loss : 0.6252844929695129 | Test loss : 0.8485235571861267\n",
      "Epoch : 95 | Loss : 0.6218281984329224 | Test loss : 0.8444821238517761\n",
      "Epoch : 96 | Loss : 0.6183719038963318 | Test loss : 0.8404408693313599\n",
      "Epoch : 97 | Loss : 0.6149155497550964 | Test loss : 0.836399495601654\n",
      "Epoch : 98 | Loss : 0.6114592552185059 | Test loss : 0.832358181476593\n",
      "Epoch : 99 | Loss : 0.6080029606819153 | Test loss : 0.828316867351532\n",
      "Epoch : 100 | Loss : 0.6045466661453247 | Test loss : 0.8242756724357605\n",
      "Epoch : 101 | Loss : 0.6010903716087341 | Test loss : 0.8202342987060547\n",
      "Epoch : 102 | Loss : 0.5976340174674988 | Test loss : 0.8161930441856384\n",
      "Epoch : 103 | Loss : 0.5941777229309082 | Test loss : 0.8121517300605774\n",
      "Epoch : 104 | Loss : 0.5907213687896729 | Test loss : 0.8081104159355164\n",
      "Epoch : 105 | Loss : 0.5872650146484375 | Test loss : 0.8040691614151001\n",
      "Epoch : 106 | Loss : 0.5838087797164917 | Test loss : 0.8000277876853943\n",
      "Epoch : 107 | Loss : 0.5803524255752563 | Test loss : 0.7959864735603333\n",
      "Epoch : 108 | Loss : 0.5768961310386658 | Test loss : 0.7919451594352722\n",
      "Epoch : 109 | Loss : 0.5734398365020752 | Test loss : 0.7879039645195007\n",
      "Epoch : 110 | Loss : 0.5699834823608398 | Test loss : 0.7838625907897949\n",
      "Epoch : 111 | Loss : 0.566527247428894 | Test loss : 0.7798213362693787\n",
      "Epoch : 112 | Loss : 0.5630709528923035 | Test loss : 0.7757801413536072\n",
      "Epoch : 113 | Loss : 0.5596146583557129 | Test loss : 0.7717388272285461\n",
      "Epoch : 114 | Loss : 0.5561584234237671 | Test loss : 0.7676975131034851\n",
      "Epoch : 115 | Loss : 0.5527020692825317 | Test loss : 0.7636563181877136\n",
      "Epoch : 116 | Loss : 0.5492458343505859 | Test loss : 0.7596149444580078\n",
      "Epoch : 117 | Loss : 0.5457895398139954 | Test loss : 0.7555737495422363\n",
      "Epoch : 118 | Loss : 0.5423332452774048 | Test loss : 0.7515324354171753\n",
      "Epoch : 119 | Loss : 0.5388769507408142 | Test loss : 0.747491180896759\n",
      "Epoch : 120 | Loss : 0.5354206562042236 | Test loss : 0.743449866771698\n",
      "Epoch : 121 | Loss : 0.5319644212722778 | Test loss : 0.7394086122512817\n",
      "Epoch : 122 | Loss : 0.5285081267356873 | Test loss : 0.7353672981262207\n",
      "Epoch : 123 | Loss : 0.5250517725944519 | Test loss : 0.7313261032104492\n",
      "Epoch : 124 | Loss : 0.5215955972671509 | Test loss : 0.727284848690033\n",
      "Epoch : 125 | Loss : 0.5181393027305603 | Test loss : 0.7232435345649719\n",
      "Epoch : 126 | Loss : 0.514682948589325 | Test loss : 0.7192022800445557\n",
      "Epoch : 127 | Loss : 0.5112266540527344 | Test loss : 0.7151610255241394\n",
      "Epoch : 128 | Loss : 0.5077704787254333 | Test loss : 0.7111197113990784\n",
      "Epoch : 129 | Loss : 0.504314124584198 | Test loss : 0.7070784568786621\n",
      "Epoch : 130 | Loss : 0.5008578300476074 | Test loss : 0.7030372023582458\n",
      "Epoch : 131 | Loss : 0.49740153551101685 | Test loss : 0.6989958882331848\n",
      "Epoch : 132 | Loss : 0.49394527077674866 | Test loss : 0.6949546337127686\n",
      "Epoch : 133 | Loss : 0.4904889762401581 | Test loss : 0.6909133791923523\n",
      "Epoch : 134 | Loss : 0.4870327115058899 | Test loss : 0.6868720650672913\n",
      "Epoch : 135 | Loss : 0.4835764467716217 | Test loss : 0.682830810546875\n",
      "Epoch : 136 | Loss : 0.48012015223503113 | Test loss : 0.678789496421814\n",
      "Epoch : 137 | Loss : 0.47666382789611816 | Test loss : 0.6747482419013977\n",
      "Epoch : 138 | Loss : 0.47320756316185 | Test loss : 0.6707069873809814\n",
      "Epoch : 139 | Loss : 0.4697512686252594 | Test loss : 0.6666657328605652\n",
      "Epoch : 140 | Loss : 0.4662950038909912 | Test loss : 0.6626244783401489\n",
      "Epoch : 141 | Loss : 0.46283870935440063 | Test loss : 0.6585831642150879\n",
      "Epoch : 142 | Loss : 0.45938244462013245 | Test loss : 0.6545419096946716\n",
      "Epoch : 143 | Loss : 0.45592615008354187 | Test loss : 0.6505006551742554\n",
      "Epoch : 144 | Loss : 0.4524698853492737 | Test loss : 0.6464593410491943\n",
      "Epoch : 145 | Loss : 0.4490135610103607 | Test loss : 0.6424180865287781\n",
      "Epoch : 146 | Loss : 0.4455573260784149 | Test loss : 0.6383768320083618\n"
     ]
    },
    {
     "name": "stdout",
     "output_type": "stream",
     "text": [
      "Epoch : 147 | Loss : 0.44210100173950195 | Test loss : 0.6343355178833008\n",
      "Epoch : 148 | Loss : 0.43864473700523376 | Test loss : 0.6302942633628845\n",
      "Epoch : 149 | Loss : 0.43518850207328796 | Test loss : 0.6262530088424683\n",
      "Epoch : 150 | Loss : 0.4317321479320526 | Test loss : 0.6222116947174072\n",
      "Epoch : 151 | Loss : 0.4282759130001068 | Test loss : 0.618170440196991\n",
      "Epoch : 152 | Loss : 0.42481961846351624 | Test loss : 0.6141291856765747\n",
      "Epoch : 153 | Loss : 0.42136332392692566 | Test loss : 0.6100878715515137\n",
      "Epoch : 154 | Loss : 0.41790705919265747 | Test loss : 0.6060466170310974\n",
      "Epoch : 155 | Loss : 0.4144507348537445 | Test loss : 0.6020053625106812\n",
      "Epoch : 156 | Loss : 0.4109944999217987 | Test loss : 0.5979641079902649\n",
      "Epoch : 157 | Loss : 0.40753817558288574 | Test loss : 0.5939227938652039\n",
      "Epoch : 158 | Loss : 0.40408191084861755 | Test loss : 0.5898815393447876\n",
      "Epoch : 159 | Loss : 0.400625616312027 | Test loss : 0.5858402252197266\n",
      "Epoch : 160 | Loss : 0.3971693515777588 | Test loss : 0.5817989706993103\n",
      "Epoch : 161 | Loss : 0.3937130570411682 | Test loss : 0.577757716178894\n",
      "Epoch : 162 | Loss : 0.39025676250457764 | Test loss : 0.5737164616584778\n",
      "Epoch : 163 | Loss : 0.38680049777030945 | Test loss : 0.5696751475334167\n",
      "Epoch : 164 | Loss : 0.38334423303604126 | Test loss : 0.5656338930130005\n",
      "Epoch : 165 | Loss : 0.3798879384994507 | Test loss : 0.5615925788879395\n",
      "Epoch : 166 | Loss : 0.3764316737651825 | Test loss : 0.5575513243675232\n",
      "Epoch : 167 | Loss : 0.3729753792285919 | Test loss : 0.5535100698471069\n",
      "Epoch : 168 | Loss : 0.36951908469200134 | Test loss : 0.5494687557220459\n",
      "Epoch : 169 | Loss : 0.3660627603530884 | Test loss : 0.5454275012016296\n",
      "Epoch : 170 | Loss : 0.3626064956188202 | Test loss : 0.5413862466812134\n",
      "Epoch : 171 | Loss : 0.359150230884552 | Test loss : 0.5373449325561523\n",
      "Epoch : 172 | Loss : 0.3556939363479614 | Test loss : 0.5333036780357361\n",
      "Epoch : 173 | Loss : 0.35223767161369324 | Test loss : 0.5292624235153198\n",
      "Epoch : 174 | Loss : 0.34878140687942505 | Test loss : 0.5252211689949036\n",
      "Epoch : 175 | Loss : 0.3453250825405121 | Test loss : 0.5211798548698425\n",
      "Epoch : 176 | Loss : 0.3418688476085663 | Test loss : 0.5171386003494263\n",
      "Epoch : 177 | Loss : 0.3384125232696533 | Test loss : 0.51309734582901\n",
      "Epoch : 178 | Loss : 0.33495625853538513 | Test loss : 0.5090560913085938\n",
      "Epoch : 179 | Loss : 0.33149996399879456 | Test loss : 0.5050148367881775\n",
      "Epoch : 180 | Loss : 0.328043669462204 | Test loss : 0.5009735226631165\n",
      "Epoch : 181 | Loss : 0.3245874047279358 | Test loss : 0.4969322383403778\n",
      "Epoch : 182 | Loss : 0.3211311101913452 | Test loss : 0.49289098381996155\n",
      "Epoch : 183 | Loss : 0.317674845457077 | Test loss : 0.4888496994972229\n",
      "Epoch : 184 | Loss : 0.31421852111816406 | Test loss : 0.48480841517448425\n",
      "Epoch : 185 | Loss : 0.3107622563838959 | Test loss : 0.480767160654068\n",
      "Epoch : 186 | Loss : 0.3073059618473053 | Test loss : 0.47672587633132935\n",
      "Epoch : 187 | Loss : 0.3038496971130371 | Test loss : 0.4726845920085907\n",
      "Epoch : 188 | Loss : 0.30039340257644653 | Test loss : 0.46864333748817444\n",
      "Epoch : 189 | Loss : 0.29693713784217834 | Test loss : 0.4646020829677582\n",
      "Epoch : 190 | Loss : 0.29348084330558777 | Test loss : 0.46056079864501953\n",
      "Epoch : 191 | Loss : 0.2900245785713196 | Test loss : 0.4565195143222809\n",
      "Epoch : 192 | Loss : 0.2865682542324066 | Test loss : 0.45247822999954224\n",
      "Epoch : 193 | Loss : 0.2831120193004608 | Test loss : 0.4484369456768036\n",
      "Epoch : 194 | Loss : 0.27965569496154785 | Test loss : 0.44439563155174255\n",
      "Epoch : 195 | Loss : 0.2761994004249573 | Test loss : 0.4403543472290039\n",
      "Epoch : 196 | Loss : 0.2727431058883667 | Test loss : 0.43631306290626526\n",
      "Epoch : 197 | Loss : 0.2692868411540985 | Test loss : 0.4322717785835266\n",
      "Epoch : 198 | Loss : 0.26583051681518555 | Test loss : 0.42823052406311035\n",
      "Epoch : 199 | Loss : 0.26237422227859497 | Test loss : 0.42418918013572693\n",
      "Epoch : 200 | Loss : 0.258917897939682 | Test loss : 0.42014795541763306\n",
      "Epoch : 201 | Loss : 0.25546160340309143 | Test loss : 0.4161066710948944\n",
      "Epoch : 202 | Loss : 0.25200530886650085 | Test loss : 0.4120653569698334\n",
      "Epoch : 203 | Loss : 0.24854901432991028 | Test loss : 0.4080240726470947\n",
      "Epoch : 204 | Loss : 0.2450927048921585 | Test loss : 0.4039827287197113\n",
      "Epoch : 205 | Loss : 0.24163642525672913 | Test loss : 0.39994147419929504\n",
      "Epoch : 206 | Loss : 0.23818011581897736 | Test loss : 0.3959002196788788\n",
      "Epoch : 207 | Loss : 0.23472380638122559 | Test loss : 0.39185890555381775\n",
      "Epoch : 208 | Loss : 0.2312675267457962 | Test loss : 0.3878176212310791\n",
      "Epoch : 209 | Loss : 0.22781121730804443 | Test loss : 0.38377633690834045\n",
      "Epoch : 210 | Loss : 0.22435493767261505 | Test loss : 0.3797350525856018\n",
      "Epoch : 211 | Loss : 0.22089862823486328 | Test loss : 0.37569376826286316\n",
      "Epoch : 212 | Loss : 0.2174423187971115 | Test loss : 0.3716524541378021\n",
      "Epoch : 213 | Loss : 0.21398602426052094 | Test loss : 0.36761119961738586\n",
      "Epoch : 214 | Loss : 0.21052972972393036 | Test loss : 0.3635699152946472\n",
      "Epoch : 215 | Loss : 0.20707345008850098 | Test loss : 0.3595286011695862\n",
      "Epoch : 216 | Loss : 0.2036171406507492 | Test loss : 0.35548731684684753\n",
      "Epoch : 217 | Loss : 0.20016084611415863 | Test loss : 0.3514460325241089\n",
      "Epoch : 218 | Loss : 0.19670455157756805 | Test loss : 0.34740474820137024\n",
      "Epoch : 219 | Loss : 0.19324824213981628 | Test loss : 0.3433634638786316\n",
      "Epoch : 220 | Loss : 0.1897919476032257 | Test loss : 0.33932217955589294\n",
      "Epoch : 221 | Loss : 0.18633565306663513 | Test loss : 0.3352808952331543\n",
      "Epoch : 222 | Loss : 0.18287934362888336 | Test loss : 0.33123961091041565\n",
      "Epoch : 223 | Loss : 0.17942304909229279 | Test loss : 0.327198326587677\n",
      "Epoch : 224 | Loss : 0.1759667545557022 | Test loss : 0.32315701246261597\n",
      "Epoch : 225 | Loss : 0.17251046001911163 | Test loss : 0.3191157281398773\n",
      "Epoch : 226 | Loss : 0.16905415058135986 | Test loss : 0.31507444381713867\n",
      "Epoch : 227 | Loss : 0.1655978411436081 | Test loss : 0.31103309988975525\n",
      "Epoch : 228 | Loss : 0.16214154660701752 | Test loss : 0.3069917857646942\n",
      "Epoch : 229 | Loss : 0.15868522226810455 | Test loss : 0.3029504716396332\n",
      "Epoch : 230 | Loss : 0.15522891283035278 | Test loss : 0.29890915751457214\n",
      "Epoch : 231 | Loss : 0.1517726182937622 | Test loss : 0.2948678433895111\n",
      "Epoch : 232 | Loss : 0.14831630885601044 | Test loss : 0.2908265292644501\n",
      "Epoch : 233 | Loss : 0.14485999941825867 | Test loss : 0.28678521513938904\n",
      "Epoch : 234 | Loss : 0.1414036750793457 | Test loss : 0.282743901014328\n",
      "Epoch : 235 | Loss : 0.13794736564159393 | Test loss : 0.27870258688926697\n",
      "Epoch : 236 | Loss : 0.13449107110500336 | Test loss : 0.27466127276420593\n",
      "Epoch : 237 | Loss : 0.1310347616672516 | Test loss : 0.2706199586391449\n",
      "Epoch : 238 | Loss : 0.127578467130661 | Test loss : 0.26657867431640625\n",
      "Epoch : 239 | Loss : 0.12412215769290924 | Test loss : 0.2625373601913452\n",
      "Epoch : 240 | Loss : 0.12066586315631866 | Test loss : 0.2584960460662842\n",
      "Epoch : 241 | Loss : 0.1172095537185669 | Test loss : 0.25445476174354553\n",
      "Epoch : 242 | Loss : 0.11375325173139572 | Test loss : 0.2504134476184845\n",
      "Epoch : 243 | Loss : 0.11029694229364395 | Test loss : 0.24637213349342346\n",
      "Epoch : 244 | Loss : 0.10694034397602081 | Test loss : 0.2424808293581009\n",
      "Epoch : 245 | Loss : 0.10377652943134308 | Test loss : 0.23858952522277832\n",
      "Epoch : 246 | Loss : 0.10072069615125656 | Test loss : 0.23485088348388672\n",
      "Epoch : 247 | Loss : 0.09783673286437988 | Test loss : 0.23111224174499512\n",
      "Epoch : 248 | Loss : 0.09505869448184967 | Test loss : 0.22752895951271057\n",
      "Epoch : 249 | Loss : 0.09244187921285629 | Test loss : 0.22394566237926483\n",
      "Epoch : 250 | Loss : 0.0899185761809349 | Test loss : 0.22052037715911865\n",
      "Epoch : 251 | Loss : 0.08755619823932648 | Test loss : 0.21709509193897247\n",
      "Epoch : 252 | Loss : 0.08526446670293808 | Test loss : 0.21383047103881836\n",
      "Epoch : 253 | Loss : 0.08314376324415207 | Test loss : 0.21056585013866425\n",
      "Epoch : 254 | Loss : 0.08106034249067307 | Test loss : 0.20746462047100067\n",
      "Epoch : 255 | Loss : 0.07916847616434097 | Test loss : 0.2043633759021759\n",
      "Epoch : 256 | Loss : 0.07727659493684769 | Test loss : 0.20126211643218994\n",
      "Epoch : 257 | Loss : 0.07548977434635162 | Test loss : 0.19832687079906464\n",
      "Epoch : 258 | Loss : 0.0738137736916542 | Test loss : 0.19539164006710052\n",
      "Epoch : 259 | Loss : 0.07218923419713974 | Test loss : 0.19262510538101196\n",
      "Epoch : 260 | Loss : 0.07071610540151596 | Test loss : 0.1898585706949234\n",
      "Epoch : 261 | Loss : 0.06924296915531158 | Test loss : 0.18709203600883484\n",
      "Epoch : 262 | Loss : 0.06785544753074646 | Test loss : 0.18449683487415314\n",
      "Epoch : 263 | Loss : 0.06657200306653976 | Test loss : 0.18190164864063263\n",
      "Epoch : 264 | Loss : 0.0652996301651001 | Test loss : 0.17948049306869507\n",
      "Epoch : 265 | Loss : 0.06419255584478378 | Test loss : 0.1770593523979187\n",
      "Epoch : 266 | Loss : 0.06308548152446747 | Test loss : 0.17463819682598114\n",
      "Epoch : 267 | Loss : 0.061989035457372665 | Test loss : 0.17239373922348022\n",
      "Epoch : 268 | Loss : 0.06104486063122749 | Test loss : 0.1701493114233017\n",
      "Epoch : 269 | Loss : 0.06010068580508232 | Test loss : 0.16790485382080078\n",
      "Epoch : 270 | Loss : 0.05915651470422745 | Test loss : 0.16566041111946106\n",
      "Epoch : 271 | Loss : 0.05828378349542618 | Test loss : 0.16359533369541168\n",
      "Epoch : 272 | Loss : 0.057488854974508286 | Test loss : 0.1615302413702011\n",
      "Epoch : 273 | Loss : 0.05669393017888069 | Test loss : 0.15946514904499054\n",
      "Epoch : 274 | Loss : 0.05593603476881981 | Test loss : 0.1575821191072464\n",
      "Epoch : 275 | Loss : 0.055276501923799515 | Test loss : 0.15569907426834106\n",
      "Epoch : 276 | Loss : 0.05461697652935982 | Test loss : 0.15381602942943573\n",
      "Epoch : 277 | Loss : 0.053957439959049225 | Test loss : 0.1519329994916916\n",
      "Epoch : 278 | Loss : 0.053347159177064896 | Test loss : 0.15023468434810638\n",
      "Epoch : 279 | Loss : 0.05280895158648491 | Test loss : 0.14853635430335999\n",
      "Epoch : 280 | Loss : 0.052270758897066116 | Test loss : 0.1468380242586136\n",
      "Epoch : 281 | Loss : 0.05173255875706673 | Test loss : 0.14513970911502838\n",
      "Epoch : 282 | Loss : 0.05123111233115196 | Test loss : 0.14362876117229462\n",
      "Epoch : 283 | Loss : 0.050799932330846786 | Test loss : 0.14211781322956085\n",
      "Epoch : 284 | Loss : 0.05036875605583191 | Test loss : 0.1406068652868271\n",
      "Epoch : 285 | Loss : 0.04993758350610733 | Test loss : 0.13909590244293213\n",
      "Epoch : 286 | Loss : 0.04950641468167305 | Test loss : 0.13758496940135956\n",
      "Epoch : 287 | Loss : 0.049124475568532944 | Test loss : 0.13626407086849213\n",
      "Epoch : 288 | Loss : 0.048785772174596786 | Test loss : 0.1349431723356247\n",
      "Epoch : 289 | Loss : 0.04844707250595093 | Test loss : 0.13362227380275726\n",
      "Epoch : 290 | Loss : 0.04810837656259537 | Test loss : 0.13230137526988983\n",
      "Epoch : 291 | Loss : 0.04776967689394951 | Test loss : 0.1309804767370224\n",
      "Epoch : 292 | Loss : 0.047460149973630905 | Test loss : 0.129852294921875\n",
      "Epoch : 293 | Loss : 0.047199103981256485 | Test loss : 0.12872414290905\n",
      "Epoch : 294 | Loss : 0.046938057988882065 | Test loss : 0.12759597599506378\n",
      "Epoch : 295 | Loss : 0.04667701944708824 | Test loss : 0.12646780908107758\n",
      "Epoch : 296 | Loss : 0.046415966004133224 | Test loss : 0.12533962726593018\n",
      "Epoch : 297 | Loss : 0.0461549274623394 | Test loss : 0.12421146780252457\n",
      "Epoch : 298 | Loss : 0.045904964208602905 | Test loss : 0.12327869236469269\n",
      "Epoch : 299 | Loss : 0.04570646211504936 | Test loss : 0.12234590202569962\n",
      "Epoch : 300 | Loss : 0.04550795629620552 | Test loss : 0.12141311168670654\n",
      "Epoch : 301 | Loss : 0.04530944675207138 | Test loss : 0.12048033624887466\n",
      "Epoch : 302 | Loss : 0.04511094093322754 | Test loss : 0.11954754590988159\n",
      "Epoch : 303 | Loss : 0.044912438839673996 | Test loss : 0.11861474812030792\n",
      "Epoch : 304 | Loss : 0.04471392557024956 | Test loss : 0.11768198013305664\n",
      "Epoch : 305 | Loss : 0.04451542720198631 | Test loss : 0.11674918979406357\n"
     ]
    },
    {
     "name": "stdout",
     "output_type": "stream",
     "text": [
      "Epoch : 306 | Loss : 0.04432414844632149 | Test loss : 0.11601447314023972\n",
      "Epoch : 307 | Loss : 0.04417276382446289 | Test loss : 0.11527974903583527\n",
      "Epoch : 308 | Loss : 0.044021375477313995 | Test loss : 0.11454502493143082\n",
      "Epoch : 309 | Loss : 0.043869998306035995 | Test loss : 0.11381030082702637\n",
      "Epoch : 310 | Loss : 0.0437186174094677 | Test loss : 0.11307556927204132\n",
      "Epoch : 311 | Loss : 0.0435672365128994 | Test loss : 0.11234086006879807\n",
      "Epoch : 312 | Loss : 0.0434158556163311 | Test loss : 0.11160612106323242\n",
      "Epoch : 313 | Loss : 0.0432644784450531 | Test loss : 0.11087139695882797\n",
      "Epoch : 314 | Loss : 0.043113093823194504 | Test loss : 0.11013668030500412\n",
      "Epoch : 315 | Loss : 0.042961712926626205 | Test loss : 0.10940196365118027\n",
      "Epoch : 316 | Loss : 0.04281033203005791 | Test loss : 0.10866723209619522\n",
      "Epoch : 317 | Loss : 0.04266543313860893 | Test loss : 0.1081332191824913\n",
      "Epoch : 318 | Loss : 0.04254543036222458 | Test loss : 0.10759921371936798\n",
      "Epoch : 319 | Loss : 0.042425427585840225 | Test loss : 0.10706520080566406\n",
      "Epoch : 320 | Loss : 0.04230542480945587 | Test loss : 0.10653119534254074\n",
      "Epoch : 321 | Loss : 0.04218542203307152 | Test loss : 0.10599719732999802\n",
      "Epoch : 322 | Loss : 0.042065419256687164 | Test loss : 0.1054631695151329\n",
      "Epoch : 323 | Loss : 0.04194541648030281 | Test loss : 0.10492916405200958\n",
      "Epoch : 324 | Loss : 0.041825417429208755 | Test loss : 0.10439515113830566\n",
      "Epoch : 325 | Loss : 0.0417054183781147 | Test loss : 0.10386114567518234\n",
      "Epoch : 326 | Loss : 0.04158541187644005 | Test loss : 0.10332713276147842\n",
      "Epoch : 327 | Loss : 0.04146541282534599 | Test loss : 0.1027931347489357\n",
      "Epoch : 328 | Loss : 0.04134541377425194 | Test loss : 0.10225912183523178\n",
      "Epoch : 329 | Loss : 0.04122540354728699 | Test loss : 0.10172511637210846\n",
      "Epoch : 330 | Loss : 0.041105400770902634 | Test loss : 0.10119110345840454\n",
      "Epoch : 331 | Loss : 0.04098540544509888 | Test loss : 0.10065709799528122\n",
      "Epoch : 332 | Loss : 0.040865398943424225 | Test loss : 0.1001230850815773\n",
      "Epoch : 333 | Loss : 0.04074539989233017 | Test loss : 0.09958907216787338\n",
      "Epoch : 334 | Loss : 0.040625397115945816 | Test loss : 0.09905506670475006\n",
      "Epoch : 335 | Loss : 0.04051455482840538 | Test loss : 0.09872447699308395\n",
      "Epoch : 336 | Loss : 0.04040985181927681 | Test loss : 0.09839389473199844\n",
      "Epoch : 337 | Loss : 0.04030515253543854 | Test loss : 0.09806330502033234\n",
      "Epoch : 338 | Loss : 0.040200453251600266 | Test loss : 0.09773271530866623\n",
      "Epoch : 339 | Loss : 0.04009575769305229 | Test loss : 0.09740212559700012\n",
      "Epoch : 340 | Loss : 0.03999106213450432 | Test loss : 0.09707153588533401\n",
      "Epoch : 341 | Loss : 0.039886366575956345 | Test loss : 0.0967409536242485\n",
      "Epoch : 342 | Loss : 0.039781663566827774 | Test loss : 0.0964103564620018\n",
      "Epoch : 343 | Loss : 0.0396769642829895 | Test loss : 0.0960797667503357\n",
      "Epoch : 344 | Loss : 0.03957226499915123 | Test loss : 0.09574917703866959\n",
      "Epoch : 345 | Loss : 0.039467573165893555 | Test loss : 0.09541858732700348\n",
      "Epoch : 346 | Loss : 0.03936287760734558 | Test loss : 0.09508800506591797\n",
      "Epoch : 347 | Loss : 0.03925817832350731 | Test loss : 0.09475741535425186\n",
      "Epoch : 348 | Loss : 0.03915347531437874 | Test loss : 0.09442682564258575\n",
      "Epoch : 349 | Loss : 0.039048776030540466 | Test loss : 0.09409623593091965\n",
      "Epoch : 350 | Loss : 0.03894408419728279 | Test loss : 0.09376563876867294\n",
      "Epoch : 351 | Loss : 0.03883938118815422 | Test loss : 0.09343504905700684\n",
      "Epoch : 352 | Loss : 0.03873468562960625 | Test loss : 0.09310447424650192\n",
      "Epoch : 353 | Loss : 0.03862999007105827 | Test loss : 0.09277387708425522\n",
      "Epoch : 354 | Loss : 0.0385252870619297 | Test loss : 0.09244328737258911\n",
      "Epoch : 355 | Loss : 0.03842059150338173 | Test loss : 0.0921127125620842\n",
      "Epoch : 356 | Loss : 0.03831589221954346 | Test loss : 0.0917821153998375\n",
      "Epoch : 357 | Loss : 0.03821119666099548 | Test loss : 0.09145152568817139\n",
      "Epoch : 358 | Loss : 0.03810649737715721 | Test loss : 0.09112093597650528\n",
      "Epoch : 359 | Loss : 0.03800180181860924 | Test loss : 0.09079035371541977\n",
      "Epoch : 360 | Loss : 0.03789709880948067 | Test loss : 0.09045975655317307\n",
      "Epoch : 361 | Loss : 0.03779240697622299 | Test loss : 0.09012916684150696\n",
      "Epoch : 362 | Loss : 0.03768770769238472 | Test loss : 0.08979858458042145\n",
      "Epoch : 363 | Loss : 0.037583012133836746 | Test loss : 0.08946799486875534\n",
      "Epoch : 364 | Loss : 0.037478309124708176 | Test loss : 0.08913739770650864\n",
      "Epoch : 365 | Loss : 0.0373736135661602 | Test loss : 0.08880680799484253\n",
      "Epoch : 366 | Loss : 0.03726891800761223 | Test loss : 0.08847623318433762\n",
      "Epoch : 367 | Loss : 0.037164218723773956 | Test loss : 0.08814563602209091\n",
      "Epoch : 368 | Loss : 0.037059519439935684 | Test loss : 0.0878150463104248\n",
      "Epoch : 369 | Loss : 0.03695482015609741 | Test loss : 0.0874844640493393\n",
      "Epoch : 370 | Loss : 0.03685012087225914 | Test loss : 0.08715387433767319\n",
      "Epoch : 371 | Loss : 0.036745425313711166 | Test loss : 0.08682327717542648\n",
      "Epoch : 372 | Loss : 0.03664072975516319 | Test loss : 0.08649269491434097\n",
      "Epoch : 373 | Loss : 0.03653603047132492 | Test loss : 0.08616210520267487\n",
      "Epoch : 374 | Loss : 0.03643133118748665 | Test loss : 0.08583151549100876\n",
      "Epoch : 375 | Loss : 0.036326635628938675 | Test loss : 0.08550091832876205\n",
      "Epoch : 376 | Loss : 0.036221932619810104 | Test loss : 0.08517034351825714\n",
      "Epoch : 377 | Loss : 0.03611723706126213 | Test loss : 0.08483975380659103\n",
      "Epoch : 378 | Loss : 0.03601254150271416 | Test loss : 0.08450915664434433\n",
      "Epoch : 379 | Loss : 0.035907842218875885 | Test loss : 0.08417856693267822\n",
      "Epoch : 380 | Loss : 0.03580314293503761 | Test loss : 0.08384798467159271\n",
      "Epoch : 381 | Loss : 0.03569844365119934 | Test loss : 0.0835173949599266\n",
      "Epoch : 382 | Loss : 0.035593755543231964 | Test loss : 0.0831868052482605\n",
      "Epoch : 383 | Loss : 0.035489052534103394 | Test loss : 0.08285621553659439\n",
      "Epoch : 384 | Loss : 0.03538435325026512 | Test loss : 0.08252561837434769\n",
      "Epoch : 385 | Loss : 0.03527965396642685 | Test loss : 0.08219503611326218\n",
      "Epoch : 386 | Loss : 0.03517741337418556 | Test loss : 0.08207052201032639\n",
      "Epoch : 387 | Loss : 0.03507409989833832 | Test loss : 0.08173992484807968\n",
      "Epoch : 388 | Loss : 0.0349707156419754 | Test loss : 0.08161541074514389\n",
      "Epoch : 389 | Loss : 0.03486854210495949 | Test loss : 0.08128482103347778\n",
      "Epoch : 390 | Loss : 0.034764014184474945 | Test loss : 0.0811602994799614\n",
      "Epoch : 391 | Loss : 0.034662988036870956 | Test loss : 0.08082971721887589\n",
      "Epoch : 392 | Loss : 0.03455829247832298 | Test loss : 0.08049912750720978\n",
      "Epoch : 393 | Loss : 0.03445645794272423 | Test loss : 0.08037461340427399\n",
      "Epoch : 394 | Loss : 0.034352730959653854 | Test loss : 0.08004402369260788\n",
      "Epoch : 395 | Loss : 0.03424976021051407 | Test loss : 0.07991950213909149\n",
      "Epoch : 396 | Loss : 0.03414718434214592 | Test loss : 0.07958891242742538\n",
      "Epoch : 397 | Loss : 0.03404306247830391 | Test loss : 0.079464390873909\n",
      "Epoch : 398 | Loss : 0.03394162282347679 | Test loss : 0.07913380861282349\n",
      "Epoch : 399 | Loss : 0.033836930990219116 | Test loss : 0.07880321890115738\n",
      "Epoch : 400 | Loss : 0.033735502511262894 | Test loss : 0.0786786898970604\n",
      "Epoch : 401 | Loss : 0.033631373196840286 | Test loss : 0.07834810763597488\n",
      "Epoch : 402 | Loss : 0.033528801053762436 | Test loss : 0.0782235860824585\n",
      "Epoch : 403 | Loss : 0.033425819128751755 | Test loss : 0.07789301127195358\n",
      "Epoch : 404 | Loss : 0.03332210332155228 | Test loss : 0.0777684822678566\n",
      "Epoch : 405 | Loss : 0.033220257610082626 | Test loss : 0.07743790000677109\n",
      "Epoch : 406 | Loss : 0.03311556205153465 | Test loss : 0.07710730284452438\n",
      "Epoch : 407 | Loss : 0.03301454707980156 | Test loss : 0.07698278874158859\n",
      "Epoch : 408 | Loss : 0.03291000425815582 | Test loss : 0.07665219157934189\n",
      "Epoch : 409 | Loss : 0.0328078530728817 | Test loss : 0.0765276774764061\n",
      "Epoch : 410 | Loss : 0.03270445019006729 | Test loss : 0.07619708776473999\n",
      "Epoch : 411 | Loss : 0.03260114789009094 | Test loss : 0.0760725736618042\n",
      "Epoch : 412 | Loss : 0.03249889984726906 | Test loss : 0.07574198395013809\n",
      "Epoch : 413 | Loss : 0.03239445015788078 | Test loss : 0.0756174698472023\n",
      "Epoch : 414 | Loss : 0.03229333832859993 | Test loss : 0.0752868801355362\n",
      "Epoch : 415 | Loss : 0.032188642770051956 | Test loss : 0.07495629042387009\n",
      "Epoch : 416 | Loss : 0.032086893916130066 | Test loss : 0.0748317763209343\n",
      "Epoch : 417 | Loss : 0.031983088701963425 | Test loss : 0.07450117915868759\n",
      "Epoch : 418 | Loss : 0.03188019618391991 | Test loss : 0.0743766650557518\n",
      "Epoch : 419 | Loss : 0.031777530908584595 | Test loss : 0.0740460678935051\n",
      "Epoch : 420 | Loss : 0.03167349845170975 | Test loss : 0.0739215537905693\n",
      "Epoch : 421 | Loss : 0.03157197684049606 | Test loss : 0.0735909640789032\n",
      "Epoch : 422 | Loss : 0.03146727755665779 | Test loss : 0.0732603669166565\n",
      "Epoch : 423 | Loss : 0.03136593848466873 | Test loss : 0.0731358528137207\n",
      "Epoch : 424 | Loss : 0.03126172348856926 | Test loss : 0.0728052631020546\n",
      "Epoch : 425 | Loss : 0.031159240752458572 | Test loss : 0.0726807489991188\n",
      "Epoch : 426 | Loss : 0.03105616569519043 | Test loss : 0.0723501667380333\n",
      "Epoch : 427 | Loss : 0.030952543020248413 | Test loss : 0.0722256451845169\n",
      "Epoch : 428 | Loss : 0.030850613489747047 | Test loss : 0.0718950554728508\n",
      "Epoch : 429 | Loss : 0.030745917931199074 | Test loss : 0.0715644583106041\n",
      "Epoch : 430 | Loss : 0.030644986778497696 | Test loss : 0.0714399442076683\n",
      "Epoch : 431 | Loss : 0.030540360137820244 | Test loss : 0.0711093470454216\n",
      "Epoch : 432 | Loss : 0.030438287183642387 | Test loss : 0.0709848403930664\n",
      "Epoch : 433 | Loss : 0.030334806069731712 | Test loss : 0.0706542357802391\n",
      "Epoch : 434 | Loss : 0.030231589451432228 | Test loss : 0.07052972912788391\n",
      "Epoch : 435 | Loss : 0.030129248276352882 | Test loss : 0.0701991394162178\n",
      "Epoch : 436 | Loss : 0.03002488613128662 | Test loss : 0.07007461786270142\n",
      "Epoch : 437 | Loss : 0.0299236923456192 | Test loss : 0.06974402815103531\n",
      "Epoch : 438 | Loss : 0.029818996787071228 | Test loss : 0.0694134458899498\n",
      "Epoch : 439 | Loss : 0.029717331752181053 | Test loss : 0.06928892433643341\n",
      "Epoch : 440 | Loss : 0.029613438993692398 | Test loss : 0.0689583346247673\n",
      "Epoch : 441 | Loss : 0.029510632157325745 | Test loss : 0.06883382052183151\n",
      "Epoch : 442 | Loss : 0.029407886788249016 | Test loss : 0.06850322335958481\n",
      "Epoch : 443 | Loss : 0.029303932562470436 | Test loss : 0.06837870925664902\n",
      "Epoch : 444 | Loss : 0.029202327132225037 | Test loss : 0.06804811954498291\n",
      "Epoch : 445 | Loss : 0.029097629711031914 | Test loss : 0.0677175298333168\n",
      "Epoch : 446 | Loss : 0.02899637632071972 | Test loss : 0.06759301573038101\n",
      "Epoch : 447 | Loss : 0.028892075642943382 | Test loss : 0.0672624260187149\n",
      "Epoch : 448 | Loss : 0.02878967858850956 | Test loss : 0.06713791191577911\n",
      "Epoch : 449 | Loss : 0.028686517849564552 | Test loss : 0.066807322204113\n",
      "Epoch : 450 | Loss : 0.02858297899365425 | Test loss : 0.06668280810117722\n",
      "Epoch : 451 | Loss : 0.02848096564412117 | Test loss : 0.06635221093893051\n",
      "Epoch : 452 | Loss : 0.028376279398798943 | Test loss : 0.06622769683599472\n",
      "Epoch : 453 | Loss : 0.02827540598809719 | Test loss : 0.06589709967374802\n",
      "Epoch : 454 | Loss : 0.028170710429549217 | Test loss : 0.06556650251150131\n",
      "Epoch : 455 | Loss : 0.028068721294403076 | Test loss : 0.06544198840856552\n",
      "Epoch : 456 | Loss : 0.027965152636170387 | Test loss : 0.06511140614748001\n",
      "Epoch : 457 | Loss : 0.027862021699547768 | Test loss : 0.06498688459396362\n",
      "Epoch : 458 | Loss : 0.027759600430727005 | Test loss : 0.06465629488229752\n",
      "Epoch : 459 | Loss : 0.02765532396733761 | Test loss : 0.06453178077936172\n",
      "Epoch : 460 | Loss : 0.027554048225283623 | Test loss : 0.06420119106769562\n",
      "Epoch : 461 | Loss : 0.027449345216155052 | Test loss : 0.06387060135602951\n",
      "Epoch : 462 | Loss : 0.027347764000296593 | Test loss : 0.06374608725309372\n",
      "Epoch : 463 | Loss : 0.02724379301071167 | Test loss : 0.06341549009084702\n",
      "Epoch : 464 | Loss : 0.027141068130731583 | Test loss : 0.06329097598791122\n",
      "Epoch : 465 | Loss : 0.02703823707997799 | Test loss : 0.06296037882566452\n",
      "Epoch : 466 | Loss : 0.026934370398521423 | Test loss : 0.06283586472272873\n",
      "Epoch : 467 | Loss : 0.026832683011889458 | Test loss : 0.06250528246164322\n",
      "Epoch : 468 | Loss : 0.026727983728051186 | Test loss : 0.06217468902468681\n",
      "Epoch : 469 | Loss : 0.026626814156770706 | Test loss : 0.06205016374588013\n",
      "Epoch : 470 | Loss : 0.026522427797317505 | Test loss : 0.061719585210084915\n",
      "Epoch : 471 | Loss : 0.026420114561915398 | Test loss : 0.06159505993127823\n",
      "Epoch : 472 | Loss : 0.026316871866583824 | Test loss : 0.06126446649432182\n",
      "Epoch : 473 | Loss : 0.02621341310441494 | Test loss : 0.06113995984196663\n",
      "Epoch : 474 | Loss : 0.026111317798495293 | Test loss : 0.06080937013030052\n",
      "Epoch : 475 | Loss : 0.02600671350955963 | Test loss : 0.060684848576784134\n",
      "Epoch : 476 | Loss : 0.02590576373040676 | Test loss : 0.06035425886511803\n",
      "Epoch : 477 | Loss : 0.02580106258392334 | Test loss : 0.06002366542816162\n",
      "Epoch : 478 | Loss : 0.025699159130454063 | Test loss : 0.05989915132522583\n",
      "Epoch : 479 | Loss : 0.02559550665318966 | Test loss : 0.05956856161355972\n",
      "Epoch : 480 | Loss : 0.025492457672953606 | Test loss : 0.05944404751062393\n",
      "Epoch : 481 | Loss : 0.025389954447746277 | Test loss : 0.05911344289779663\n",
      "Epoch : 482 | Loss : 0.025285763666033745 | Test loss : 0.058988939970731735\n",
      "Epoch : 483 | Loss : 0.025184396654367447 | Test loss : 0.05865834280848503\n",
      "Epoch : 484 | Loss : 0.025079701095819473 | Test loss : 0.05832776054739952\n",
      "Epoch : 485 | Loss : 0.02497820369899273 | Test loss : 0.05820323899388313\n",
      "Epoch : 486 | Loss : 0.024874141439795494 | Test loss : 0.05787264183163643\n",
      "Epoch : 487 | Loss : 0.02477150410413742 | Test loss : 0.05774812772870064\n"
     ]
    },
    {
     "name": "stdout",
     "output_type": "stream",
     "text": [
      "Epoch : 488 | Loss : 0.024668589234352112 | Test loss : 0.05741753801703453\n",
      "Epoch : 489 | Loss : 0.024564804509282112 | Test loss : 0.05729302391409874\n",
      "Epoch : 490 | Loss : 0.02446303330361843 | Test loss : 0.056962430477142334\n",
      "Epoch : 491 | Loss : 0.024358337745070457 | Test loss : 0.05663184076547623\n",
      "Epoch : 492 | Loss : 0.024257248267531395 | Test loss : 0.056507326662540436\n",
      "Epoch : 493 | Loss : 0.024152781814336777 | Test loss : 0.05617673322558403\n",
      "Epoch : 494 | Loss : 0.024050546810030937 | Test loss : 0.05605221912264824\n",
      "Epoch : 495 | Loss : 0.023947224020957947 | Test loss : 0.05572162941098213\n",
      "Epoch : 496 | Loss : 0.023843849077820778 | Test loss : 0.05559711530804634\n",
      "Epoch : 497 | Loss : 0.023741671815514565 | Test loss : 0.055266525596380234\n",
      "Epoch : 498 | Loss : 0.02363714948296547 | Test loss : 0.055142004042863846\n",
      "Epoch : 499 | Loss : 0.023536114022135735 | Test loss : 0.05481141805648804\n",
      "Epoch : 500 | Loss : 0.02343141846358776 | Test loss : 0.05448082834482193\n",
      "Epoch : 501 | Loss : 0.0233295951038599 | Test loss : 0.05435630679130554\n",
      "Epoch : 502 | Loss : 0.023225858807563782 | Test loss : 0.054025717079639435\n",
      "Epoch : 503 | Loss : 0.023122895509004593 | Test loss : 0.053901202976703644\n",
      "Epoch : 504 | Loss : 0.0230203066021204 | Test loss : 0.053570616990327835\n",
      "Epoch : 505 | Loss : 0.022916195914149284 | Test loss : 0.05344609171152115\n",
      "Epoch : 506 | Loss : 0.02281475067138672 | Test loss : 0.05311549827456474\n",
      "Epoch : 507 | Loss : 0.022710053250193596 | Test loss : 0.052784908562898636\n",
      "Epoch : 508 | Loss : 0.022608639672398567 | Test loss : 0.052660394459962845\n",
      "Epoch : 509 | Loss : 0.022504497319459915 | Test loss : 0.05232980474829674\n",
      "Epoch : 510 | Loss : 0.02240193821489811 | Test loss : 0.05220529064536095\n",
      "Epoch : 511 | Loss : 0.022298941388726234 | Test loss : 0.05187469720840454\n",
      "Epoch : 512 | Loss : 0.02219524048268795 | Test loss : 0.051750171929597855\n",
      "Epoch : 513 | Loss : 0.022093383595347404 | Test loss : 0.05141959339380264\n",
      "Epoch : 514 | Loss : 0.02198868803679943 | Test loss : 0.05108899995684624\n",
      "Epoch : 515 | Loss : 0.021887686103582382 | Test loss : 0.050964485853910446\n",
      "Epoch : 516 | Loss : 0.02178313210606575 | Test loss : 0.05063389614224434\n",
      "Epoch : 517 | Loss : 0.021680986508727074 | Test loss : 0.05050938203930855\n",
      "Epoch : 518 | Loss : 0.021577579900622368 | Test loss : 0.050178784877061844\n",
      "Epoch : 519 | Loss : 0.021474286913871765 | Test loss : 0.050054263323545456\n",
      "Epoch : 520 | Loss : 0.021372023969888687 | Test loss : 0.049723681062459946\n",
      "Epoch : 521 | Loss : 0.021267587319016457 | Test loss : 0.049599163234233856\n",
      "Epoch : 522 | Loss : 0.021166464313864708 | Test loss : 0.04926856979727745\n",
      "Epoch : 523 | Loss : 0.021061768755316734 | Test loss : 0.04893798008561134\n",
      "Epoch : 524 | Loss : 0.02096003107726574 | Test loss : 0.04881346970796585\n",
      "Epoch : 525 | Loss : 0.020856214687228203 | Test loss : 0.048482876271009445\n",
      "Epoch : 526 | Loss : 0.02075333148241043 | Test loss : 0.048358358442783356\n",
      "Epoch : 527 | Loss : 0.020650658756494522 | Test loss : 0.04802777245640755\n",
      "Epoch : 528 | Loss : 0.020546630024909973 | Test loss : 0.04790325090289116\n",
      "Epoch : 529 | Loss : 0.02044510282576084 | Test loss : 0.04757266119122505\n",
      "Epoch : 530 | Loss : 0.02034040354192257 | Test loss : 0.047242067754268646\n",
      "Epoch : 531 | Loss : 0.020239075645804405 | Test loss : 0.047117557376623154\n",
      "Epoch : 532 | Loss : 0.020134849473834038 | Test loss : 0.04678696021437645\n",
      "Epoch : 533 | Loss : 0.020032376050949097 | Test loss : 0.04666244611144066\n",
      "Epoch : 534 | Loss : 0.019929293543100357 | Test loss : 0.04633185267448425\n",
      "Epoch : 535 | Loss : 0.019825680181384087 | Test loss : 0.04620733484625816\n",
      "Epoch : 536 | Loss : 0.019723741337656975 | Test loss : 0.045876748859882355\n",
      "Epoch : 537 | Loss : 0.019619038328528404 | Test loss : 0.04554615542292595\n",
      "Epoch : 538 | Loss : 0.01951812021434307 | Test loss : 0.04542164131999016\n",
      "Epoch : 539 | Loss : 0.019413486123085022 | Test loss : 0.04509105160832405\n",
      "Epoch : 540 | Loss : 0.01931142434477806 | Test loss : 0.04496653750538826\n",
      "Epoch : 541 | Loss : 0.01920793019235134 | Test loss : 0.04463594779372215\n",
      "Epoch : 542 | Loss : 0.019104724749922752 | Test loss : 0.044511426240205765\n",
      "Epoch : 543 | Loss : 0.01900237426161766 | Test loss : 0.04418083652853966\n",
      "Epoch : 544 | Loss : 0.018898023292422295 | Test loss : 0.04405632242560387\n",
      "Epoch : 545 | Loss : 0.01879682019352913 | Test loss : 0.04372572526335716\n",
      "Epoch : 546 | Loss : 0.018692124634981155 | Test loss : 0.043395135551691055\n",
      "Epoch : 547 | Loss : 0.018590465188026428 | Test loss : 0.043270617723464966\n",
      "Epoch : 548 | Loss : 0.018486566841602325 | Test loss : 0.04294003173708916\n",
      "Epoch : 549 | Loss : 0.018383769318461418 | Test loss : 0.04281551390886307\n",
      "Epoch : 550 | Loss : 0.018281010910868645 | Test loss : 0.04248492792248726\n",
      "Epoch : 551 | Loss : 0.01817706972360611 | Test loss : 0.04236041009426117\n",
      "Epoch : 552 | Loss : 0.018075454980134964 | Test loss : 0.04202982038259506\n",
      "Epoch : 553 | Loss : 0.017970755696296692 | Test loss : 0.04169922694563866\n",
      "Epoch : 554 | Loss : 0.017869511619210243 | Test loss : 0.04157470539212227\n",
      "Epoch : 555 | Loss : 0.01776520349085331 | Test loss : 0.04124411195516586\n",
      "Epoch : 556 | Loss : 0.017662815749645233 | Test loss : 0.041119594126939774\n",
      "Epoch : 557 | Loss : 0.01755964569747448 | Test loss : 0.040789004415273666\n",
      "Epoch : 558 | Loss : 0.017456116154789925 | Test loss : 0.040664490312337875\n",
      "Epoch : 559 | Loss : 0.017354091629385948 | Test loss : 0.04033390432596207\n",
      "Epoch : 560 | Loss : 0.017249418422579765 | Test loss : 0.04020938649773598\n",
      "Epoch : 561 | Loss : 0.017148533836007118 | Test loss : 0.03987879306077957\n",
      "Epoch : 562 | Loss : 0.017043836414813995 | Test loss : 0.03954820707440376\n",
      "Epoch : 563 | Loss : 0.01694185845553875 | Test loss : 0.03942368924617767\n",
      "Epoch : 564 | Loss : 0.016838282346725464 | Test loss : 0.039093103259801865\n",
      "Epoch : 565 | Loss : 0.01673515886068344 | Test loss : 0.03896858170628548\n",
      "Epoch : 566 | Loss : 0.016632728278636932 | Test loss : 0.03863799199461937\n",
      "Epoch : 567 | Loss : 0.016528459265828133 | Test loss : 0.03851347416639328\n",
      "Epoch : 568 | Loss : 0.01642717234790325 | Test loss : 0.03818289190530777\n",
      "Epoch : 569 | Loss : 0.01632247306406498 | Test loss : 0.037852298468351364\n",
      "Epoch : 570 | Loss : 0.016220903024077415 | Test loss : 0.037727776914834976\n",
      "Epoch : 571 | Loss : 0.0161169171333313 | Test loss : 0.037397194653749466\n",
      "Epoch : 572 | Loss : 0.016014205291867256 | Test loss : 0.03727267310023308\n",
      "Epoch : 573 | Loss : 0.015911363065242767 | Test loss : 0.03694209083914757\n",
      "Epoch : 574 | Loss : 0.015807505697011948 | Test loss : 0.03681756928563118\n",
      "Epoch : 575 | Loss : 0.015705807134509087 | Test loss : 0.03648697957396507\n",
      "Epoch : 576 | Loss : 0.015601110644638538 | Test loss : 0.036156389862298965\n",
      "Epoch : 577 | Loss : 0.015499948523938656 | Test loss : 0.036031872034072876\n",
      "Epoch : 578 | Loss : 0.015395553782582283 | Test loss : 0.03570128604769707\n",
      "Epoch : 579 | Loss : 0.015293249860405922 | Test loss : 0.03557676449418068\n",
      "Epoch : 580 | Loss : 0.015189997851848602 | Test loss : 0.03524617850780487\n",
      "Epoch : 581 | Loss : 0.015086551196873188 | Test loss : 0.03512166067957878\n",
      "Epoch : 582 | Loss : 0.014984442852437496 | Test loss : 0.03479107469320297\n",
      "Epoch : 583 | Loss : 0.01487984973937273 | Test loss : 0.03466654568910599\n",
      "Epoch : 584 | Loss : 0.01477888971567154 | Test loss : 0.034335967153310776\n",
      "Epoch : 585 | Loss : 0.014674189500510693 | Test loss : 0.03400537744164467\n",
      "Epoch : 586 | Loss : 0.014572294428944588 | Test loss : 0.03388085588812828\n",
      "Epoch : 587 | Loss : 0.014468635432422161 | Test loss : 0.03355027362704277\n",
      "Epoch : 588 | Loss : 0.014365593902766705 | Test loss : 0.033425744622945786\n",
      "Epoch : 589 | Loss : 0.014263080433011055 | Test loss : 0.03309516981244087\n",
      "Epoch : 590 | Loss : 0.014158894307911396 | Test loss : 0.03297064080834389\n",
      "Epoch : 591 | Loss : 0.0140575235709548 | Test loss : 0.03264005482196808\n",
      "Epoch : 592 | Loss : 0.013952824287116528 | Test loss : 0.03230946883559227\n",
      "Epoch : 593 | Loss : 0.013851337134838104 | Test loss : 0.03218495100736618\n",
      "Epoch : 594 | Loss : 0.013747270219027996 | Test loss : 0.03185436129570007\n",
      "Epoch : 595 | Loss : 0.013644642196595669 | Test loss : 0.031729843467473984\n",
      "Epoch : 596 | Loss : 0.01354171521961689 | Test loss : 0.03139925375580788\n",
      "Epoch : 597 | Loss : 0.013437940739095211 | Test loss : 0.03127473220229149\n",
      "Epoch : 598 | Loss : 0.01333615928888321 | Test loss : 0.03094414435327053\n",
      "Epoch : 599 | Loss : 0.013231459073722363 | Test loss : 0.03061356022953987\n",
      "Epoch : 600 | Loss : 0.01313038356602192 | Test loss : 0.030489040538668633\n",
      "Epoch : 601 | Loss : 0.01302590686827898 | Test loss : 0.030158448964357376\n",
      "Epoch : 602 | Loss : 0.012923686765134335 | Test loss : 0.030033936724066734\n",
      "Epoch : 603 | Loss : 0.012820348143577576 | Test loss : 0.029703347012400627\n",
      "Epoch : 604 | Loss : 0.012716985307633877 | Test loss : 0.02957882359623909\n",
      "Epoch : 605 | Loss : 0.012614795938134193 | Test loss : 0.02924824133515358\n",
      "Epoch : 606 | Loss : 0.012510286644101143 | Test loss : 0.02912372164428234\n",
      "Epoch : 607 | Loss : 0.012409241870045662 | Test loss : 0.028793131932616234\n",
      "Epoch : 608 | Loss : 0.01230454258620739 | Test loss : 0.028462544083595276\n",
      "Epoch : 609 | Loss : 0.012202729471027851 | Test loss : 0.028338024392724037\n",
      "Epoch : 610 | Loss : 0.01209898479282856 | Test loss : 0.02800743654370308\n",
      "Epoch : 611 | Loss : 0.011996029876172543 | Test loss : 0.027882922440767288\n",
      "Epoch : 612 | Loss : 0.011893431656062603 | Test loss : 0.027552327141165733\n",
      "Epoch : 613 | Loss : 0.011789330281317234 | Test loss : 0.027427811175584793\n",
      "Epoch : 614 | Loss : 0.011687875725328922 | Test loss : 0.027097223326563835\n",
      "Epoch : 615 | Loss : 0.01158317644149065 | Test loss : 0.026766637340188026\n",
      "Epoch : 616 | Loss : 0.011481772176921368 | Test loss : 0.026642119511961937\n",
      "Epoch : 617 | Loss : 0.011377622373402119 | Test loss : 0.026311537250876427\n",
      "Epoch : 618 | Loss : 0.011275071650743484 | Test loss : 0.026187008246779442\n",
      "Epoch : 619 | Loss : 0.011172065511345863 | Test loss : 0.025856424123048782\n",
      "Epoch : 620 | Loss : 0.011068375781178474 | Test loss : 0.025731900706887245\n",
      "Epoch : 621 | Loss : 0.010966512374579906 | Test loss : 0.025401314720511436\n",
      "Epoch : 622 | Loss : 0.01086181215941906 | Test loss : 0.02507072500884533\n",
      "Epoch : 623 | Loss : 0.010760816745460033 | Test loss : 0.02494621090590954\n",
      "Epoch : 624 | Loss : 0.010656257160007954 | Test loss : 0.02461562119424343\n",
      "Epoch : 625 | Loss : 0.010554119013249874 | Test loss : 0.024491099640727043\n",
      "Epoch : 626 | Loss : 0.010450703091919422 | Test loss : 0.024160513654351234\n",
      "Epoch : 627 | Loss : 0.01034742034971714 | Test loss : 0.024035993963479996\n",
      "Epoch : 628 | Loss : 0.010245147161185741 | Test loss : 0.023705407977104187\n",
      "Epoch : 629 | Loss : 0.010140721686184406 | Test loss : 0.023580869659781456\n",
      "Epoch : 630 | Loss : 0.010039590299129486 | Test loss : 0.023250272497534752\n",
      "Epoch : 631 | Loss : 0.00993488822132349 | Test loss : 0.0229196734726429\n",
      "Epoch : 632 | Loss : 0.009833156131207943 | Test loss : 0.022795140743255615\n",
      "Epoch : 633 | Loss : 0.009729325771331787 | Test loss : 0.022464541718363762\n",
      "Epoch : 634 | Loss : 0.009626454673707485 | Test loss : 0.02234000526368618\n",
      "Epoch : 635 | Loss : 0.009523767046630383 | Test loss : 0.022009406238794327\n",
      "Epoch : 636 | Loss : 0.009419748559594154 | Test loss : 0.021884873509407043\n",
      "Epoch : 637 | Loss : 0.009318205527961254 | Test loss : 0.02155427448451519\n",
      "Epoch : 638 | Loss : 0.009213506244122982 | Test loss : 0.021223673596978188\n",
      "Epoch : 639 | Loss : 0.009112185798585415 | Test loss : 0.021099139004945755\n",
      "Epoch : 640 | Loss : 0.009007942862808704 | Test loss : 0.02076854184269905\n",
      "Epoch : 641 | Loss : 0.008905480615794659 | Test loss : 0.02064400725066662\n",
      "Epoch : 642 | Loss : 0.0088023841381073 | Test loss : 0.020313406363129616\n",
      "Epoch : 643 | Loss : 0.008698778226971626 | Test loss : 0.020188871771097183\n",
      "Epoch : 644 | Loss : 0.008596821688115597 | Test loss : 0.01985827460885048\n",
      "Epoch : 645 | Loss : 0.008492120541632175 | Test loss : 0.019527673721313477\n",
      "Epoch : 646 | Loss : 0.008391213603317738 | Test loss : 0.019403139129281044\n",
      "Epoch : 647 | Loss : 0.008286560885608196 | Test loss : 0.019072536379098892\n",
      "Epoch : 648 | Loss : 0.008184511214494705 | Test loss : 0.018948007375001907\n",
      "Epoch : 649 | Loss : 0.008080998435616493 | Test loss : 0.018617406487464905\n",
      "Epoch : 650 | Loss : 0.007977806031703949 | Test loss : 0.018492871895432472\n",
      "Epoch : 651 | Loss : 0.007875439710915089 | Test loss : 0.01816226914525032\n",
      "Epoch : 652 | Loss : 0.007771104108542204 | Test loss : 0.018037740141153336\n",
      "Epoch : 653 | Loss : 0.007669876795262098 | Test loss : 0.017707139253616333\n",
      "Epoch : 654 | Loss : 0.0075651779770851135 | Test loss : 0.017376530915498734\n",
      "Epoch : 655 | Loss : 0.007463536690920591 | Test loss : 0.01725200191140175\n",
      "Epoch : 656 | Loss : 0.007359618786722422 | Test loss : 0.016921399161219597\n",
      "Epoch : 657 | Loss : 0.007256835699081421 | Test loss : 0.01679687201976776\n",
      "Epoch : 658 | Loss : 0.007154056336730719 | Test loss : 0.016466263681650162\n",
      "Epoch : 659 | Loss : 0.007050129119306803 | Test loss : 0.016341734677553177\n"
     ]
    },
    {
     "name": "stdout",
     "output_type": "stream",
     "text": [
      "Epoch : 660 | Loss : 0.006948497146368027 | Test loss : 0.016011131927371025\n",
      "Epoch : 661 | Loss : 0.006843795068562031 | Test loss : 0.015680531039834023\n",
      "Epoch : 662 | Loss : 0.006742567755281925 | Test loss : 0.015555995516479015\n",
      "Epoch : 663 | Loss : 0.006638233549892902 | Test loss : 0.01522540207952261\n",
      "Epoch : 664 | Loss : 0.006535862572491169 | Test loss : 0.015100863762199879\n",
      "Epoch : 665 | Loss : 0.006432674825191498 | Test loss : 0.01477026380598545\n",
      "Epoch : 666 | Loss : 0.006329160183668137 | Test loss : 0.014645728282630444\n",
      "Epoch : 667 | Loss : 0.0062271119095385075 | Test loss : 0.014315134845674038\n",
      "Epoch : 668 | Loss : 0.00612245500087738 | Test loss : 0.014190596528351307\n",
      "Epoch : 669 | Loss : 0.006021552253514528 | Test loss : 0.013859996572136879\n",
      "Epoch : 670 | Loss : 0.0059168534353375435 | Test loss : 0.013529402203857899\n",
      "Epoch : 671 | Loss : 0.005814891308546066 | Test loss : 0.013404867611825466\n",
      "Epoch : 672 | Loss : 0.0057112909853458405 | Test loss : 0.013074270449578762\n",
      "Epoch : 673 | Loss : 0.005608187057077885 | Test loss : 0.012949729338288307\n",
      "Epoch : 674 | Loss : 0.005505731794983149 | Test loss : 0.012619134970009327\n",
      "Epoch : 675 | Loss : 0.005401484202593565 | Test loss : 0.012494600377976894\n",
      "Epoch : 676 | Loss : 0.0053001693449914455 | Test loss : 0.01216400321573019\n",
      "Epoch : 677 | Loss : 0.0051954686641693115 | Test loss : 0.011833391152322292\n",
      "Epoch : 678 | Loss : 0.005093918181955814 | Test loss : 0.011708867736160755\n",
      "Epoch : 679 | Loss : 0.004989908542484045 | Test loss : 0.011378264985978603\n",
      "Epoch : 680 | Loss : 0.004887215327471495 | Test loss : 0.011253735981881618\n",
      "Epoch : 681 | Loss : 0.004784347023814917 | Test loss : 0.01092312391847372\n",
      "Epoch : 682 | Loss : 0.004680510610342026 | Test loss : 0.010798600502312183\n",
      "Epoch : 683 | Loss : 0.004578787367790937 | Test loss : 0.010467997752130032\n",
      "Epoch : 684 | Loss : 0.004474085755646229 | Test loss : 0.010137396864593029\n",
      "Epoch : 685 | Loss : 0.004372946452349424 | Test loss : 0.010012856684625149\n",
      "Epoch : 686 | Loss : 0.0042685242369771 | Test loss : 0.009682265110313892\n",
      "Epoch : 687 | Loss : 0.004166243132203817 | Test loss : 0.00955773051828146\n",
      "Epoch : 688 | Loss : 0.004062964115291834 | Test loss : 0.009227129630744457\n",
      "Epoch : 689 | Loss : 0.003959539346396923 | Test loss : 0.009102589450776577\n",
      "Epoch : 690 | Loss : 0.0038574025966227055 | Test loss : 0.00877199787646532\n",
      "Epoch : 691 | Loss : 0.0037528350949287415 | Test loss : 0.008647463284432888\n",
      "Epoch : 692 | Loss : 0.003651842474937439 | Test loss : 0.008316862396895885\n",
      "Epoch : 693 | Loss : 0.0035471413284540176 | Test loss : 0.007986265234649181\n",
      "Epoch : 694 | Loss : 0.0034452711697667837 | Test loss : 0.007861730642616749\n",
      "Epoch : 695 | Loss : 0.0033415809739381075 | Test loss : 0.0075311302207410336\n",
      "Epoch : 696 | Loss : 0.0032385685481131077 | Test loss : 0.007406595628708601\n",
      "Epoch : 697 | Loss : 0.0031360199209302664 | Test loss : 0.007075998466461897\n",
      "Epoch : 698 | Loss : 0.003031863598152995 | Test loss : 0.006951463408768177\n",
      "Epoch : 699 | Loss : 0.0029304586350917816 | Test loss : 0.006620862986892462\n",
      "Epoch : 700 | Loss : 0.0028257593512535095 | Test loss : 0.006290263030678034\n",
      "Epoch : 701 | Loss : 0.0027243008371442556 | Test loss : 0.006165731232613325\n",
      "Epoch : 702 | Loss : 0.0026201975997537374 | Test loss : 0.005835134070366621\n",
      "Epoch : 703 | Loss : 0.002517595188692212 | Test loss : 0.00571059575304389\n",
      "Epoch : 704 | Loss : 0.0024146379437297583 | Test loss : 0.005379995796829462\n",
      "Epoch : 705 | Loss : 0.002310892567038536 | Test loss : 0.005255463998764753\n",
      "Epoch : 706 | Loss : 0.0022090759593993425 | Test loss : 0.004924866836518049\n",
      "Epoch : 707 | Loss : 0.002104374812915921 | Test loss : 0.004594257567077875\n",
      "Epoch : 708 | Loss : 0.0020033277105540037 | Test loss : 0.00446972856298089\n",
      "Epoch : 709 | Loss : 0.001898815855383873 | Test loss : 0.004139128606766462\n",
      "Epoch : 710 | Loss : 0.0017966236919164658 | Test loss : 0.0040145996026694775\n",
      "Epoch : 711 | Loss : 0.0016932532889768481 | Test loss : 0.0036839903332293034\n",
      "Epoch : 712 | Loss : 0.0015899203717708588 | Test loss : 0.0035594613291323185\n",
      "Epoch : 713 | Loss : 0.001487693632952869 | Test loss : 0.003228861140087247\n",
      "Epoch : 714 | Loss : 0.0013832160038873553 | Test loss : 0.003104332135990262\n",
      "Epoch : 715 | Loss : 0.0012821316486224532 | Test loss : 0.0027737230993807316\n",
      "Epoch : 716 | Loss : 0.0011774316662922502 | Test loss : 0.00244312291033566\n",
      "Epoch : 717 | Loss : 0.0010756527772173285 | Test loss : 0.002318593906238675\n",
      "Epoch : 718 | Loss : 0.0009718701476231217 | Test loss : 0.0019879937171936035\n",
      "Epoch : 719 | Loss : 0.0008689487585797906 | Test loss : 0.001863455749116838\n",
      "Epoch : 720 | Loss : 0.0007663100841455162 | Test loss : 0.0015328556764870882\n",
      "Epoch : 721 | Loss : 0.0006622446817345917 | Test loss : 0.0014083266723901033\n",
      "Epoch : 722 | Loss : 0.0005622848984785378 | Test loss : 0.0008743316284380853\n",
      "Epoch : 723 | Loss : 0.00047249143244698644 | Test loss : 0.0013840318424627185\n",
      "Epoch : 724 | Loss : 0.0004981512320227921 | Test loss : 0.0012111514806747437\n",
      "Epoch : 725 | Loss : 0.0016508704284206033 | Test loss : 0.00283014471642673\n",
      "Epoch : 726 | Loss : 0.0018054262036457658 | Test loss : 0.0012111514806747437\n",
      "Epoch : 727 | Loss : 0.0016508704284206033 | Test loss : 0.00283014471642673\n",
      "Epoch : 728 | Loss : 0.0018054262036457658 | Test loss : 0.0012111514806747437\n",
      "Epoch : 729 | Loss : 0.0016508704284206033 | Test loss : 0.00283014471642673\n",
      "Epoch : 730 | Loss : 0.0018054262036457658 | Test loss : 0.0012111514806747437\n",
      "Epoch : 731 | Loss : 0.0016508704284206033 | Test loss : 0.00283014471642673\n",
      "Epoch : 732 | Loss : 0.0018054262036457658 | Test loss : 0.0012111514806747437\n",
      "Epoch : 733 | Loss : 0.0016508704284206033 | Test loss : 0.00283014471642673\n",
      "Epoch : 734 | Loss : 0.0018054262036457658 | Test loss : 0.0012111514806747437\n",
      "Epoch : 735 | Loss : 0.0016508704284206033 | Test loss : 0.00283014471642673\n",
      "Epoch : 736 | Loss : 0.0018054262036457658 | Test loss : 0.0012111514806747437\n",
      "Epoch : 737 | Loss : 0.0016508704284206033 | Test loss : 0.00283014471642673\n",
      "Epoch : 738 | Loss : 0.0018054262036457658 | Test loss : 0.0012111514806747437\n",
      "Epoch : 739 | Loss : 0.0016508704284206033 | Test loss : 0.00283014471642673\n",
      "Epoch : 740 | Loss : 0.0018054262036457658 | Test loss : 0.0012111514806747437\n",
      "Epoch : 741 | Loss : 0.0016508704284206033 | Test loss : 0.00283014471642673\n",
      "Epoch : 742 | Loss : 0.0018054262036457658 | Test loss : 0.0012111514806747437\n",
      "Epoch : 743 | Loss : 0.0016508704284206033 | Test loss : 0.00283014471642673\n",
      "Epoch : 744 | Loss : 0.0018054262036457658 | Test loss : 0.0012111514806747437\n",
      "Epoch : 745 | Loss : 0.0016508704284206033 | Test loss : 0.00283014471642673\n",
      "Epoch : 746 | Loss : 0.0018054262036457658 | Test loss : 0.0012111514806747437\n",
      "Epoch : 747 | Loss : 0.0016508704284206033 | Test loss : 0.00283014471642673\n",
      "Epoch : 748 | Loss : 0.0018054262036457658 | Test loss : 0.0012111514806747437\n",
      "Epoch : 749 | Loss : 0.0016508704284206033 | Test loss : 0.00283014471642673\n",
      "Epoch : 750 | Loss : 0.0018054262036457658 | Test loss : 0.0012111514806747437\n",
      "Epoch : 751 | Loss : 0.0016508704284206033 | Test loss : 0.00283014471642673\n",
      "Epoch : 752 | Loss : 0.0018054262036457658 | Test loss : 0.0012111514806747437\n",
      "Epoch : 753 | Loss : 0.0016508704284206033 | Test loss : 0.00283014471642673\n",
      "Epoch : 754 | Loss : 0.0018054262036457658 | Test loss : 0.0012111514806747437\n",
      "Epoch : 755 | Loss : 0.0016508704284206033 | Test loss : 0.00283014471642673\n",
      "Epoch : 756 | Loss : 0.0018054262036457658 | Test loss : 0.0012111514806747437\n",
      "Epoch : 757 | Loss : 0.0016508704284206033 | Test loss : 0.00283014471642673\n",
      "Epoch : 758 | Loss : 0.0018054262036457658 | Test loss : 0.0012111514806747437\n",
      "Epoch : 759 | Loss : 0.0016508704284206033 | Test loss : 0.00283014471642673\n",
      "Epoch : 760 | Loss : 0.0018054262036457658 | Test loss : 0.0012111514806747437\n",
      "Epoch : 761 | Loss : 0.0016508704284206033 | Test loss : 0.00283014471642673\n",
      "Epoch : 762 | Loss : 0.0018054262036457658 | Test loss : 0.0012111514806747437\n",
      "Epoch : 763 | Loss : 0.0016508704284206033 | Test loss : 0.00283014471642673\n",
      "Epoch : 764 | Loss : 0.0018054262036457658 | Test loss : 0.0012111514806747437\n",
      "Epoch : 765 | Loss : 0.0016508704284206033 | Test loss : 0.00283014471642673\n",
      "Epoch : 766 | Loss : 0.0018054262036457658 | Test loss : 0.0012111514806747437\n",
      "Epoch : 767 | Loss : 0.0016508704284206033 | Test loss : 0.00283014471642673\n",
      "Epoch : 768 | Loss : 0.0018054262036457658 | Test loss : 0.0012111514806747437\n",
      "Epoch : 769 | Loss : 0.0016508704284206033 | Test loss : 0.00283014471642673\n",
      "Epoch : 770 | Loss : 0.0018054262036457658 | Test loss : 0.0012111514806747437\n",
      "Epoch : 771 | Loss : 0.0016508704284206033 | Test loss : 0.00283014471642673\n",
      "Epoch : 772 | Loss : 0.0018054262036457658 | Test loss : 0.0012111514806747437\n",
      "Epoch : 773 | Loss : 0.0016508704284206033 | Test loss : 0.00283014471642673\n",
      "Epoch : 774 | Loss : 0.0018054262036457658 | Test loss : 0.0012111514806747437\n",
      "Epoch : 775 | Loss : 0.0016508704284206033 | Test loss : 0.00283014471642673\n",
      "Epoch : 776 | Loss : 0.0018054262036457658 | Test loss : 0.0012111514806747437\n",
      "Epoch : 777 | Loss : 0.0016508704284206033 | Test loss : 0.00283014471642673\n",
      "Epoch : 778 | Loss : 0.0018054262036457658 | Test loss : 0.0012111514806747437\n",
      "Epoch : 779 | Loss : 0.0016508704284206033 | Test loss : 0.00283014471642673\n",
      "Epoch : 780 | Loss : 0.0018054262036457658 | Test loss : 0.0012111514806747437\n",
      "Epoch : 781 | Loss : 0.0016508704284206033 | Test loss : 0.00283014471642673\n",
      "Epoch : 782 | Loss : 0.0018054262036457658 | Test loss : 0.0012111514806747437\n",
      "Epoch : 783 | Loss : 0.0016508704284206033 | Test loss : 0.00283014471642673\n",
      "Epoch : 784 | Loss : 0.0018054262036457658 | Test loss : 0.0012111514806747437\n",
      "Epoch : 785 | Loss : 0.0016508704284206033 | Test loss : 0.00283014471642673\n",
      "Epoch : 786 | Loss : 0.0018054262036457658 | Test loss : 0.0012111514806747437\n",
      "Epoch : 787 | Loss : 0.0016508704284206033 | Test loss : 0.00283014471642673\n",
      "Epoch : 788 | Loss : 0.0018054262036457658 | Test loss : 0.0012111514806747437\n",
      "Epoch : 789 | Loss : 0.0016508704284206033 | Test loss : 0.00283014471642673\n",
      "Epoch : 790 | Loss : 0.0018054262036457658 | Test loss : 0.0012111514806747437\n",
      "Epoch : 791 | Loss : 0.0016508704284206033 | Test loss : 0.00283014471642673\n",
      "Epoch : 792 | Loss : 0.0018054262036457658 | Test loss : 0.0012111514806747437\n",
      "Epoch : 793 | Loss : 0.0016508704284206033 | Test loss : 0.00283014471642673\n",
      "Epoch : 794 | Loss : 0.0018054262036457658 | Test loss : 0.0012111514806747437\n",
      "Epoch : 795 | Loss : 0.0016508704284206033 | Test loss : 0.00283014471642673\n",
      "Epoch : 796 | Loss : 0.0018054262036457658 | Test loss : 0.0012111514806747437\n",
      "Epoch : 797 | Loss : 0.0016508704284206033 | Test loss : 0.00283014471642673\n",
      "Epoch : 798 | Loss : 0.0018054262036457658 | Test loss : 0.0012111514806747437\n",
      "Epoch : 799 | Loss : 0.0016508704284206033 | Test loss : 0.00283014471642673\n",
      "Epoch : 800 | Loss : 0.0018054262036457658 | Test loss : 0.0012111514806747437\n",
      "Epoch : 801 | Loss : 0.0016508704284206033 | Test loss : 0.00283014471642673\n",
      "Epoch : 802 | Loss : 0.0018054262036457658 | Test loss : 0.0012111514806747437\n",
      "Epoch : 803 | Loss : 0.0016508704284206033 | Test loss : 0.00283014471642673\n",
      "Epoch : 804 | Loss : 0.0018054262036457658 | Test loss : 0.0012111514806747437\n",
      "Epoch : 805 | Loss : 0.0016508704284206033 | Test loss : 0.00283014471642673\n",
      "Epoch : 806 | Loss : 0.0018054262036457658 | Test loss : 0.0012111514806747437\n",
      "Epoch : 807 | Loss : 0.0016508704284206033 | Test loss : 0.00283014471642673\n",
      "Epoch : 808 | Loss : 0.0018054262036457658 | Test loss : 0.0012111514806747437\n",
      "Epoch : 809 | Loss : 0.0016508704284206033 | Test loss : 0.00283014471642673\n",
      "Epoch : 810 | Loss : 0.0018054262036457658 | Test loss : 0.0012111514806747437\n",
      "Epoch : 811 | Loss : 0.0016508704284206033 | Test loss : 0.00283014471642673\n",
      "Epoch : 812 | Loss : 0.0018054262036457658 | Test loss : 0.0012111514806747437\n",
      "Epoch : 813 | Loss : 0.0016508704284206033 | Test loss : 0.00283014471642673\n",
      "Epoch : 814 | Loss : 0.0018054262036457658 | Test loss : 0.0012111514806747437\n",
      "Epoch : 815 | Loss : 0.0016508704284206033 | Test loss : 0.00283014471642673\n",
      "Epoch : 816 | Loss : 0.0018054262036457658 | Test loss : 0.0012111514806747437\n",
      "Epoch : 817 | Loss : 0.0016508704284206033 | Test loss : 0.00283014471642673\n",
      "Epoch : 818 | Loss : 0.0018054262036457658 | Test loss : 0.0012111514806747437\n",
      "Epoch : 819 | Loss : 0.0016508704284206033 | Test loss : 0.00283014471642673\n",
      "Epoch : 820 | Loss : 0.0018054262036457658 | Test loss : 0.0012111514806747437\n",
      "Epoch : 821 | Loss : 0.0016508704284206033 | Test loss : 0.00283014471642673\n",
      "Epoch : 822 | Loss : 0.0018054262036457658 | Test loss : 0.0012111514806747437\n",
      "Epoch : 823 | Loss : 0.0016508704284206033 | Test loss : 0.00283014471642673\n",
      "Epoch : 824 | Loss : 0.0018054262036457658 | Test loss : 0.0012111514806747437\n",
      "Epoch : 825 | Loss : 0.0016508704284206033 | Test loss : 0.00283014471642673\n",
      "Epoch : 826 | Loss : 0.0018054262036457658 | Test loss : 0.0012111514806747437\n",
      "Epoch : 827 | Loss : 0.0016508704284206033 | Test loss : 0.00283014471642673\n",
      "Epoch : 828 | Loss : 0.0018054262036457658 | Test loss : 0.0012111514806747437\n",
      "Epoch : 829 | Loss : 0.0016508704284206033 | Test loss : 0.00283014471642673\n",
      "Epoch : 830 | Loss : 0.0018054262036457658 | Test loss : 0.0012111514806747437\n",
      "Epoch : 831 | Loss : 0.0016508704284206033 | Test loss : 0.00283014471642673\n",
      "Epoch : 832 | Loss : 0.0018054262036457658 | Test loss : 0.0012111514806747437\n",
      "Epoch : 833 | Loss : 0.0016508704284206033 | Test loss : 0.00283014471642673\n",
      "Epoch : 834 | Loss : 0.0018054262036457658 | Test loss : 0.0012111514806747437\n",
      "Epoch : 835 | Loss : 0.0016508704284206033 | Test loss : 0.00283014471642673\n",
      "Epoch : 836 | Loss : 0.0018054262036457658 | Test loss : 0.0012111514806747437\n",
      "Epoch : 837 | Loss : 0.0016508704284206033 | Test loss : 0.00283014471642673\n",
      "Epoch : 838 | Loss : 0.0018054262036457658 | Test loss : 0.0012111514806747437\n",
      "Epoch : 839 | Loss : 0.0016508704284206033 | Test loss : 0.00283014471642673\n"
     ]
    },
    {
     "name": "stdout",
     "output_type": "stream",
     "text": [
      "Epoch : 840 | Loss : 0.0018054262036457658 | Test loss : 0.0012111514806747437\n",
      "Epoch : 841 | Loss : 0.0016508704284206033 | Test loss : 0.00283014471642673\n",
      "Epoch : 842 | Loss : 0.0018054262036457658 | Test loss : 0.0012111514806747437\n",
      "Epoch : 843 | Loss : 0.0016508704284206033 | Test loss : 0.00283014471642673\n",
      "Epoch : 844 | Loss : 0.0018054262036457658 | Test loss : 0.0012111514806747437\n",
      "Epoch : 845 | Loss : 0.0016508704284206033 | Test loss : 0.00283014471642673\n",
      "Epoch : 846 | Loss : 0.0018054262036457658 | Test loss : 0.0012111514806747437\n",
      "Epoch : 847 | Loss : 0.0016508704284206033 | Test loss : 0.00283014471642673\n",
      "Epoch : 848 | Loss : 0.0018054262036457658 | Test loss : 0.0012111514806747437\n",
      "Epoch : 849 | Loss : 0.0016508704284206033 | Test loss : 0.00283014471642673\n",
      "Epoch : 850 | Loss : 0.0018054262036457658 | Test loss : 0.0012111514806747437\n",
      "Epoch : 851 | Loss : 0.0016508704284206033 | Test loss : 0.00283014471642673\n",
      "Epoch : 852 | Loss : 0.0018054262036457658 | Test loss : 0.0012111514806747437\n",
      "Epoch : 853 | Loss : 0.0016508704284206033 | Test loss : 0.00283014471642673\n",
      "Epoch : 854 | Loss : 0.0018054262036457658 | Test loss : 0.0012111514806747437\n",
      "Epoch : 855 | Loss : 0.0016508704284206033 | Test loss : 0.00283014471642673\n",
      "Epoch : 856 | Loss : 0.0018054262036457658 | Test loss : 0.0012111514806747437\n",
      "Epoch : 857 | Loss : 0.0016508704284206033 | Test loss : 0.00283014471642673\n",
      "Epoch : 858 | Loss : 0.0018054262036457658 | Test loss : 0.0012111514806747437\n",
      "Epoch : 859 | Loss : 0.0016508704284206033 | Test loss : 0.00283014471642673\n",
      "Epoch : 860 | Loss : 0.0018054262036457658 | Test loss : 0.0012111514806747437\n",
      "Epoch : 861 | Loss : 0.0016508704284206033 | Test loss : 0.00283014471642673\n",
      "Epoch : 862 | Loss : 0.0018054262036457658 | Test loss : 0.0012111514806747437\n",
      "Epoch : 863 | Loss : 0.0016508704284206033 | Test loss : 0.00283014471642673\n",
      "Epoch : 864 | Loss : 0.0018054262036457658 | Test loss : 0.0012111514806747437\n",
      "Epoch : 865 | Loss : 0.0016508704284206033 | Test loss : 0.00283014471642673\n",
      "Epoch : 866 | Loss : 0.0018054262036457658 | Test loss : 0.0012111514806747437\n",
      "Epoch : 867 | Loss : 0.0016508704284206033 | Test loss : 0.00283014471642673\n",
      "Epoch : 868 | Loss : 0.0018054262036457658 | Test loss : 0.0012111514806747437\n",
      "Epoch : 869 | Loss : 0.0016508704284206033 | Test loss : 0.00283014471642673\n",
      "Epoch : 870 | Loss : 0.0018054262036457658 | Test loss : 0.0012111514806747437\n",
      "Epoch : 871 | Loss : 0.0016508704284206033 | Test loss : 0.00283014471642673\n",
      "Epoch : 872 | Loss : 0.0018054262036457658 | Test loss : 0.0012111514806747437\n",
      "Epoch : 873 | Loss : 0.0016508704284206033 | Test loss : 0.00283014471642673\n",
      "Epoch : 874 | Loss : 0.0018054262036457658 | Test loss : 0.0012111514806747437\n",
      "Epoch : 875 | Loss : 0.0016508704284206033 | Test loss : 0.00283014471642673\n",
      "Epoch : 876 | Loss : 0.0018054262036457658 | Test loss : 0.0012111514806747437\n",
      "Epoch : 877 | Loss : 0.0016508704284206033 | Test loss : 0.00283014471642673\n",
      "Epoch : 878 | Loss : 0.0018054262036457658 | Test loss : 0.0012111514806747437\n",
      "Epoch : 879 | Loss : 0.0016508704284206033 | Test loss : 0.00283014471642673\n",
      "Epoch : 880 | Loss : 0.0018054262036457658 | Test loss : 0.0012111514806747437\n",
      "Epoch : 881 | Loss : 0.0016508704284206033 | Test loss : 0.00283014471642673\n",
      "Epoch : 882 | Loss : 0.0018054262036457658 | Test loss : 0.0012111514806747437\n",
      "Epoch : 883 | Loss : 0.0016508704284206033 | Test loss : 0.00283014471642673\n",
      "Epoch : 884 | Loss : 0.0018054262036457658 | Test loss : 0.0012111514806747437\n",
      "Epoch : 885 | Loss : 0.0016508704284206033 | Test loss : 0.00283014471642673\n",
      "Epoch : 886 | Loss : 0.0018054262036457658 | Test loss : 0.0012111514806747437\n",
      "Epoch : 887 | Loss : 0.0016508704284206033 | Test loss : 0.00283014471642673\n",
      "Epoch : 888 | Loss : 0.0018054262036457658 | Test loss : 0.0012111514806747437\n",
      "Epoch : 889 | Loss : 0.0016508704284206033 | Test loss : 0.00283014471642673\n",
      "Epoch : 890 | Loss : 0.0018054262036457658 | Test loss : 0.0012111514806747437\n",
      "Epoch : 891 | Loss : 0.0016508704284206033 | Test loss : 0.00283014471642673\n",
      "Epoch : 892 | Loss : 0.0018054262036457658 | Test loss : 0.0012111514806747437\n",
      "Epoch : 893 | Loss : 0.0016508704284206033 | Test loss : 0.00283014471642673\n",
      "Epoch : 894 | Loss : 0.0018054262036457658 | Test loss : 0.0012111514806747437\n",
      "Epoch : 895 | Loss : 0.0016508704284206033 | Test loss : 0.00283014471642673\n",
      "Epoch : 896 | Loss : 0.0018054262036457658 | Test loss : 0.0012111514806747437\n",
      "Epoch : 897 | Loss : 0.0016508704284206033 | Test loss : 0.00283014471642673\n",
      "Epoch : 898 | Loss : 0.0018054262036457658 | Test loss : 0.0012111514806747437\n",
      "Epoch : 899 | Loss : 0.0016508704284206033 | Test loss : 0.00283014471642673\n",
      "Epoch : 900 | Loss : 0.0018054262036457658 | Test loss : 0.0012111514806747437\n",
      "Epoch : 901 | Loss : 0.0016508704284206033 | Test loss : 0.00283014471642673\n",
      "Epoch : 902 | Loss : 0.0018054262036457658 | Test loss : 0.0012111514806747437\n",
      "Epoch : 903 | Loss : 0.0016508704284206033 | Test loss : 0.00283014471642673\n",
      "Epoch : 904 | Loss : 0.0018054262036457658 | Test loss : 0.0012111514806747437\n",
      "Epoch : 905 | Loss : 0.0016508704284206033 | Test loss : 0.00283014471642673\n",
      "Epoch : 906 | Loss : 0.0018054262036457658 | Test loss : 0.0012111514806747437\n",
      "Epoch : 907 | Loss : 0.0016508704284206033 | Test loss : 0.00283014471642673\n",
      "Epoch : 908 | Loss : 0.0018054262036457658 | Test loss : 0.0012111514806747437\n",
      "Epoch : 909 | Loss : 0.0016508704284206033 | Test loss : 0.00283014471642673\n",
      "Epoch : 910 | Loss : 0.0018054262036457658 | Test loss : 0.0012111514806747437\n",
      "Epoch : 911 | Loss : 0.0016508704284206033 | Test loss : 0.00283014471642673\n",
      "Epoch : 912 | Loss : 0.0018054262036457658 | Test loss : 0.0012111514806747437\n",
      "Epoch : 913 | Loss : 0.0016508704284206033 | Test loss : 0.00283014471642673\n",
      "Epoch : 914 | Loss : 0.0018054262036457658 | Test loss : 0.0012111514806747437\n",
      "Epoch : 915 | Loss : 0.0016508704284206033 | Test loss : 0.00283014471642673\n",
      "Epoch : 916 | Loss : 0.0018054262036457658 | Test loss : 0.0012111514806747437\n",
      "Epoch : 917 | Loss : 0.0016508704284206033 | Test loss : 0.00283014471642673\n",
      "Epoch : 918 | Loss : 0.0018054262036457658 | Test loss : 0.0012111514806747437\n",
      "Epoch : 919 | Loss : 0.0016508704284206033 | Test loss : 0.00283014471642673\n",
      "Epoch : 920 | Loss : 0.0018054262036457658 | Test loss : 0.0012111514806747437\n",
      "Epoch : 921 | Loss : 0.0016508704284206033 | Test loss : 0.00283014471642673\n",
      "Epoch : 922 | Loss : 0.0018054262036457658 | Test loss : 0.0012111514806747437\n",
      "Epoch : 923 | Loss : 0.0016508704284206033 | Test loss : 0.00283014471642673\n",
      "Epoch : 924 | Loss : 0.0018054262036457658 | Test loss : 0.0012111514806747437\n",
      "Epoch : 925 | Loss : 0.0016508704284206033 | Test loss : 0.00283014471642673\n",
      "Epoch : 926 | Loss : 0.0018054262036457658 | Test loss : 0.0012111514806747437\n",
      "Epoch : 927 | Loss : 0.0016508704284206033 | Test loss : 0.00283014471642673\n",
      "Epoch : 928 | Loss : 0.0018054262036457658 | Test loss : 0.0012111514806747437\n",
      "Epoch : 929 | Loss : 0.0016508704284206033 | Test loss : 0.00283014471642673\n",
      "Epoch : 930 | Loss : 0.0018054262036457658 | Test loss : 0.0012111514806747437\n",
      "Epoch : 931 | Loss : 0.0016508704284206033 | Test loss : 0.00283014471642673\n",
      "Epoch : 932 | Loss : 0.0018054262036457658 | Test loss : 0.0012111514806747437\n",
      "Epoch : 933 | Loss : 0.0016508704284206033 | Test loss : 0.00283014471642673\n",
      "Epoch : 934 | Loss : 0.0018054262036457658 | Test loss : 0.0012111514806747437\n",
      "Epoch : 935 | Loss : 0.0016508704284206033 | Test loss : 0.00283014471642673\n",
      "Epoch : 936 | Loss : 0.0018054262036457658 | Test loss : 0.0012111514806747437\n",
      "Epoch : 937 | Loss : 0.0016508704284206033 | Test loss : 0.00283014471642673\n",
      "Epoch : 938 | Loss : 0.0018054262036457658 | Test loss : 0.0012111514806747437\n",
      "Epoch : 939 | Loss : 0.0016508704284206033 | Test loss : 0.00283014471642673\n",
      "Epoch : 940 | Loss : 0.0018054262036457658 | Test loss : 0.0012111514806747437\n",
      "Epoch : 941 | Loss : 0.0016508704284206033 | Test loss : 0.00283014471642673\n",
      "Epoch : 942 | Loss : 0.0018054262036457658 | Test loss : 0.0012111514806747437\n",
      "Epoch : 943 | Loss : 0.0016508704284206033 | Test loss : 0.00283014471642673\n",
      "Epoch : 944 | Loss : 0.0018054262036457658 | Test loss : 0.0012111514806747437\n",
      "Epoch : 945 | Loss : 0.0016508704284206033 | Test loss : 0.00283014471642673\n",
      "Epoch : 946 | Loss : 0.0018054262036457658 | Test loss : 0.0012111514806747437\n",
      "Epoch : 947 | Loss : 0.0016508704284206033 | Test loss : 0.00283014471642673\n",
      "Epoch : 948 | Loss : 0.0018054262036457658 | Test loss : 0.0012111514806747437\n",
      "Epoch : 949 | Loss : 0.0016508704284206033 | Test loss : 0.00283014471642673\n",
      "Epoch : 950 | Loss : 0.0018054262036457658 | Test loss : 0.0012111514806747437\n",
      "Epoch : 951 | Loss : 0.0016508704284206033 | Test loss : 0.00283014471642673\n",
      "Epoch : 952 | Loss : 0.0018054262036457658 | Test loss : 0.0012111514806747437\n",
      "Epoch : 953 | Loss : 0.0016508704284206033 | Test loss : 0.00283014471642673\n",
      "Epoch : 954 | Loss : 0.0018054262036457658 | Test loss : 0.0012111514806747437\n",
      "Epoch : 955 | Loss : 0.0016508704284206033 | Test loss : 0.00283014471642673\n",
      "Epoch : 956 | Loss : 0.0018054262036457658 | Test loss : 0.0012111514806747437\n",
      "Epoch : 957 | Loss : 0.0016508704284206033 | Test loss : 0.00283014471642673\n",
      "Epoch : 958 | Loss : 0.0018054262036457658 | Test loss : 0.0012111514806747437\n",
      "Epoch : 959 | Loss : 0.0016508704284206033 | Test loss : 0.00283014471642673\n",
      "Epoch : 960 | Loss : 0.0018054262036457658 | Test loss : 0.0012111514806747437\n",
      "Epoch : 961 | Loss : 0.0016508704284206033 | Test loss : 0.00283014471642673\n",
      "Epoch : 962 | Loss : 0.0018054262036457658 | Test loss : 0.0012111514806747437\n",
      "Epoch : 963 | Loss : 0.0016508704284206033 | Test loss : 0.00283014471642673\n",
      "Epoch : 964 | Loss : 0.0018054262036457658 | Test loss : 0.0012111514806747437\n",
      "Epoch : 965 | Loss : 0.0016508704284206033 | Test loss : 0.00283014471642673\n",
      "Epoch : 966 | Loss : 0.0018054262036457658 | Test loss : 0.0012111514806747437\n",
      "Epoch : 967 | Loss : 0.0016508704284206033 | Test loss : 0.00283014471642673\n",
      "Epoch : 968 | Loss : 0.0018054262036457658 | Test loss : 0.0012111514806747437\n",
      "Epoch : 969 | Loss : 0.0016508704284206033 | Test loss : 0.00283014471642673\n",
      "Epoch : 970 | Loss : 0.0018054262036457658 | Test loss : 0.0012111514806747437\n",
      "Epoch : 971 | Loss : 0.0016508704284206033 | Test loss : 0.00283014471642673\n",
      "Epoch : 972 | Loss : 0.0018054262036457658 | Test loss : 0.0012111514806747437\n",
      "Epoch : 973 | Loss : 0.0016508704284206033 | Test loss : 0.00283014471642673\n",
      "Epoch : 974 | Loss : 0.0018054262036457658 | Test loss : 0.0012111514806747437\n",
      "Epoch : 975 | Loss : 0.0016508704284206033 | Test loss : 0.00283014471642673\n",
      "Epoch : 976 | Loss : 0.0018054262036457658 | Test loss : 0.0012111514806747437\n",
      "Epoch : 977 | Loss : 0.0016508704284206033 | Test loss : 0.00283014471642673\n",
      "Epoch : 978 | Loss : 0.0018054262036457658 | Test loss : 0.0012111514806747437\n",
      "Epoch : 979 | Loss : 0.0016508704284206033 | Test loss : 0.00283014471642673\n",
      "Epoch : 980 | Loss : 0.0018054262036457658 | Test loss : 0.0012111514806747437\n",
      "Epoch : 981 | Loss : 0.0016508704284206033 | Test loss : 0.00283014471642673\n",
      "Epoch : 982 | Loss : 0.0018054262036457658 | Test loss : 0.0012111514806747437\n",
      "Epoch : 983 | Loss : 0.0016508704284206033 | Test loss : 0.00283014471642673\n",
      "Epoch : 984 | Loss : 0.0018054262036457658 | Test loss : 0.0012111514806747437\n",
      "Epoch : 985 | Loss : 0.0016508704284206033 | Test loss : 0.00283014471642673\n",
      "Epoch : 986 | Loss : 0.0018054262036457658 | Test loss : 0.0012111514806747437\n",
      "Epoch : 987 | Loss : 0.0016508704284206033 | Test loss : 0.00283014471642673\n",
      "Epoch : 988 | Loss : 0.0018054262036457658 | Test loss : 0.0012111514806747437\n",
      "Epoch : 989 | Loss : 0.0016508704284206033 | Test loss : 0.00283014471642673\n",
      "Epoch : 990 | Loss : 0.0018054262036457658 | Test loss : 0.0012111514806747437\n",
      "Epoch : 991 | Loss : 0.0016508704284206033 | Test loss : 0.00283014471642673\n",
      "Epoch : 992 | Loss : 0.0018054262036457658 | Test loss : 0.0012111514806747437\n",
      "Epoch : 993 | Loss : 0.0016508704284206033 | Test loss : 0.00283014471642673\n",
      "Epoch : 994 | Loss : 0.0018054262036457658 | Test loss : 0.0012111514806747437\n",
      "Epoch : 995 | Loss : 0.0016508704284206033 | Test loss : 0.00283014471642673\n",
      "Epoch : 996 | Loss : 0.0018054262036457658 | Test loss : 0.0012111514806747437\n",
      "Epoch : 997 | Loss : 0.0016508704284206033 | Test loss : 0.00283014471642673\n",
      "Epoch : 998 | Loss : 0.0018054262036457658 | Test loss : 0.0012111514806747437\n",
      "Epoch : 999 | Loss : 0.0016508704284206033 | Test loss : 0.00283014471642673\n"
     ]
    }
   ],
   "source": [
    "# Let's write a training loop\n",
    "torch.manual_seed(42)\n",
    "\n",
    "epochs = 1000\n",
    "\n",
    "# Put data on the target device (device agnostic code for data)\n",
    "X_train = X_train.to(device)\n",
    "X_test = X_test.to(device)\n",
    "Y_train = Y_train.to(device)\n",
    "Y_test = Y_test.to(device)\n",
    "\n",
    "for epoch in range(epochs):\n",
    "    model_1.train()\n",
    "\n",
    "    # 1. Forward pass\n",
    "    Y_pred = model_1(X_train)\n",
    "\n",
    "    # 2. Calculate the loss\n",
    "    loss = loss_fn(Y_pred, Y_train)\n",
    "\n",
    "    # 3. Optimizer zero grad\n",
    "    optimizer.zero_grad()\n",
    "\n",
    "    # 4. Perform backpropagation\n",
    "    loss.backward()\n",
    "\n",
    "    # 5. optimizer step\n",
    "    optimizer.step()\n",
    "\n",
    "    ### Testing\n",
    "    model_1.eval()\n",
    "\n",
    "    with torch.inference_mode():\n",
    "        test_pred = model_1(X_test)\n",
    "\n",
    "        test_loss = loss_fn(test_pred, Y_test)\n",
    "\n",
    "        if epochs%10 == 0:\n",
    "            print(f\"Epoch : {epoch} | Loss : {loss} | Test loss : {test_loss}\")"
   ]
  },
  {
   "cell_type": "code",
   "execution_count": 128,
   "metadata": {
    "colab": {
     "base_uri": "https://localhost:8080/"
    },
    "id": "DphpmulkeEr-",
    "outputId": "d708106c-d141-4e45-9f9e-93350ec37f1a"
   },
   "outputs": [
    {
     "data": {
      "text/plain": [
       "OrderedDict([('linear_layer.weight', tensor([[0.2020]], device='cuda:0')),\n",
       "             ('linear_layer.bias', tensor([0.1010], device='cuda:0'))])"
      ]
     },
     "execution_count": 128,
     "metadata": {},
     "output_type": "execute_result"
    }
   ],
   "source": [
    "model_1.state_dict()"
   ]
  },
  {
   "cell_type": "code",
   "execution_count": 129,
   "metadata": {
    "colab": {
     "base_uri": "https://localhost:8080/"
    },
    "id": "Bg4y82j9eEr_",
    "outputId": "b285f85e-b47d-45e9-ee76-2f5da92ed9a2"
   },
   "outputs": [
    {
     "data": {
      "text/plain": [
       "tensor([[0.2626],\n",
       "        [0.2667],\n",
       "        [0.2707],\n",
       "        [0.2748],\n",
       "        [0.2788],\n",
       "        [0.2829],\n",
       "        [0.2869],\n",
       "        [0.2909],\n",
       "        [0.2950],\n",
       "        [0.2990]], device='cuda:0')"
      ]
     },
     "execution_count": 129,
     "metadata": {},
     "output_type": "execute_result"
    }
   ],
   "source": [
    "# Turn model into evaluation mode\n",
    "model_1.eval()\n",
    "\n",
    "# Make predictions on the test data\n",
    "with torch.inference_mode():\n",
    "    Y_preds = model_1(X_test)\n",
    "\n",
    "Y_preds"
   ]
  },
  {
   "cell_type": "code",
   "execution_count": 130,
   "metadata": {
    "colab": {
     "base_uri": "https://localhost:8080/",
     "height": 461
    },
    "id": "jtt1wxPQeEr_",
    "outputId": "a55cbef3-d51d-424a-ee91-b8b3c76f93db"
   },
   "outputs": [
    {
     "data": {
      "image/png": "[encoded data removed]",
      "text/plain": [
       "<Figure size 720x504 with 1 Axes>"
      ]
     },
     "metadata": {
      "needs_background": "light"
     },
     "output_type": "display_data"
    }
   ],
   "source": [
    "# Check out our model predictions visually\n",
    "plot_predictions(X_train.cpu(), Y_train.cpu(), X_test.cpu(), Y_test.cpu(), predictions=Y_preds.cpu())"
   ]
  },
  {
   "cell_type": "markdown",
   "metadata": {
    "id": "k_VNB-o5eEsA"
   },
   "source": [
    "### 6.5 Saving & loading a trained model"
   ]
  },
  {
   "cell_type": "code",
   "execution_count": 131,
   "metadata": {
    "colab": {
     "base_uri": "https://localhost:8080/"
    },
    "id": "5CmM_FaMeEsA",
    "outputId": "0223194e-a509-4c8c-87ea-d48670373c4b"
   },
   "outputs": [
    {
     "name": "stdout",
     "output_type": "stream",
     "text": [
      "Saving model to : models\\01_pytorch_workflow_model_1.pth\n"
     ]
    }
   ],
   "source": [
    "# 1. Create models directory\n",
    "MODEL_PATH = Path(\"models\")\n",
    "MODEL_PATH.mkdir(parents=True, exist_ok=True)\n",
    "\n",
    "# 2. Create model save path\n",
    "MODEL_NAME = \"01_pytorch_workflow_model_1.pth\"\n",
    "MODEL_SAVE_PATH = MODEL_PATH / MODEL_NAME\n",
    "\n",
    "# 3. Save the model state dict\n",
    "print(f\"Saving model to : {MODEL_SAVE_PATH}\")\n",
    "torch.save(obj=model_1.state_dict(),\n",
    "          f=MODEL_SAVE_PATH)"
   ]
  },
  {
   "cell_type": "code",
   "execution_count": 132,
   "metadata": {
    "colab": {
     "base_uri": "https://localhost:8080/"
    },
    "id": "I0rdk7HoeEsB",
    "outputId": "c1872e00-395a-482d-cadb-be94fc27d114"
   },
   "outputs": [
    {
     "data": {
      "text/plain": [
       "LinearRegressionModelV2(\n",
       "  (linear_layer): Linear(in_features=1, out_features=1, bias=True)\n",
       ")"
      ]
     },
     "execution_count": 132,
     "metadata": {},
     "output_type": "execute_result"
    }
   ],
   "source": [
    "# Load a PyTorch\n",
    "\n",
    "# Create a new instance of Linear regression model V2\n",
    "loaded_model_1 = LinearRegressionModelV2()\n",
    "\n",
    "# Load the saved model_1 state_dict\n",
    "loaded_model_1.load_state_dict(torch.load(MODEL_SAVE_PATH))\n",
    "\n",
    "# Put the loaded model to device\n",
    "loaded_model_1.to(device)"
   ]
  },
  {
   "cell_type": "code",
   "execution_count": 133,
   "metadata": {
    "colab": {
     "base_uri": "https://localhost:8080/"
    },
    "id": "mfZLY8TQeEsC",
    "outputId": "1480d12a-89e3-4aef-a450-ca1cee988959"
   },
   "outputs": [
    {
     "data": {
      "text/plain": [
       "device(type='cuda', index=0)"
      ]
     },
     "execution_count": 133,
     "metadata": {},
     "output_type": "execute_result"
    }
   ],
   "source": [
    "next(loaded_model_1.parameters()).device"
   ]
  },
  {
   "cell_type": "code",
   "execution_count": 134,
   "metadata": {
    "colab": {
     "base_uri": "https://localhost:8080/"
    },
    "id": "CU38srAGeEsC",
    "outputId": "490fb68b-322d-4a3d-bf32-500acc3809f7"
   },
   "outputs": [
    {
     "data": {
      "text/plain": [
       "OrderedDict([('linear_layer.weight', tensor([[0.2020]], device='cuda:0')),\n",
       "             ('linear_layer.bias', tensor([0.1010], device='cuda:0'))])"
      ]
     },
     "execution_count": 134,
     "metadata": {},
     "output_type": "execute_result"
    }
   ],
   "source": [
    "loaded_model_1.state_dict()"
   ]
  },
  {
   "cell_type": "code",
   "execution_count": 135,
   "metadata": {
    "colab": {
     "base_uri": "https://localhost:8080/"
    },
    "id": "ghdzhAP-eEsC",
    "outputId": "a93a711d-9525-42dd-d203-6000a6b9e46f"
   },
   "outputs": [
    {
     "data": {
      "text/plain": [
       "tensor([[True],\n",
       "        [True],\n",
       "        [True],\n",
       "        [True],\n",
       "        [True],\n",
       "        [True],\n",
       "        [True],\n",
       "        [True],\n",
       "        [True],\n",
       "        [True]], device='cuda:0')"
      ]
     },
     "execution_count": 135,
     "metadata": {},
     "output_type": "execute_result"
    }
   ],
   "source": [
    "# Evaluate loaded model\n",
    "loaded_model_1.eval()\n",
    "with torch.inference_mode():\n",
    "    loaded_model_1_preds = loaded_model_1(X_test)\n",
    "\n",
    "Y_preds == loaded_model_1_preds"
   ]
  },
  {
   "cell_type": "code",
   "execution_count": 136,
   "metadata": {
    "id": "8pTuUxCWeEsD"
   },
   "outputs": [],
   "source": [
    "## Exercises & Extra-curriculum"
   ]
  },
  {
   "cell_type": "code",
   "execution_count": 137,
   "metadata": {
    "colab": {
     "base_uri": "https://localhost:8080/",
     "height": 466
    },
    "id": "FMqd469CeEsD",
    "outputId": "f8887a53-bbe8-4b7f-a560-fedd9b4ccefd"
   },
   "outputs": [
    {
     "data": {
      "image/png": "[encoded data removed]",
      "text/plain": [
       "<Figure size 720x504 with 1 Axes>"
      ]
     },
     "metadata": {
      "needs_background": "light"
     },
     "output_type": "display_data"
    }
   ],
   "source": [
    "X = torch.arange(0, 1, 0.01)\n",
    "weight = 0.3\n",
    "bias = 0.9\n",
    "\n",
    "Y = weight * X + bias\n",
    "\n",
    "train_split = int(0.8 * len(X))\n",
    "\n",
    "X_train = X[:train_split]\n",
    "X_test = X[train_split:]\n",
    "Y_train = Y[:train_split]\n",
    "Y_test = Y[train_split:]\n",
    "\n",
    "plot_predictions(X_train, Y_train, X_test, Y_test)"
   ]
  },
  {
   "cell_type": "code",
   "execution_count": 138,
   "metadata": {
    "id": "kSSmnMsheEsD"
   },
   "outputs": [],
   "source": [
    "torch.manual_seed(35)\n",
    "class LinearRegressionModelEx(nn.Module):\n",
    "    def __init__(self):\n",
    "        super().__init__()\n",
    "\n",
    "        self.weight = nn.Parameter(torch.randn(1,\n",
    "                                              requires_grad = True,\n",
    "                                              dtype = torch.float))\n",
    "\n",
    "        self.bias = nn.Parameter(torch.randn(1,\n",
    "                                            requires_grad = True,\n",
    "                                            dtype = torch.float))\n",
    "\n",
    "    def forward(self, X):\n",
    "        return self.weight * X + self.bias"
   ]
  },
  {
   "cell_type": "code",
   "execution_count": 139,
   "metadata": {
    "colab": {
     "base_uri": "https://localhost:8080/"
    },
    "id": "pK-4MifIeEsD",
    "outputId": "67b16c25-1aa7-40ce-b442-f79244c0ac7c"
   },
   "outputs": [
    {
     "data": {
      "text/plain": [
       "OrderedDict([('weight', tensor([0.9674])), ('bias', tensor([0.6711]))])"
      ]
     },
     "execution_count": 139,
     "metadata": {},
     "output_type": "execute_result"
    }
   ],
   "source": [
    "model_ex = LinearRegressionModelEx()\n",
    "model_ex.state_dict()"
   ]
  },
  {
   "cell_type": "code",
   "execution_count": 140,
   "metadata": {
    "id": "9BZaSqUBeEsE"
   },
   "outputs": [],
   "source": [
    "loss_fn = nn.L1Loss()\n",
    "optimizer = torch.optim.SGD(params = model_ex.parameters(),\n",
    "                           lr = 0.01)"
   ]
  },
  {
   "cell_type": "code",
   "execution_count": 141,
   "metadata": {
    "colab": {
     "base_uri": "https://localhost:8080/"
    },
    "id": "UVo5YipceEsE",
    "outputId": "15dd5c6a-6c1c-4f76-8bd4-42352f6068f1"
   },
   "outputs": [
    {
     "name": "stdout",
     "output_type": "stream",
     "text": [
      "Epoch : 0 | Loss : 0.1357356756925583 | Test loss : 0.36499106884002686\n",
      "Epoch : 1 | Loss : 0.13497303426265717 | Test loss : 0.3615370988845825\n",
      "Epoch : 2 | Loss : 0.13421037793159485 | Test loss : 0.3580830991268158\n",
      "Epoch : 3 | Loss : 0.13348813354969025 | Test loss : 0.3549575209617615\n",
      "Epoch : 4 | Loss : 0.13282407820224762 | Test loss : 0.3518318831920624\n",
      "Epoch : 5 | Loss : 0.132160022854805 | Test loss : 0.34870627522468567\n",
      "Epoch : 6 | Loss : 0.13151048123836517 | Test loss : 0.3459112048149109\n",
      "Epoch : 7 | Loss : 0.13093212246894836 | Test loss : 0.3431161046028137\n",
      "Epoch : 8 | Loss : 0.13035373389720917 | Test loss : 0.34032103419303894\n",
      "Epoch : 9 | Loss : 0.12977536022663116 | Test loss : 0.3375259339809418\n",
      "Epoch : 10 | Loss : 0.12920784950256348 | Test loss : 0.335063636302948\n",
      "Epoch : 11 | Loss : 0.12870214879512787 | Test loss : 0.33260130882263184\n",
      "Epoch : 12 | Loss : 0.12819643318653107 | Test loss : 0.33013901114463806\n",
      "Epoch : 13 | Loss : 0.12769073247909546 | Test loss : 0.3276767134666443\n",
      "Epoch : 14 | Loss : 0.12718503177165985 | Test loss : 0.3252143859863281\n",
      "Epoch : 15 | Loss : 0.1266958862543106 | Test loss : 0.3230871856212616\n",
      "Epoch : 16 | Loss : 0.12624970078468323 | Test loss : 0.3209599256515503\n",
      "Epoch : 17 | Loss : 0.12580348551273346 | Test loss : 0.3188326954841614\n",
      "Epoch : 18 | Loss : 0.12535730004310608 | Test loss : 0.31670549511909485\n",
      "Epoch : 19 | Loss : 0.12491109222173691 | Test loss : 0.31457826495170593\n",
      "Epoch : 20 | Loss : 0.12446490675210953 | Test loss : 0.31245100498199463\n",
      "Epoch : 21 | Loss : 0.12403728067874908 | Test loss : 0.31066104769706726\n",
      "Epoch : 22 | Loss : 0.12363728135824203 | Test loss : 0.3088710606098175\n",
      "Epoch : 23 | Loss : 0.12323730438947678 | Test loss : 0.30708107352256775\n",
      "Epoch : 24 | Loss : 0.12283730506896973 | Test loss : 0.3052911162376404\n",
      "Epoch : 25 | Loss : 0.12243729829788208 | Test loss : 0.30350109934806824\n",
      "Epoch : 26 | Loss : 0.12203729152679443 | Test loss : 0.30171114206314087\n",
      "Epoch : 27 | Loss : 0.12163730710744858 | Test loss : 0.2999211847782135\n",
      "Epoch : 28 | Loss : 0.12124084681272507 | Test loss : 0.2984706461429596\n",
      "Epoch : 29 | Loss : 0.1208735927939415 | Test loss : 0.2970201075077057\n",
      "Epoch : 30 | Loss : 0.12050633877515793 | Test loss : 0.2955695688724518\n",
      "Epoch : 31 | Loss : 0.12013909965753555 | Test loss : 0.2941190302371979\n",
      "Epoch : 32 | Loss : 0.11977183818817139 | Test loss : 0.29266849160194397\n",
      "Epoch : 33 | Loss : 0.11940457671880722 | Test loss : 0.29121795296669006\n",
      "Epoch : 34 | Loss : 0.11903732270002365 | Test loss : 0.28976741433143616\n",
      "Epoch : 35 | Loss : 0.11867008358240128 | Test loss : 0.28831690549850464\n",
      "Epoch : 36 | Loss : 0.11830282211303711 | Test loss : 0.28686633706092834\n",
      "Epoch : 37 | Loss : 0.11793559044599533 | Test loss : 0.2854158580303192\n",
      "Epoch : 38 | Loss : 0.11756831407546997 | Test loss : 0.2839653193950653\n",
      "Epoch : 39 | Loss : 0.117201067507267 | Test loss : 0.2825147807598114\n",
      "Epoch : 40 | Loss : 0.11684449762105942 | Test loss : 0.2814060151576996\n",
      "Epoch : 41 | Loss : 0.11649639904499054 | Test loss : 0.28029727935791016\n",
      "Epoch : 42 | Loss : 0.11614829301834106 | Test loss : 0.2791885435581207\n",
      "Epoch : 43 | Loss : 0.11580020189285278 | Test loss : 0.2780798077583313\n",
      "Epoch : 44 | Loss : 0.1154521033167839 | Test loss : 0.27697107195854187\n",
      "Epoch : 45 | Loss : 0.11510399729013443 | Test loss : 0.27586233615875244\n",
      "Epoch : 46 | Loss : 0.11475589126348495 | Test loss : 0.274753600358963\n",
      "Epoch : 47 | Loss : 0.11440779268741608 | Test loss : 0.27364489436149597\n",
      "Epoch : 48 | Loss : 0.1140596866607666 | Test loss : 0.27253612875938416\n",
      "Epoch : 49 | Loss : 0.11371159553527832 | Test loss : 0.27142736315727234\n",
      "Epoch : 50 | Loss : 0.11336348205804825 | Test loss : 0.2703186571598053\n",
      "Epoch : 51 | Loss : 0.11301539093255997 | Test loss : 0.26920992136001587\n",
      "Epoch : 52 | Loss : 0.11266728490591049 | Test loss : 0.26810118556022644\n",
      "Epoch : 53 | Loss : 0.11231918632984161 | Test loss : 0.266992449760437\n",
      "Epoch : 54 | Loss : 0.11197109520435333 | Test loss : 0.26588374376296997\n",
      "Epoch : 55 | Loss : 0.11162298172712326 | Test loss : 0.26477497816085815\n",
      "Epoch : 56 | Loss : 0.11127489060163498 | Test loss : 0.2636662423610687\n",
      "Epoch : 57 | Loss : 0.11092676967382431 | Test loss : 0.2625575065612793\n",
      "Epoch : 58 | Loss : 0.11057867854833603 | Test loss : 0.26144877076148987\n",
      "Epoch : 59 | Loss : 0.11023057997226715 | Test loss : 0.26034003496170044\n",
      "Epoch : 60 | Loss : 0.10988248884677887 | Test loss : 0.259231299161911\n",
      "Epoch : 61 | Loss : 0.1095343753695488 | Test loss : 0.2581225335597992\n",
      "Epoch : 62 | Loss : 0.10919132083654404 | Test loss : 0.25735780596733093\n",
      "Epoch : 63 | Loss : 0.10884862393140793 | Test loss : 0.2565930485725403\n",
      "Epoch : 64 | Loss : 0.10850591957569122 | Test loss : 0.25582829117774963\n",
      "Epoch : 65 | Loss : 0.10816323012113571 | Test loss : 0.255063533782959\n",
      "Epoch : 66 | Loss : 0.1078205332159996 | Test loss : 0.25429874658584595\n",
      "Epoch : 67 | Loss : 0.1074778363108635 | Test loss : 0.2535339891910553\n",
      "Epoch : 68 | Loss : 0.10713594406843185 | Test loss : 0.25242528319358826\n",
      "Epoch : 69 | Loss : 0.10679339617490768 | Test loss : 0.2516604959964752\n",
      "Epoch : 70 | Loss : 0.10645069181919098 | Test loss : 0.2508957087993622\n",
      "Epoch : 71 | Loss : 0.10610800236463547 | Test loss : 0.2501309812068939\n",
      "Epoch : 72 | Loss : 0.10576526075601578 | Test loss : 0.24936623871326447\n",
      "Epoch : 73 | Loss : 0.10542259365320206 | Test loss : 0.2486015111207962\n",
      "Epoch : 74 | Loss : 0.10507988184690475 | Test loss : 0.24783670902252197\n",
      "Epoch : 75 | Loss : 0.10473749786615372 | Test loss : 0.24672797322273254\n",
      "Epoch : 76 | Loss : 0.10439546406269073 | Test loss : 0.2459632158279419\n",
      "Epoch : 77 | Loss : 0.10405275970697403 | Test loss : 0.24519844353199005\n",
      "Epoch : 78 | Loss : 0.10371005535125732 | Test loss : 0.2444336861371994\n",
      "Epoch : 79 | Loss : 0.10336735099554062 | Test loss : 0.24366894364356995\n",
      "Epoch : 80 | Loss : 0.10302465409040451 | Test loss : 0.2429041862487793\n",
      "Epoch : 81 | Loss : 0.1026819497346878 | Test loss : 0.24213944375514984\n",
      "Epoch : 82 | Loss : 0.1023392453789711 | Test loss : 0.2413746416568756\n",
      "Epoch : 83 | Loss : 0.10199735313653946 | Test loss : 0.24026595056056976\n",
      "Epoch : 84 | Loss : 0.10165480524301529 | Test loss : 0.23950116336345673\n",
      "Epoch : 85 | Loss : 0.10131211578845978 | Test loss : 0.23873642086982727\n",
      "Epoch : 86 | Loss : 0.10096941143274307 | Test loss : 0.23797164857387543\n",
      "Epoch : 87 | Loss : 0.10062670707702637 | Test loss : 0.23720689117908478\n",
      "Epoch : 88 | Loss : 0.10028401762247086 | Test loss : 0.23644211888313293\n",
      "Epoch : 89 | Loss : 0.09994130581617355 | Test loss : 0.23567736148834229\n",
      "Epoch : 90 | Loss : 0.09959890693426132 | Test loss : 0.23456867039203644\n",
      "Epoch : 91 | Loss : 0.09925686568021774 | Test loss : 0.2338038980960846\n",
      "Epoch : 92 | Loss : 0.09891418367624283 | Test loss : 0.23303912580013275\n",
      "Epoch : 93 | Loss : 0.09857147932052612 | Test loss : 0.23227433860301971\n",
      "Epoch : 94 | Loss : 0.09822876751422882 | Test loss : 0.23150959610939026\n",
      "Epoch : 95 | Loss : 0.09788607805967331 | Test loss : 0.2307448387145996\n",
      "Epoch : 96 | Loss : 0.09754335880279541 | Test loss : 0.22998009622097015\n",
      "Epoch : 97 | Loss : 0.0972006693482399 | Test loss : 0.22921530902385712\n",
      "Epoch : 98 | Loss : 0.09685875475406647 | Test loss : 0.22810660302639008\n",
      "Epoch : 99 | Loss : 0.09651623666286469 | Test loss : 0.22734180092811584\n",
      "Epoch : 100 | Loss : 0.09617353975772858 | Test loss : 0.2265770435333252\n",
      "Epoch : 101 | Loss : 0.09583082795143127 | Test loss : 0.22581230103969574\n",
      "Epoch : 102 | Loss : 0.09548813104629517 | Test loss : 0.2250475436449051\n",
      "Epoch : 103 | Loss : 0.09514542669057846 | Test loss : 0.22428278625011444\n",
      "Epoch : 104 | Loss : 0.09480272978544235 | Test loss : 0.22351804375648499\n",
      "Epoch : 105 | Loss : 0.09446031600236893 | Test loss : 0.22240927815437317\n",
      "Epoch : 106 | Loss : 0.09411831200122833 | Test loss : 0.22164452075958252\n",
      "Epoch : 107 | Loss : 0.09377560019493103 | Test loss : 0.22087979316711426\n",
      "Epoch : 108 | Loss : 0.09343289583921432 | Test loss : 0.22011502087116241\n",
      "Epoch : 109 | Loss : 0.09309019893407822 | Test loss : 0.21935026347637177\n",
      "Epoch : 110 | Loss : 0.09274749457836151 | Test loss : 0.21858549118041992\n",
      "Epoch : 111 | Loss : 0.0924047902226448 | Test loss : 0.21782074868679047\n",
      "Epoch : 112 | Loss : 0.0920620784163475 | Test loss : 0.21705599129199982\n",
      "Epoch : 113 | Loss : 0.09172015637159348 | Test loss : 0.2159472554922104\n",
      "Epoch : 114 | Loss : 0.09137766063213348 | Test loss : 0.21518249809741974\n",
      "Epoch : 115 | Loss : 0.09103494882583618 | Test loss : 0.2144177407026291\n",
      "Epoch : 116 | Loss : 0.09069225937128067 | Test loss : 0.21365296840667725\n",
      "Epoch : 117 | Loss : 0.09034954756498337 | Test loss : 0.2128881961107254\n",
      "Epoch : 118 | Loss : 0.09000685065984726 | Test loss : 0.21212343871593475\n",
      "Epoch : 119 | Loss : 0.08966415375471115 | Test loss : 0.2113586962223053\n",
      "Epoch : 120 | Loss : 0.08932171761989594 | Test loss : 0.21024994552135468\n",
      "Epoch : 121 | Loss : 0.08897972106933594 | Test loss : 0.20948520302772522\n",
      "Epoch : 122 | Loss : 0.08863701671361923 | Test loss : 0.20872044563293457\n",
      "Epoch : 123 | Loss : 0.08829431980848312 | Test loss : 0.20795567333698273\n",
      "Epoch : 124 | Loss : 0.08795161545276642 | Test loss : 0.20719091594219208\n",
      "Epoch : 125 | Loss : 0.08760891109704971 | Test loss : 0.20642614364624023\n",
      "Epoch : 126 | Loss : 0.08726620674133301 | Test loss : 0.20566140115261078\n",
      "Epoch : 127 | Loss : 0.0869235172867775 | Test loss : 0.20489664375782013\n",
      "Epoch : 128 | Loss : 0.08658155798912048 | Test loss : 0.2037879079580307\n",
      "Epoch : 129 | Loss : 0.08623909205198288 | Test loss : 0.20302315056324005\n",
      "Epoch : 130 | Loss : 0.08589638769626617 | Test loss : 0.2022583782672882\n",
      "Epoch : 131 | Loss : 0.08555368334054947 | Test loss : 0.20149362087249756\n",
      "Epoch : 132 | Loss : 0.08521097898483276 | Test loss : 0.2007288932800293\n",
      "Epoch : 133 | Loss : 0.08486827462911606 | Test loss : 0.19996412098407745\n",
      "Epoch : 134 | Loss : 0.08452557772397995 | Test loss : 0.1991993635892868\n",
      "Epoch : 135 | Loss : 0.08418312668800354 | Test loss : 0.19809061288833618\n",
      "Epoch : 136 | Loss : 0.08384114503860474 | Test loss : 0.19732585549354553\n",
      "Epoch : 137 | Loss : 0.08349844068288803 | Test loss : 0.19656109809875488\n",
      "Epoch : 138 | Loss : 0.08315574377775192 | Test loss : 0.19579635560512543\n",
      "Epoch : 139 | Loss : 0.08281303942203522 | Test loss : 0.1950315684080124\n",
      "Epoch : 140 | Loss : 0.0824703499674797 | Test loss : 0.19426682591438293\n",
      "Epoch : 141 | Loss : 0.0821276381611824 | Test loss : 0.19350208342075348\n",
      "Epoch : 142 | Loss : 0.0817849263548851 | Test loss : 0.19273729622364044\n",
      "Epoch : 143 | Loss : 0.08144297450780869 | Test loss : 0.191628560423851\n",
      "Epoch : 144 | Loss : 0.08110050112009048 | Test loss : 0.19086380302906036\n",
      "Epoch : 145 | Loss : 0.08075779676437378 | Test loss : 0.19009904563426971\n",
      "Epoch : 146 | Loss : 0.08041509985923767 | Test loss : 0.18933430314064026\n",
      "Epoch : 147 | Loss : 0.08007240295410156 | Test loss : 0.18856953084468842\n",
      "Epoch : 148 | Loss : 0.07972969859838486 | Test loss : 0.18780477344989777\n",
      "Epoch : 149 | Loss : 0.07938698679208755 | Test loss : 0.18704000115394592\n",
      "Epoch : 150 | Loss : 0.07904452830553055 | Test loss : 0.1859312802553177\n",
      "Epoch : 151 | Loss : 0.07870256155729294 | Test loss : 0.18516652286052704\n",
      "Epoch : 152 | Loss : 0.07835987210273743 | Test loss : 0.1844017505645752\n",
      "Epoch : 153 | Loss : 0.07801716774702072 | Test loss : 0.18363700807094574\n",
      "Epoch : 154 | Loss : 0.07767446339130402 | Test loss : 0.1828722506761551\n",
      "Epoch : 155 | Loss : 0.07733175903558731 | Test loss : 0.18210747838020325\n",
      "Epoch : 156 | Loss : 0.0769890621304512 | Test loss : 0.1813427209854126\n",
      "Epoch : 157 | Loss : 0.0766463503241539 | Test loss : 0.18057797849178314\n",
      "Epoch : 158 | Loss : 0.0763043761253357 | Test loss : 0.1794692426919937\n",
      "Epoch : 159 | Loss : 0.07596192508935928 | Test loss : 0.17870448529720306\n",
      "Epoch : 160 | Loss : 0.07561922073364258 | Test loss : 0.17793969810009003\n",
      "Epoch : 161 | Loss : 0.07527651637792587 | Test loss : 0.17717495560646057\n",
      "Epoch : 162 | Loss : 0.07493381947278976 | Test loss : 0.17641018331050873\n",
      "Epoch : 163 | Loss : 0.07459112256765366 | Test loss : 0.17564542591571808\n",
      "Epoch : 164 | Loss : 0.07424842566251755 | Test loss : 0.17488066852092743\n",
      "Epoch : 165 | Loss : 0.07390593737363815 | Test loss : 0.173771932721138\n",
      "Epoch : 166 | Loss : 0.07356398552656174 | Test loss : 0.17300717532634735\n",
      "Epoch : 167 | Loss : 0.07322128862142563 | Test loss : 0.1722424030303955\n",
      "Epoch : 168 | Loss : 0.07287859171628952 | Test loss : 0.17147766053676605\n",
      "Epoch : 169 | Loss : 0.07253588736057281 | Test loss : 0.1707129031419754\n",
      "Epoch : 170 | Loss : 0.07219318300485611 | Test loss : 0.16994813084602356\n",
      "Epoch : 171 | Loss : 0.07185048609972 | Test loss : 0.16918335855007172\n",
      "Epoch : 172 | Loss : 0.0715077817440033 | Test loss : 0.16841860115528107\n",
      "Epoch : 173 | Loss : 0.0711657702922821 | Test loss : 0.16730988025665283\n",
      "Epoch : 174 | Loss : 0.07082335650920868 | Test loss : 0.16654513776302338\n",
      "Epoch : 175 | Loss : 0.07048064470291138 | Test loss : 0.16578038036823273\n",
      "Epoch : 176 | Loss : 0.07013794034719467 | Test loss : 0.16501560807228088\n",
      "Epoch : 177 | Loss : 0.06979524344205856 | Test loss : 0.16425085067749023\n",
      "Epoch : 178 | Loss : 0.06945254653692245 | Test loss : 0.16348610818386078\n",
      "Epoch : 179 | Loss : 0.06910984963178635 | Test loss : 0.16272132098674774\n",
      "Epoch : 180 | Loss : 0.06876733154058456 | Test loss : 0.1616126000881195\n",
      "Epoch : 181 | Loss : 0.06842540949583054 | Test loss : 0.16084785759449005\n",
      "Epoch : 182 | Loss : 0.06808271259069443 | Test loss : 0.1600830852985382\n",
      "Epoch : 183 | Loss : 0.06774001568555832 | Test loss : 0.15931832790374756\n",
      "Epoch : 184 | Loss : 0.06739731132984161 | Test loss : 0.1585535854101181\n",
      "Epoch : 185 | Loss : 0.06705459952354431 | Test loss : 0.15778879821300507\n",
      "Epoch : 186 | Loss : 0.0667119100689888 | Test loss : 0.15702404081821442\n",
      "Epoch : 187 | Loss : 0.0663692057132721 | Test loss : 0.15625928342342377\n",
      "Epoch : 188 | Loss : 0.0660271868109703 | Test loss : 0.15515051782131195\n",
      "Epoch : 189 | Loss : 0.06568477302789688 | Test loss : 0.1543857604265213\n",
      "Epoch : 190 | Loss : 0.06534206867218018 | Test loss : 0.15362103283405304\n",
      "Epoch : 191 | Loss : 0.06499937921762466 | Test loss : 0.15285630524158478\n",
      "Epoch : 192 | Loss : 0.06465666741132736 | Test loss : 0.15209154784679413\n",
      "Epoch : 193 | Loss : 0.06431396305561066 | Test loss : 0.1513267606496811\n",
      "Epoch : 194 | Loss : 0.06397126615047455 | Test loss : 0.15056200325489044\n",
      "Epoch : 195 | Loss : 0.06362874805927277 | Test loss : 0.149453267455101\n",
      "Epoch : 196 | Loss : 0.06328683346509933 | Test loss : 0.14868848025798798\n",
      "Epoch : 197 | Loss : 0.06294413655996323 | Test loss : 0.14792375266551971\n",
      "Epoch : 198 | Loss : 0.06260143965482712 | Test loss : 0.14715898036956787\n",
      "Epoch : 199 | Loss : 0.062258731573820114 | Test loss : 0.14639423787593842\n",
      "Epoch : 200 | Loss : 0.06191603094339371 | Test loss : 0.14562945067882538\n",
      "Epoch : 201 | Loss : 0.061573326587677 | Test loss : 0.14486470818519592\n",
      "Epoch : 202 | Loss : 0.061230625957250595 | Test loss : 0.14409993588924408\n",
      "Epoch : 203 | Loss : 0.060888584703207016 | Test loss : 0.14299121499061584\n",
      "Epoch : 204 | Loss : 0.06054619699716568 | Test loss : 0.142226442694664\n",
      "Epoch : 205 | Loss : 0.060203492641448975 | Test loss : 0.14146170020103455\n",
      "Epoch : 206 | Loss : 0.05986079201102257 | Test loss : 0.1406969279050827\n",
      "Epoch : 207 | Loss : 0.05951809883117676 | Test loss : 0.13993215560913086\n",
      "Epoch : 208 | Loss : 0.05917539820075035 | Test loss : 0.1391674131155014\n",
      "Epoch : 209 | Loss : 0.05883268639445305 | Test loss : 0.13840265572071075\n",
      "Epoch : 210 | Loss : 0.05849015340209007 | Test loss : 0.13729391992092133\n",
      "Epoch : 211 | Loss : 0.058148253709077835 | Test loss : 0.13652916252613068\n",
      "Epoch : 212 | Loss : 0.057805564254522324 | Test loss : 0.13576440513134003\n",
      "Epoch : 213 | Loss : 0.05746285244822502 | Test loss : 0.13499963283538818\n",
      "Epoch : 214 | Loss : 0.05712015554308891 | Test loss : 0.13423489034175873\n",
      "Epoch : 215 | Loss : 0.05677744746208191 | Test loss : 0.13347013294696808\n",
      "Epoch : 216 | Loss : 0.0564347505569458 | Test loss : 0.13270537555217743\n",
      "Epoch : 217 | Loss : 0.056092049926519394 | Test loss : 0.13194060325622559\n",
      "Epoch : 218 | Loss : 0.05575000122189522 | Test loss : 0.13083186745643616\n",
      "Epoch : 219 | Loss : 0.05540761351585388 | Test loss : 0.1300671100616455\n",
      "Epoch : 220 | Loss : 0.055064912885427475 | Test loss : 0.12930236756801605\n",
      "Epoch : 221 | Loss : 0.05472221598029137 | Test loss : 0.1285375952720642\n",
      "Epoch : 222 | Loss : 0.05437951162457466 | Test loss : 0.12777283787727356\n",
      "Epoch : 223 | Loss : 0.054036807268857956 | Test loss : 0.1270080804824829\n",
      "Epoch : 224 | Loss : 0.053694117814302444 | Test loss : 0.12624332308769226\n",
      "Epoch : 225 | Loss : 0.05335155874490738 | Test loss : 0.12513458728790283\n",
      "Epoch : 226 | Loss : 0.053009677678346634 | Test loss : 0.12436981499195099\n"
     ]
    },
    {
     "name": "stdout",
     "output_type": "stream",
     "text": [
      "Epoch : 227 | Loss : 0.05266697332262993 | Test loss : 0.12360506504774094\n",
      "Epoch : 228 | Loss : 0.05232428386807442 | Test loss : 0.12284030765295029\n",
      "Epoch : 229 | Loss : 0.05198157578706741 | Test loss : 0.12207555025815964\n",
      "Epoch : 230 | Loss : 0.051638878881931305 | Test loss : 0.12131079286336899\n",
      "Epoch : 231 | Loss : 0.0512961708009243 | Test loss : 0.12054600566625595\n",
      "Epoch : 232 | Loss : 0.05095347762107849 | Test loss : 0.11978127807378769\n",
      "Epoch : 233 | Loss : 0.05061141401529312 | Test loss : 0.11867254227399826\n",
      "Epoch : 234 | Loss : 0.05026904493570328 | Test loss : 0.11790777742862701\n",
      "Epoch : 235 | Loss : 0.049926336854696274 | Test loss : 0.11714301258325577\n",
      "Epoch : 236 | Loss : 0.049583639949560165 | Test loss : 0.11637826263904572\n",
      "Epoch : 237 | Loss : 0.04924093559384346 | Test loss : 0.11561349779367447\n",
      "Epoch : 238 | Loss : 0.04889823496341705 | Test loss : 0.11484874784946442\n",
      "Epoch : 239 | Loss : 0.04855553060770035 | Test loss : 0.11408398300409317\n",
      "Epoch : 240 | Loss : 0.048212964087724686 | Test loss : 0.11297525465488434\n",
      "Epoch : 241 | Loss : 0.04787110537290573 | Test loss : 0.11221048980951309\n",
      "Epoch : 242 | Loss : 0.047528404742479324 | Test loss : 0.11144571751356125\n",
      "Epoch : 243 | Loss : 0.04718569666147232 | Test loss : 0.1106809601187706\n",
      "Epoch : 244 | Loss : 0.046842996031045914 | Test loss : 0.10991620272397995\n",
      "Epoch : 245 | Loss : 0.046500299125909805 | Test loss : 0.1091514453291893\n",
      "Epoch : 246 | Loss : 0.0461575947701931 | Test loss : 0.10838668793439865\n",
      "Epoch : 247 | Loss : 0.04581489786505699 | Test loss : 0.107621930539608\n",
      "Epoch : 248 | Loss : 0.04547281190752983 | Test loss : 0.10651316493749619\n",
      "Epoch : 249 | Loss : 0.04513046517968178 | Test loss : 0.10574843734502792\n",
      "Epoch : 250 | Loss : 0.04478776082396507 | Test loss : 0.10498368740081787\n",
      "Epoch : 251 | Loss : 0.04444507136940956 | Test loss : 0.10421891510486603\n",
      "Epoch : 252 | Loss : 0.04410235956311226 | Test loss : 0.10345416516065598\n",
      "Epoch : 253 | Loss : 0.04375966265797615 | Test loss : 0.10268940776586533\n",
      "Epoch : 254 | Loss : 0.043416958302259445 | Test loss : 0.10192465782165527\n",
      "Epoch : 255 | Loss : 0.04307437315583229 | Test loss : 0.10081590712070465\n",
      "Epoch : 256 | Loss : 0.04273252189159393 | Test loss : 0.1000511571764946\n",
      "Epoch : 257 | Loss : 0.04238982871174812 | Test loss : 0.09928636997938156\n",
      "Epoch : 258 | Loss : 0.04204712435603142 | Test loss : 0.0985216349363327\n",
      "Epoch : 259 | Loss : 0.04170442372560501 | Test loss : 0.09775687009096146\n",
      "Epoch : 260 | Loss : 0.041361719369888306 | Test loss : 0.0969921201467514\n",
      "Epoch : 261 | Loss : 0.0410190187394619 | Test loss : 0.09622735530138016\n",
      "Epoch : 262 | Loss : 0.0406763069331646 | Test loss : 0.09546258300542831\n",
      "Epoch : 263 | Loss : 0.04033421352505684 | Test loss : 0.09435384720563889\n",
      "Epoch : 264 | Loss : 0.03999188542366028 | Test loss : 0.09358906745910645\n",
      "Epoch : 265 | Loss : 0.03964918479323387 | Test loss : 0.09282428026199341\n",
      "Epoch : 266 | Loss : 0.03930647298693657 | Test loss : 0.09205950051546097\n",
      "Epoch : 267 | Loss : 0.03896377235651016 | Test loss : 0.09129471331834793\n",
      "Epoch : 268 | Loss : 0.03862106055021286 | Test loss : 0.0905299261212349\n",
      "Epoch : 269 | Loss : 0.038278352469205856 | Test loss : 0.08976514637470245\n",
      "Epoch : 270 | Loss : 0.03793574497103691 | Test loss : 0.08865641057491302\n",
      "Epoch : 271 | Loss : 0.03759391978383064 | Test loss : 0.08789162337779999\n",
      "Epoch : 272 | Loss : 0.03725121542811394 | Test loss : 0.08712684363126755\n",
      "Epoch : 273 | Loss : 0.036908503621816635 | Test loss : 0.08636205643415451\n",
      "Epoch : 274 | Loss : 0.03656579554080963 | Test loss : 0.08559725433588028\n",
      "Epoch : 275 | Loss : 0.036223094910383224 | Test loss : 0.08483247458934784\n",
      "Epoch : 276 | Loss : 0.03588038682937622 | Test loss : 0.0840676948428154\n",
      "Epoch : 277 | Loss : 0.03553767874836922 | Test loss : 0.08330290764570236\n",
      "Epoch : 278 | Loss : 0.035195548087358475 | Test loss : 0.08219416439533234\n",
      "Epoch : 279 | Loss : 0.034853238612413406 | Test loss : 0.0814293846487999\n",
      "Epoch : 280 | Loss : 0.0345105342566967 | Test loss : 0.08066459745168686\n",
      "Epoch : 281 | Loss : 0.0341678224503994 | Test loss : 0.07989981025457382\n",
      "Epoch : 282 | Loss : 0.03382512554526329 | Test loss : 0.07913503050804138\n",
      "Epoch : 283 | Loss : 0.033482421189546585 | Test loss : 0.07837023586034775\n",
      "Epoch : 284 | Loss : 0.03313971310853958 | Test loss : 0.07760545611381531\n",
      "Epoch : 285 | Loss : 0.03279707953333855 | Test loss : 0.07649671286344528\n",
      "Epoch : 286 | Loss : 0.03245527669787407 | Test loss : 0.07573193311691284\n",
      "Epoch : 287 | Loss : 0.032112572342157364 | Test loss : 0.0749671459197998\n",
      "Epoch : 288 | Loss : 0.03176986053586006 | Test loss : 0.07420237362384796\n",
      "Epoch : 289 | Loss : 0.031427156180143356 | Test loss : 0.07343757152557373\n",
      "Epoch : 290 | Loss : 0.031084448099136353 | Test loss : 0.07267279177904129\n",
      "Epoch : 291 | Loss : 0.030741745606064796 | Test loss : 0.07190799713134766\n",
      "Epoch : 292 | Loss : 0.030399033799767494 | Test loss : 0.07114323228597641\n",
      "Epoch : 293 | Loss : 0.03005688451230526 | Test loss : 0.07003448158502579\n",
      "Epoch : 294 | Loss : 0.02971460297703743 | Test loss : 0.06926969438791275\n",
      "Epoch : 295 | Loss : 0.029371893033385277 | Test loss : 0.06850492209196091\n",
      "Epoch : 296 | Loss : 0.02902919054031372 | Test loss : 0.06774012744426727\n",
      "Epoch : 297 | Loss : 0.028686482459306717 | Test loss : 0.06697533279657364\n",
      "Epoch : 298 | Loss : 0.028343772515654564 | Test loss : 0.0662105455994606\n",
      "Epoch : 299 | Loss : 0.028001070022583008 | Test loss : 0.06544578075408936\n"
     ]
    }
   ],
   "source": [
    "epochs = 300\n",
    "\n",
    "model_ex = model_ex.to(device)\n",
    "X_train = X_train.to(device)\n",
    "X_test = X_test.to(device)\n",
    "Y_train = Y_train.to(device)\n",
    "Y_test = Y_test.to(device)\n",
    "\n",
    "for epoch in range(epochs):\n",
    "    model_ex.train()\n",
    "\n",
    "    Y_preds = model_ex(X_train)\n",
    "\n",
    "    loss = loss_fn(Y_preds, Y_train)\n",
    "\n",
    "    optimizer.zero_grad()\n",
    "\n",
    "    loss.backward()\n",
    "\n",
    "    optimizer.step()\n",
    "\n",
    "    if (epochs%20 == 0):\n",
    "        with torch.inference_mode():\n",
    "            test_preds = model_ex(X_test)\n",
    "            test_loss = loss_fn(test_preds, Y_test)\n",
    "            print(f\"Epoch : {epoch} | Loss : {loss} | Test loss : {test_loss}\")"
   ]
  },
  {
   "cell_type": "code",
   "execution_count": 142,
   "metadata": {
    "colab": {
     "base_uri": "https://localhost:8080/"
    },
    "id": "Nb9KyT4teEsE",
    "outputId": "119302a6-6d0d-493e-f29e-7cdde3a9aac2"
   },
   "outputs": [
    {
     "data": {
      "text/plain": [
       "OrderedDict([('weight', tensor([0.4378], device='cuda:0')),\n",
       "             ('bias', tensor([0.8421], device='cuda:0'))])"
      ]
     },
     "execution_count": 142,
     "metadata": {},
     "output_type": "execute_result"
    }
   ],
   "source": [
    "model_ex.state_dict()"
   ]
  },
  {
   "cell_type": "code",
   "execution_count": 143,
   "metadata": {
    "colab": {
     "base_uri": "https://localhost:8080/",
     "height": 466
    },
    "id": "lsNAWE5JeEsF",
    "outputId": "cf506f50-68be-4778-a5fd-2dc05554cd83"
   },
   "outputs": [
    {
     "data": {
      "image/png": "[encoded data removed]",
      "text/plain": [
       "<Figure size 720x504 with 1 Axes>"
      ]
     },
     "metadata": {
      "needs_background": "light"
     },
     "output_type": "display_data"
    }
   ],
   "source": [
    "with torch.inference_mode():\n",
    "    Y_pred = model_ex(X_test)\n",
    "\n",
    "plot_predictions(X_train.cpu(), Y_train.cpu(), X_test.cpu(), Y_test.cpu(), Y_pred.cpu())"
   ]
  },
  {
   "cell_type": "code",
   "execution_count": 144,
   "metadata": {
    "id": "vZSQaVmWeEsF"
   },
   "outputs": [],
   "source": [
    "MODEL_PATH = Path(\"models\")\n",
    "MODEL_NAME = \"Model_exercise.pth\"\n",
    "\n",
    "MODEL_SAVE_PATH = MODEL_PATH / MODEL_NAME\n",
    "\n",
    "torch.save(obj=model_ex.state_dict(),\n",
    "          f=MODEL_SAVE_PATH)"
   ]
  },
  {
   "cell_type": "code",
   "execution_count": 145,
   "metadata": {
    "colab": {
     "base_uri": "https://localhost:8080/"
    },
    "id": "indo3UfjeEsF",
    "outputId": "b3e9c06b-4941-4ce9-c96d-f860caa215b6"
   },
   "outputs": [
    {
     "data": {
      "text/plain": [
       "<All keys matched successfully>"
      ]
     },
     "execution_count": 145,
     "metadata": {},
     "output_type": "execute_result"
    }
   ],
   "source": [
    "loaded_model_ex = LinearRegressionModelEx()\n",
    "\n",
    "loaded_model_ex.load_state_dict(torch.load(MODEL_SAVE_PATH))"
   ]
  },
  {
   "cell_type": "code",
   "execution_count": 146,
   "metadata": {
    "colab": {
     "base_uri": "https://localhost:8080/"
    },
    "id": "Suc1nIJXeEsG",
    "outputId": "00d0b12d-a842-4c48-f73f-972a8185dd93"
   },
   "outputs": [
    {
     "data": {
      "text/plain": [
       "OrderedDict([('weight', tensor([0.4378], device='cuda:0')),\n",
       "             ('bias', tensor([0.8421], device='cuda:0'))])"
      ]
     },
     "execution_count": 146,
     "metadata": {},
     "output_type": "execute_result"
    }
   ],
   "source": [
    "loaded_model_ex.to(device)\n",
    "loaded_model_ex.state_dict()"
   ]
  },
  {
   "cell_type": "code",
   "execution_count": 147,
   "metadata": {
    "colab": {
     "base_uri": "https://localhost:8080/"
    },
    "id": "T9XatvB5eEsG",
    "outputId": "0526dc01-ccac-4af9-8d79-65059fd23d69"
   },
   "outputs": [
    {
     "data": {
      "text/plain": [
       "tensor([True, True, True, True, True, True, True, True, True, True, True, True,\n",
       "        True, True, True, True, True, True, True, True], device='cuda:0')"
      ]
     },
     "execution_count": 147,
     "metadata": {},
     "output_type": "execute_result"
    }
   ],
   "source": [
    "loaded_model_pred = loaded_model_ex(X_test)\n",
    "Y_pred == loaded_model_pred"
   ]
  },
  {
   "cell_type": "markdown",
   "metadata": {
    "id": "b5uu-msdpOQ0"
   },
   "source": [
    "# Chapter 2\n",
    "\n",
    "Classification is a problem of predicting whether something is one thing or another (there can be multi things as the options)"
   ]
  },
  {
   "cell_type": "markdown",
   "metadata": {
    "id": "tqpKK_XCv259"
   },
   "source": [
    "## 1. Make classification data and get it ready"
   ]
  },
  {
   "cell_type": "code",
   "execution_count": 148,
   "metadata": {
    "id": "u65VlSyq3Ymm"
   },
   "outputs": [],
   "source": [
    "import sklearn"
   ]
  },
  {
   "cell_type": "code",
   "execution_count": 149,
   "metadata": {
    "id": "a1oh3bWE3dkk"
   },
   "outputs": [],
   "source": [
    "from sklearn.datasets import make_circles\n",
    "\n",
    "# Make 1000 samples\n",
    "n_samples = 1000\n",
    "\n",
    "# Create circles\n",
    "X, Y = make_circles(n_samples,\n",
    "                    noise=0.03,\n",
    "                    random_state=42)"
   ]
  },
  {
   "cell_type": "code",
   "execution_count": 150,
   "metadata": {
    "colab": {
     "base_uri": "https://localhost:8080/"
    },
    "id": "nHfhFxgV4Ijy",
    "outputId": "14542eb0-5318-458f-b520-f23e9423378e"
   },
   "outputs": [
    {
     "data": {
      "text/plain": [
       "(1000, 1000)"
      ]
     },
     "execution_count": 150,
     "metadata": {},
     "output_type": "execute_result"
    }
   ],
   "source": [
    "len(X), len(Y)"
   ]
  },
  {
   "cell_type": "code",
   "execution_count": 151,
   "metadata": {
    "colab": {
     "base_uri": "https://localhost:8080/"
    },
    "id": "BTpG0mvy4MHk",
    "outputId": "e67c0cd9-9f28-4c17-e735-5e58c0b082fa"
   },
   "outputs": [
    {
     "name": "stdout",
     "output_type": "stream",
     "text": [
      "First 5 samples of X : \n",
      " [[ 0.75424625  0.23148074]\n",
      " [-0.75615888  0.15325888]\n",
      " [-0.81539193  0.17328203]\n",
      " [-0.39373073  0.69288277]\n",
      " [ 0.44220765 -0.89672343]]\n",
      "First 5 samples of Y : \n",
      " [1 1 1 1 0]\n"
     ]
    }
   ],
   "source": [
    "print(f\"First 5 samples of X : \\n {X[:5]}\")\n",
    "print(f\"First 5 samples of Y : \\n {Y[:5]}\")"
   ]
  },
  {
   "cell_type": "code",
   "execution_count": 152,
   "metadata": {
    "colab": {
     "base_uri": "https://localhost:8080/",
     "height": 363
    },
    "id": "hn7M13ts4eD1",
    "outputId": "224e157a-644e-4593-a4a5-e89a468ba30e"
   },
   "outputs": [
    {
     "data": {
      "text/html": [
       "<div>\n",
       "<style scoped>\n",
       "    .dataframe tbody tr th:only-of-type {\n",
       "        vertical-align: middle;\n",
       "    }\n",
       "\n",
       "    .dataframe tbody tr th {\n",
       "        vertical-align: top;\n",
       "    }\n",
       "\n",
       "    .dataframe thead th {\n",
       "        text-align: right;\n",
       "    }\n",
       "</style>\n",
       "<table border=\"1\" class=\"dataframe\">\n",
       "  <thead>\n",
       "    <tr style=\"text-align: right;\">\n",
       "      <th></th>\n",
       "      <th>X1</th>\n",
       "      <th>X2</th>\n",
       "      <th>label</th>\n",
       "    </tr>\n",
       "  </thead>\n",
       "  <tbody>\n",
       "    <tr>\n",
       "      <th>0</th>\n",
       "      <td>0.754246</td>\n",
       "      <td>0.231481</td>\n",
       "      <td>1</td>\n",
       "    </tr>\n",
       "    <tr>\n",
       "      <th>1</th>\n",
       "      <td>-0.756159</td>\n",
       "      <td>0.153259</td>\n",
       "      <td>1</td>\n",
       "    </tr>\n",
       "    <tr>\n",
       "      <th>2</th>\n",
       "      <td>-0.815392</td>\n",
       "      <td>0.173282</td>\n",
       "      <td>1</td>\n",
       "    </tr>\n",
       "    <tr>\n",
       "      <th>3</th>\n",
       "      <td>-0.393731</td>\n",
       "      <td>0.692883</td>\n",
       "      <td>1</td>\n",
       "    </tr>\n",
       "    <tr>\n",
       "      <th>4</th>\n",
       "      <td>0.442208</td>\n",
       "      <td>-0.896723</td>\n",
       "      <td>0</td>\n",
       "    </tr>\n",
       "    <tr>\n",
       "      <th>5</th>\n",
       "      <td>-0.479646</td>\n",
       "      <td>0.676435</td>\n",
       "      <td>1</td>\n",
       "    </tr>\n",
       "    <tr>\n",
       "      <th>6</th>\n",
       "      <td>-0.013648</td>\n",
       "      <td>0.803349</td>\n",
       "      <td>1</td>\n",
       "    </tr>\n",
       "    <tr>\n",
       "      <th>7</th>\n",
       "      <td>0.771513</td>\n",
       "      <td>0.147760</td>\n",
       "      <td>1</td>\n",
       "    </tr>\n",
       "    <tr>\n",
       "      <th>8</th>\n",
       "      <td>-0.169322</td>\n",
       "      <td>-0.793456</td>\n",
       "      <td>1</td>\n",
       "    </tr>\n",
       "    <tr>\n",
       "      <th>9</th>\n",
       "      <td>-0.121486</td>\n",
       "      <td>1.021509</td>\n",
       "      <td>0</td>\n",
       "    </tr>\n",
       "  </tbody>\n",
       "</table>\n",
       "</div>"
      ],
      "text/plain": [
       "         X1        X2  label\n",
       "0  0.754246  0.231481      1\n",
       "1 -0.756159  0.153259      1\n",
       "2 -0.815392  0.173282      1\n",
       "3 -0.393731  0.692883      1\n",
       "4  0.442208 -0.896723      0\n",
       "5 -0.479646  0.676435      1\n",
       "6 -0.013648  0.803349      1\n",
       "7  0.771513  0.147760      1\n",
       "8 -0.169322 -0.793456      1\n",
       "9 -0.121486  1.021509      0"
      ]
     },
     "execution_count": 152,
     "metadata": {},
     "output_type": "execute_result"
    }
   ],
   "source": [
    "# Make DataFrame of circle data\n",
    "import pandas as pd\n",
    "circles = pd.DataFrame({\"X1\" : X[:, 0],\n",
    "                        \"X2\" : X[:, 1],\n",
    "                       \"label\" : Y})\n",
    "\n",
    "circles.head(10)"
   ]
  },
  {
   "cell_type": "code",
   "execution_count": 153,
   "metadata": {
    "colab": {
     "base_uri": "https://localhost:8080/",
     "height": 447
    },
    "id": "D-K6jblw5SMR",
    "outputId": "ebd6ecea-90fa-4fdc-e99c-c0652d208aa7"
   },
   "outputs": [
    {
     "data": {
      "text/plain": [
       "<matplotlib.collections.PathCollection at 0x16b8cc3a950>"
      ]
     },
     "execution_count": 153,
     "metadata": {},
     "output_type": "execute_result"
    },
    {
     "data": {
      "image/png": "[encoded data removed]",
      "text/plain": [
       "<Figure size 432x288 with 1 Axes>"
      ]
     },
     "metadata": {
      "needs_background": "light"
     },
     "output_type": "display_data"
    }
   ],
   "source": [
    "# Visualize, visualize, visualize\n",
    "import matplotlib.pyplot as plt\n",
    "plt.scatter(x=X[:, 0],\n",
    "            y=X[:, 1],\n",
    "            c=Y,\n",
    "            cmap=plt.cm.RdYlBu)"
   ]
  },
  {
   "cell_type": "markdown",
   "metadata": {
    "id": "E3OXoVmW54Ic"
   },
   "source": [
    "Note : The data we're working with is oftem referred to as a toy dataset, a dataset that is small enough to experiment but still sizeable enough to experiment but still sizeable enough to practice the fundamentals."
   ]
  },
  {
   "cell_type": "markdown",
   "metadata": {
    "id": "e1sN7NhW8Xdt"
   },
   "source": [
    "### 1.1 Check input ant output shapes"
   ]
  },
  {
   "cell_type": "code",
   "execution_count": 154,
   "metadata": {
    "colab": {
     "base_uri": "https://localhost:8080/"
    },
    "id": "BJ1dxw1O9n_B",
    "outputId": "9880cbce-7c81-4e55-b3c9-c4f26d234a06"
   },
   "outputs": [
    {
     "data": {
      "text/plain": [
       "((1000, 2), (1000,))"
      ]
     },
     "execution_count": 154,
     "metadata": {},
     "output_type": "execute_result"
    }
   ],
   "source": [
    "X.shape, Y.shape"
   ]
  },
  {
   "cell_type": "code",
   "execution_count": 155,
   "metadata": {
    "colab": {
     "base_uri": "https://localhost:8080/"
    },
    "id": "iYdq6gRb9uxQ",
    "outputId": "a7c6f3c1-3647-4ec1-e781-8d4e83a719aa"
   },
   "outputs": [
    {
     "data": {
      "text/plain": [
       "array([[ 0.75424625,  0.23148074],\n",
       "       [-0.75615888,  0.15325888],\n",
       "       [-0.81539193,  0.17328203],\n",
       "       ...,\n",
       "       [-0.13690036, -0.81001183],\n",
       "       [ 0.67036156, -0.76750154],\n",
       "       [ 0.28105665,  0.96382443]])"
      ]
     },
     "execution_count": 155,
     "metadata": {},
     "output_type": "execute_result"
    }
   ],
   "source": [
    "X"
   ]
  },
  {
   "cell_type": "code",
   "execution_count": 156,
   "metadata": {
    "colab": {
     "base_uri": "https://localhost:8080/"
    },
    "id": "rssBMy9N-Fdz",
    "outputId": "7e9be07a-4e45-4d14-9446-f07666f13b4f"
   },
   "outputs": [
    {
     "name": "stdout",
     "output_type": "stream",
     "text": [
      "Values for one sample of X : [0.75424625 0.23148074] and the same for Y : 1\n",
      "Shapes for one sample of X : (2,) and the same for Y : ()\n"
     ]
    }
   ],
   "source": [
    "# View the first example of features and labels\n",
    "X_sample = X[0]\n",
    "Y_sample = Y[0]\n",
    "\n",
    "print(f\"Values for one sample of X : {X_sample} and the same for Y : {Y_sample}\")\n",
    "print(f\"Shapes for one sample of X : {X_sample.shape} and the same for Y : {Y_sample.shape}\")"
   ]
  },
  {
   "cell_type": "markdown",
   "metadata": {
    "id": "ASpDVnBW-dtl"
   },
   "source": [
    "### 1.2 Turn data into tensors and create train and test splits"
   ]
  },
  {
   "cell_type": "code",
   "execution_count": 157,
   "metadata": {
    "colab": {
     "base_uri": "https://localhost:8080/"
    },
    "id": "DaWMHbyb_VAg",
    "outputId": "c772134f-b524-46f6-8633-75a76af24fc2"
   },
   "outputs": [
    {
     "data": {
      "text/plain": [
       "(numpy.ndarray, numpy.ndarray)"
      ]
     },
     "execution_count": 157,
     "metadata": {},
     "output_type": "execute_result"
    }
   ],
   "source": [
    "type(X), type(Y)"
   ]
  },
  {
   "cell_type": "code",
   "execution_count": 158,
   "metadata": {
    "id": "rANmBM5I-v8R"
   },
   "outputs": [],
   "source": [
    "# Turn data into tensors\n",
    "X = torch.from_numpy(X).type(torch.float)\n",
    "Y = torch.from_numpy(Y).type(torch.float)"
   ]
  },
  {
   "cell_type": "code",
   "execution_count": 159,
   "metadata": {
    "colab": {
     "base_uri": "https://localhost:8080/"
    },
    "id": "VEEqOEhz_Gby",
    "outputId": "14d20c7d-e5ba-4605-baf6-02e52faa5efc"
   },
   "outputs": [
    {
     "data": {
      "text/plain": [
       "(torch.Tensor, torch.Tensor, torch.float32, torch.float32)"
      ]
     },
     "execution_count": 159,
     "metadata": {},
     "output_type": "execute_result"
    }
   ],
   "source": [
    "type(X), type(Y), X.dtype, Y.dtype"
   ]
  },
  {
   "cell_type": "code",
   "execution_count": 160,
   "metadata": {
    "id": "rWUu8IA8AB2J"
   },
   "outputs": [],
   "source": [
    "# Split data into training and test sets\n",
    "from sklearn.model_selection import train_test_split\n",
    "\n",
    "X_train, X_test, Y_train, Y_test = train_test_split(X,\n",
    "                                                    Y,\n",
    "                                                    test_size = 0.2,    # 0.2 = 20% of data will be test & 80% will train\n",
    "                                                    random_state = 42)"
   ]
  },
  {
   "cell_type": "code",
   "execution_count": 161,
   "metadata": {
    "colab": {
     "base_uri": "https://localhost:8080/"
    },
    "id": "CBa1E-CcA_Nb",
    "outputId": "b89bc8d4-5c2b-49b5-bc70-06071c3022eb"
   },
   "outputs": [
    {
     "data": {
      "text/plain": [
       "(800, 200, 800, 200)"
      ]
     },
     "execution_count": 161,
     "metadata": {},
     "output_type": "execute_result"
    }
   ],
   "source": [
    "len(X_train), len(X_test), len(Y_train), len(Y_test)"
   ]
  },
  {
   "cell_type": "markdown",
   "metadata": {
    "id": "cAUsuhBwBrNm"
   },
   "source": [
    "## 2. Building a Model\n",
    "\n",
    "Let's build a model to classify our blue and red dots.\n",
    "\n",
    "To do so, we want to:\n",
    "1. Setup device agnoistic code so our code will run on an accelerator (GPU) if there is one\n",
    "2. Construct a model (by subclassing `nn.Module`)\n",
    "3. Define a loss function and optimizer\n",
    "4. Create a training and test loop"
   ]
  },
  {
   "cell_type": "code",
   "execution_count": 162,
   "metadata": {
    "colab": {
     "base_uri": "https://localhost:8080/",
     "height": 36
    },
    "id": "ERkJ-YUVDvbc",
    "outputId": "caaa9169-9f3e-4017-9e0b-a27face6f738"
   },
   "outputs": [
    {
     "data": {
      "text/plain": [
       "'cuda'"
      ]
     },
     "execution_count": 162,
     "metadata": {},
     "output_type": "execute_result"
    }
   ],
   "source": [
    "# Import PyTorch and nn\n",
    "\n",
    "# Make device agnostic code\n",
    "device = \"cuda\" if torch.cuda.is_available() else \"cpu\"\n",
    "device"
   ]
  },
  {
   "cell_type": "markdown",
   "metadata": {
    "id": "RNh3E4A4D-JM"
   },
   "source": [
    "Now we've setup device agnostic code, let's create a model that:\n",
    "\n",
    "1. Subclasses `nn.Module` (almost all models in PyTorch subclass `nn.Module`)\n",
    "2. Create 2 `nn.Linear()` layers that are capable of handling the shapes of our data\n",
    "3. Defines a `forward()` method that outlines the forward pass (or forward computation) of the model\n",
    "4. Instatiate an instance of our model class and sent it to the target `device`"
   ]
  },
  {
   "cell_type": "code",
   "execution_count": 163,
   "metadata": {
    "colab": {
     "base_uri": "https://localhost:8080/"
    },
    "id": "dCo9X6yqFG_s",
    "outputId": "4a3f5a08-b112-49ac-ef24-373025311b0c"
   },
   "outputs": [
    {
     "data": {
      "text/plain": [
       "CircleModelV0(\n",
       "  (layer_1): Linear(in_features=2, out_features=5, bias=True)\n",
       "  (layer_2): Linear(in_features=5, out_features=1, bias=True)\n",
       ")"
      ]
     },
     "execution_count": 163,
     "metadata": {},
     "output_type": "execute_result"
    }
   ],
   "source": [
    "# 1. Construct a model that subclasses nn.Module\n",
    "class CircleModelV0(nn.Module):\n",
    "    def __init__(self):\n",
    "        super().__init__()\n",
    "        # 2. Create 2 nn.Linear layers capable of handling the shapes of our data\n",
    "        self.layer_1 = nn.Linear(in_features = 2,\n",
    "                                 out_features = 5) # takes in 2 features and upscales to 5 features\n",
    "        self.layer_2 = nn.Linear(in_features = 5,\n",
    "                                 out_features = 1) # takes in 5 features from previous layer ad outputs a single feature (same shape as Y)\n",
    "        # 3. Define a forward() method that outlines the forward pass\n",
    "        def forward(self, X):\n",
    "            return self.layer_2(self.layer_1(X)) # X -> layer_1 -> layer_2 -> Output\n",
    "\n",
    "# 4. Instatiate an instance of our model class and send it to the target device\n",
    "model_0 = CircleModelV0().to(device)\n",
    "model_0"
   ]
  },
  {
   "cell_type": "code",
   "execution_count": 164,
   "metadata": {
    "colab": {
     "base_uri": "https://localhost:8080/"
    },
    "id": "K6Di9S9fHv7P",
    "outputId": "299e7ef0-1395-4ace-def5-fdae9cb3bb01"
   },
   "outputs": [
    {
     "data": {
      "text/plain": [
       "device(type='cuda', index=0)"
      ]
     },
     "execution_count": 164,
     "metadata": {},
     "output_type": "execute_result"
    }
   ],
   "source": [
    "next(model_0.parameters()).device"
   ]
  },
  {
   "cell_type": "code",
   "execution_count": 165,
   "metadata": {
    "colab": {
     "base_uri": "https://localhost:8080/"
    },
    "id": "ujdJPn3LH-Cf",
    "outputId": "d64568fa-247a-4541-f5ed-1651830836c6"
   },
   "outputs": [
    {
     "data": {
      "text/plain": [
       "OrderedDict([('layer_1.weight',\n",
       "              tensor([[-0.4071, -0.4279],\n",
       "                      [ 0.0067, -0.2897],\n",
       "                      [-0.1868,  0.4851],\n",
       "                      [ 0.5059, -0.3362],\n",
       "                      [ 0.1933, -0.1522]], device='cuda:0')),\n",
       "             ('layer_1.bias',\n",
       "              tensor([0.4476, 0.2673, 0.6501, 0.5702, 0.3187], device='cuda:0')),\n",
       "             ('layer_2.weight',\n",
       "              tensor([[ 0.4201,  0.1119,  0.2938,  0.2119, -0.0559]], device='cuda:0')),\n",
       "             ('layer_2.bias', tensor([0.2067], device='cuda:0'))])"
      ]
     },
     "execution_count": 165,
     "metadata": {},
     "output_type": "execute_result"
    }
   ],
   "source": [
    "model_0.state_dict()"
   ]
  },
  {
   "cell_type": "code",
   "execution_count": 166,
   "metadata": {
    "colab": {
     "base_uri": "https://localhost:8080/"
    },
    "id": "Gt2A0avbIKJo",
    "outputId": "1fb5873c-7944-40fd-9f98-eb2dc5f9c02c"
   },
   "outputs": [
    {
     "data": {
      "text/plain": [
       "Sequential(\n",
       "  (0): Linear(in_features=2, out_features=5, bias=True)\n",
       "  (1): Linear(in_features=5, out_features=1, bias=True)\n",
       ")"
      ]
     },
     "execution_count": 166,
     "metadata": {},
     "output_type": "execute_result"
    }
   ],
   "source": [
    "# Let's replicate the model above using nn.Sequential()\n",
    "model_0 = nn.Sequential(\n",
    "    nn.Linear(in_features=2, out_features=5),\n",
    "    nn.Linear(in_features=5, out_features=1)\n",
    ").to(device)\n",
    "\n",
    "model_0"
   ]
  },
  {
   "cell_type": "code",
   "execution_count": 167,
   "metadata": {
    "colab": {
     "base_uri": "https://localhost:8080/"
    },
    "id": "kDpuxvnkLWjU",
    "outputId": "426979ec-9cc0-474b-ac02-93b27f5502b7"
   },
   "outputs": [
    {
     "data": {
      "text/plain": [
       "OrderedDict([('0.weight',\n",
       "              tensor([[-0.0152, -0.4239],\n",
       "                      [-0.6227,  0.1211],\n",
       "                      [ 0.4534, -0.5465],\n",
       "                      [ 0.2424, -0.6766],\n",
       "                      [ 0.5701,  0.6093]], device='cuda:0')),\n",
       "             ('0.bias',\n",
       "              tensor([ 0.4568,  0.5139,  0.4444, -0.6473,  0.1252], device='cuda:0')),\n",
       "             ('1.weight',\n",
       "              tensor([[0.3847, 0.0823, 0.3482, 0.3686, 0.0767]], device='cuda:0')),\n",
       "             ('1.bias', tensor([-0.2861], device='cuda:0'))])"
      ]
     },
     "execution_count": 167,
     "metadata": {},
     "output_type": "execute_result"
    }
   ],
   "source": [
    "model_0.state_dict()"
   ]
  },
  {
   "cell_type": "code",
   "execution_count": 168,
   "metadata": {
    "colab": {
     "base_uri": "https://localhost:8080/"
    },
    "id": "KGyC7ZXKMJm1",
    "outputId": "55a8a816-be69-42e4-b614-f16d66469962"
   },
   "outputs": [
    {
     "name": "stdout",
     "output_type": "stream",
     "text": [
      "Length of predictions : 200, Shape : torch.Size([200, 1])\n",
      "Length of test samples : 200, Shape : torch.Size([200, 2])\n",
      "\n",
      "First 10 predictions : \n",
      "tensor([[-1.],\n",
      "        [-1.],\n",
      "        [-0.],\n",
      "        [-1.],\n",
      "        [ 0.],\n",
      "        [ 0.],\n",
      "        [-0.],\n",
      "        [-0.],\n",
      "        [-0.],\n",
      "        [-1.]], device='cuda:0')\n",
      "\n",
      "First 10 labels : \n",
      "tensor([1., 0., 1., 0., 1., 1., 0., 0., 1., 0.])\n"
     ]
    }
   ],
   "source": [
    "# Make predictions\n",
    "with torch.inference_mode():\n",
    "    untrained_preds = model_0(X_test.to(device))\n",
    "print(f\"Length of predictions : {len(untrained_preds)}, Shape : {untrained_preds.shape}\")\n",
    "print(f\"Length of test samples : {len(X_test)}, Shape : {X_test.shape}\")\n",
    "print(f\"\\nFirst 10 predictions : \\n{torch.round(untrained_preds[:10])}\")\n",
    "print(f\"\\nFirst 10 labels : \\n{Y_test[:10]}\")"
   ]
  },
  {
   "cell_type": "markdown",
   "metadata": {
    "id": "DViJ3KYXNnHO"
   },
   "source": [
    "## 2.1 Setup loss function and optimizer\n",
    "\n",
    "Which loss function or optimizer should you use?\n",
    "\n",
    "Again... this is problem specific.\n",
    "\n",
    "For example for regression you might want MAE or MSE (mean absolute erroror mean squared error).\n",
    "\n",
    "For classification you might want binary cross entropy or categorical cross entropy (cross entropy).\n",
    "\n",
    "As a reminder, the loss function measures how *wrong* your model's predictions are."
   ]
  },
  {
   "cell_type": "code",
   "execution_count": null,
   "metadata": {
    "id": "IFG9G669PnTW"
   },
   "outputs": [],
   "source": [
    "loss_fn = "
   ]
  }
 ],
 "metadata": {
  "accelerator": "GPU",
  "colab": {
   "gpuType": "T4",
   "provenance": []
  },
  "kernelspec": {
   "display_name": "Python 3 (ipykernel)",
   "language": "python",
   "name": "python3"
  },
  "language_info": {
   "codemirror_mode": {
    "name": "ipython",
    "version": 3
   },
   "file_extension": ".py",
   "mimetype": "text/x-python",
   "name": "python",
   "nbconvert_exporter": "python",
   "pygments_lexer": "ipython3",
   "version": "3.10.3"
  }
 },
 "nbformat": 4,
 "nbformat_minor": 1
}
