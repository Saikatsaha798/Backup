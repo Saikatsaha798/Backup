{
 "cells": [
  {
   "cell_type": "code",
   "execution_count": 9,
   "id": "76cb0dbb",
   "metadata": {},
   "outputs": [
    {
     "name": "stdout",
     "output_type": "stream",
     "text": [
      "21:22:10\n"
     ]
    }
   ],
   "source": [
    "from datetime import datetime\n",
    "time = datetime.now().strftime(\"%H:%M:%S\")\n",
    "print(time)"
   ]
  },
  {
   "cell_type": "code",
   "execution_count": 10,
   "id": "e30a56d9",
   "metadata": {},
   "outputs": [],
   "source": [
    "import json\n",
    "with open(\"timetable_filtered.json\", \"r\") as f:\n",
    "    time_table = json.load(f)"
   ]
  },
  {
   "cell_type": "code",
   "execution_count": 11,
   "id": "9970babc",
   "metadata": {},
   "outputs": [],
   "source": [
    "def extract_id (a):\n",
    "    if a > 99999:\n",
    "        return int(a/100)\n",
    "    elif a > 9999:\n",
    "        return int(a/10)\n",
    "    else:\n",
    "        return a"
   ]
  },
  {
   "cell_type": "code",
   "execution_count": 12,
   "id": "24c9195d",
   "metadata": {},
   "outputs": [
    {
     "name": "stdout",
     "output_type": "stream",
     "text": [
      "Enter the Source Station : paw\n",
      "Enter the Destination Station : DGR\n",
      "\n",
      "\n",
      "Train List : \n",
      "---\n"
     ]
    },
    {
     "ename": "KeyError",
     "evalue": "'paw'",
     "output_type": "error",
     "traceback": [
      "\u001b[1;31m---------------------------------------------------------------------------\u001b[0m",
      "\u001b[1;31mKeyError\u001b[0m                                  Traceback (most recent call last)",
      "Input \u001b[1;32mIn [12]\u001b[0m, in \u001b[0;36m<cell line: 8>\u001b[1;34m()\u001b[0m\n\u001b[0;32m      5\u001b[0m \u001b[38;5;28mprint\u001b[39m(\u001b[38;5;124m\"\u001b[39m\u001b[38;5;130;01m\\n\u001b[39;00m\u001b[38;5;124m\"\u001b[39m)\n\u001b[0;32m      6\u001b[0m \u001b[38;5;28mprint\u001b[39m(\u001b[38;5;124m\"\u001b[39m\u001b[38;5;124mTrain List : \u001b[39m\u001b[38;5;130;01m\\n\u001b[39;00m\u001b[38;5;124m---\u001b[39m\u001b[38;5;124m\"\u001b[39m)\n\u001b[1;32m----> 8\u001b[0m \u001b[38;5;28;01mfor\u001b[39;00m i \u001b[38;5;129;01min\u001b[39;00m \u001b[38;5;28msorted\u001b[39m(\u001b[43mtime_table\u001b[49m\u001b[43m[\u001b[49m\u001b[43msrc\u001b[49m\u001b[43m]\u001b[49m):\n\u001b[0;32m      9\u001b[0m     \u001b[38;5;28;01mif\u001b[39;00m (i\u001b[38;5;241m>\u001b[39mtime):\n\u001b[0;32m     11\u001b[0m         id_src \u001b[38;5;241m=\u001b[39m extract_id(time_table[src][i][\u001b[38;5;124m'\u001b[39m\u001b[38;5;124mid\u001b[39m\u001b[38;5;124m'\u001b[39m])\n",
      "\u001b[1;31mKeyError\u001b[0m: 'paw'"
     ]
    }
   ],
   "source": [
    "trains = 0\n",
    "src = input(\"Enter the Source Station : \")\n",
    "dest = input(\"Enter the Destination Station : \")\n",
    "\n",
    "print(\"\\n\")\n",
    "print(\"Train List : \\n---\")\n",
    "\n",
    "for i in sorted(time_table[src]):\n",
    "    if (i>time):\n",
    "        \n",
    "        id_src = extract_id(time_table[src][i]['id'])\n",
    "        for j in sorted(time_table[dest]):\n",
    "            id_dest = extract_id(time_table[dest][j]['id'])\n",
    "            if (i<j and id_src == id_dest):\n",
    "                print(i, \"->\", time_table[src][i]['train_name'])\n",
    "#                 print(time_table[src][i]['id'], time_table[dest][j]['id'])\n",
    "#                 print(id_src == id_dest)\n",
    "#                 print(j, \"->\", time_table[dest][j]['train_name'])\n",
    "                print(\"---\")\n",
    "                trains += 1\n",
    "\n",
    "if trains == 0:\n",
    "    print(\"No trains available now !\")\n",
    "else:\n",
    "    print(f\"{trains} trains founds !\")\n",
    "                \n",
    "            "
   ]
  },
  {
   "cell_type": "code",
   "execution_count": null,
   "id": "37f7d0b5",
   "metadata": {},
   "outputs": [],
   "source": [
    "a = \"aSBJBDasadad\"\n",
    "a.lower()"
   ]
  },
  {
   "cell_type": "code",
   "execution_count": null,
   "id": "91aaddf6",
   "metadata": {},
   "outputs": [],
   "source": [
    "a = \"21:19:20\"\n",
    "if a != None:\n",
    "    a = \":\".join(a.split(\":\")[0:2])"
   ]
  },
  {
   "cell_type": "code",
   "execution_count": 20,
   "id": "55326a89",
   "metadata": {},
   "outputs": [
    {
     "name": "stdout",
     "output_type": "stream",
     "text": [
      "Mayurakshi Fast Passenger 49450 None\n"
     ]
    }
   ],
   "source": [
    "src = \"HWH\"\n",
    "for i in sorted(time_table[src]):\n",
    "    if time_table[src][i][\"train_name\"] == \"Mayurakshi Fast Passenger\":\n",
    "        print(time_table[src][i][\"train_name\"], time_table[src][i][\"id\"], time_table[src][i][\"arrival\"])"
   ]
  },
  {
   "cell_type": "code",
   "execution_count": 1,
   "id": "2c95a796",
   "metadata": {},
   "outputs": [],
   "source": [
    "import getpass"
   ]
  },
  {
   "cell_type": "code",
   "execution_count": 2,
   "id": "4019f8fe",
   "metadata": {},
   "outputs": [
    {
     "name": "stdout",
     "output_type": "stream",
     "text": [
      "Password : ········\n"
     ]
    },
    {
     "data": {
      "text/plain": [
       "'APAAPA'"
      ]
     },
     "execution_count": 2,
     "metadata": {},
     "output_type": "execute_result"
    }
   ],
   "source": [
    "getpass.getpass(prompt=\"Password : \")"
   ]
  },
  {
   "cell_type": "code",
   "execution_count": 2,
   "id": "ea03967f",
   "metadata": {},
   "outputs": [],
   "source": [
    "import pickle\n",
    "d = {\n",
    "    \"A\" : 1\n",
    "}\n",
    "\n",
    "with open(\"abc\", \"wb\") as f:\n",
    "    pickle.dump(d, f)"
   ]
  },
  {
   "cell_type": "code",
   "execution_count": 3,
   "id": "2943f88e",
   "metadata": {},
   "outputs": [
    {
     "name": "stdout",
     "output_type": "stream",
     "text": [
      "{'A': 1}\n"
     ]
    }
   ],
   "source": [
    "with open(\"abc\", \"rb\") as f:\n",
    "    print(pickle.load(f))"
   ]
  },
  {
   "cell_type": "code",
   "execution_count": 5,
   "id": "38cb80da",
   "metadata": {},
   "outputs": [
    {
     "data": {
      "text/plain": [
       "['.idea',\n",
       " '.ipynb_checkpoints',\n",
       " 'Creating Dataset.ipynb',\n",
       " 'Dataset',\n",
       " 'login.py',\n",
       " 'search_station.py',\n",
       " 'search_train.py',\n",
       " 'station_filtered.json',\n",
       " 'timetable_filtered.json',\n",
       " 'Untitled.ipynb']"
      ]
     },
     "execution_count": 5,
     "metadata": {},
     "output_type": "execute_result"
    }
   ],
   "source": [
    "import os\n",
    "os.listdir()"
   ]
  },
  {
   "cell_type": "code",
   "execution_count": 2,
   "id": "3972bf53",
   "metadata": {},
   "outputs": [],
   "source": [
    "import json\n",
    "\n",
    "with open(\"station_filtered.json\", \"r\") as f:\n",
    "    station = json.load(f)"
   ]
  },
  {
   "cell_type": "code",
   "execution_count": 3,
   "id": "c5a074fc",
   "metadata": {},
   "outputs": [],
   "source": [
    "distance = (station[\"DGR\"][\"coordinates\"][0] - station[\"HWH\"][\"coordinates\"][0])**2 + (station[\"DGR\"][\"coordinates\"][1] - station[\"HWH\"][\"coordinates\"][1])**2"
   ]
  },
  {
   "cell_type": "code",
   "execution_count": 8,
   "id": "51591b9a",
   "metadata": {},
   "outputs": [],
   "source": [
    "# 15.641993980131867\n",
    "\n",
    "def fare(src, dest):\n",
    "    distance = (station[src][\"coordinates\"][0] - station[dest][\"coordinates\"][0])**2 + (station[src][\"coordinates\"][1] - station[dest][\"coordinates\"][1])**2\n",
    "    fareCost = 10 + (distance * 15.641993980131867)\n",
    "    \n",
    "    return round(fareCost)"
   ]
  },
  {
   "cell_type": "code",
   "execution_count": 15,
   "id": "3c77039f",
   "metadata": {},
   "outputs": [
    {
     "data": {
      "text/plain": [
       "20"
      ]
     },
     "execution_count": 15,
     "metadata": {},
     "output_type": "execute_result"
    }
   ],
   "source": [
    "round(17/10)*10"
   ]
  },
  {
   "cell_type": "code",
   "execution_count": null,
   "id": "f9a882e9",
   "metadata": {},
   "outputs": [],
   "source": []
  }
 ],
 "metadata": {
  "kernelspec": {
   "display_name": "Python 3 (ipykernel)",
   "language": "python",
   "name": "python3"
  },
  "language_info": {
   "codemirror_mode": {
    "name": "ipython",
    "version": 3
   },
   "file_extension": ".py",
   "mimetype": "text/x-python",
   "name": "python",
   "nbconvert_exporter": "python",
   "pygments_lexer": "ipython3",
   "version": "3.10.3"
  }
 },
 "nbformat": 4,
 "nbformat_minor": 5
}
