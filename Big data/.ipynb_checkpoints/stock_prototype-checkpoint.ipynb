{
 "cells": [
  {
   "cell_type": "code",
   "execution_count": 18,
   "id": "bdb80b68",
   "metadata": {},
   "outputs": [],
   "source": [
    "import pandas as pd\n",
    "import numpy as np"
   ]
  },
  {
   "cell_type": "code",
   "execution_count": 2,
   "id": "38646267",
   "metadata": {},
   "outputs": [
    {
     "data": {
      "text/html": [
       "<div>\n",
       "<style scoped>\n",
       "    .dataframe tbody tr th:only-of-type {\n",
       "        vertical-align: middle;\n",
       "    }\n",
       "\n",
       "    .dataframe tbody tr th {\n",
       "        vertical-align: top;\n",
       "    }\n",
       "\n",
       "    .dataframe thead th {\n",
       "        text-align: right;\n",
       "    }\n",
       "</style>\n",
       "<table border=\"1\" class=\"dataframe\">\n",
       "  <thead>\n",
       "    <tr style=\"text-align: right;\">\n",
       "      <th></th>\n",
       "      <th>Date</th>\n",
       "      <th>Symbol</th>\n",
       "      <th>Series</th>\n",
       "      <th>Prev Close</th>\n",
       "      <th>Open</th>\n",
       "      <th>High</th>\n",
       "      <th>Low</th>\n",
       "      <th>Last</th>\n",
       "      <th>Close</th>\n",
       "      <th>VWAP</th>\n",
       "      <th>Volume</th>\n",
       "      <th>Turnover</th>\n",
       "      <th>Trades</th>\n",
       "      <th>Deliverable Volume</th>\n",
       "      <th>%Deliverble</th>\n",
       "    </tr>\n",
       "  </thead>\n",
       "  <tbody>\n",
       "    <tr>\n",
       "      <th>0</th>\n",
       "      <td>2000-01-03</td>\n",
       "      <td>RELIANCE</td>\n",
       "      <td>EQ</td>\n",
       "      <td>233.05</td>\n",
       "      <td>237.50</td>\n",
       "      <td>251.70</td>\n",
       "      <td>237.50</td>\n",
       "      <td>251.70</td>\n",
       "      <td>251.70</td>\n",
       "      <td>249.37</td>\n",
       "      <td>4456424</td>\n",
       "      <td>1.111319e+14</td>\n",
       "      <td>NaN</td>\n",
       "      <td>NaN</td>\n",
       "      <td>NaN</td>\n",
       "    </tr>\n",
       "    <tr>\n",
       "      <th>1</th>\n",
       "      <td>2000-01-04</td>\n",
       "      <td>RELIANCE</td>\n",
       "      <td>EQ</td>\n",
       "      <td>251.70</td>\n",
       "      <td>258.40</td>\n",
       "      <td>271.85</td>\n",
       "      <td>251.30</td>\n",
       "      <td>271.85</td>\n",
       "      <td>271.85</td>\n",
       "      <td>263.52</td>\n",
       "      <td>9487878</td>\n",
       "      <td>2.500222e+14</td>\n",
       "      <td>NaN</td>\n",
       "      <td>NaN</td>\n",
       "      <td>NaN</td>\n",
       "    </tr>\n",
       "    <tr>\n",
       "      <th>2</th>\n",
       "      <td>2000-01-05</td>\n",
       "      <td>RELIANCE</td>\n",
       "      <td>EQ</td>\n",
       "      <td>271.85</td>\n",
       "      <td>256.65</td>\n",
       "      <td>287.90</td>\n",
       "      <td>256.65</td>\n",
       "      <td>286.75</td>\n",
       "      <td>282.50</td>\n",
       "      <td>274.79</td>\n",
       "      <td>26833684</td>\n",
       "      <td>7.373697e+14</td>\n",
       "      <td>NaN</td>\n",
       "      <td>NaN</td>\n",
       "      <td>NaN</td>\n",
       "    </tr>\n",
       "    <tr>\n",
       "      <th>3</th>\n",
       "      <td>2000-01-06</td>\n",
       "      <td>RELIANCE</td>\n",
       "      <td>EQ</td>\n",
       "      <td>282.50</td>\n",
       "      <td>289.00</td>\n",
       "      <td>300.70</td>\n",
       "      <td>289.00</td>\n",
       "      <td>293.50</td>\n",
       "      <td>294.35</td>\n",
       "      <td>295.45</td>\n",
       "      <td>15682286</td>\n",
       "      <td>4.633254e+14</td>\n",
       "      <td>NaN</td>\n",
       "      <td>NaN</td>\n",
       "      <td>NaN</td>\n",
       "    </tr>\n",
       "    <tr>\n",
       "      <th>4</th>\n",
       "      <td>2000-01-07</td>\n",
       "      <td>RELIANCE</td>\n",
       "      <td>EQ</td>\n",
       "      <td>294.35</td>\n",
       "      <td>295.00</td>\n",
       "      <td>317.90</td>\n",
       "      <td>293.00</td>\n",
       "      <td>314.50</td>\n",
       "      <td>314.55</td>\n",
       "      <td>308.91</td>\n",
       "      <td>19870977</td>\n",
       "      <td>6.138388e+14</td>\n",
       "      <td>NaN</td>\n",
       "      <td>NaN</td>\n",
       "      <td>NaN</td>\n",
       "    </tr>\n",
       "    <tr>\n",
       "      <th>...</th>\n",
       "      <td>...</td>\n",
       "      <td>...</td>\n",
       "      <td>...</td>\n",
       "      <td>...</td>\n",
       "      <td>...</td>\n",
       "      <td>...</td>\n",
       "      <td>...</td>\n",
       "      <td>...</td>\n",
       "      <td>...</td>\n",
       "      <td>...</td>\n",
       "      <td>...</td>\n",
       "      <td>...</td>\n",
       "      <td>...</td>\n",
       "      <td>...</td>\n",
       "      <td>...</td>\n",
       "    </tr>\n",
       "    <tr>\n",
       "      <th>5301</th>\n",
       "      <td>2021-04-26</td>\n",
       "      <td>RELIANCE</td>\n",
       "      <td>EQ</td>\n",
       "      <td>1904.35</td>\n",
       "      <td>1920.00</td>\n",
       "      <td>1962.00</td>\n",
       "      <td>1911.50</td>\n",
       "      <td>1938.00</td>\n",
       "      <td>1937.85</td>\n",
       "      <td>1941.32</td>\n",
       "      <td>9620785</td>\n",
       "      <td>1.867699e+15</td>\n",
       "      <td>259137.0</td>\n",
       "      <td>4276703.0</td>\n",
       "      <td>0.4445</td>\n",
       "    </tr>\n",
       "    <tr>\n",
       "      <th>5302</th>\n",
       "      <td>2021-04-27</td>\n",
       "      <td>RELIANCE</td>\n",
       "      <td>EQ</td>\n",
       "      <td>1937.85</td>\n",
       "      <td>1940.00</td>\n",
       "      <td>1997.20</td>\n",
       "      <td>1938.25</td>\n",
       "      <td>1990.00</td>\n",
       "      <td>1988.65</td>\n",
       "      <td>1978.64</td>\n",
       "      <td>9226547</td>\n",
       "      <td>1.825602e+15</td>\n",
       "      <td>291197.0</td>\n",
       "      <td>3772144.0</td>\n",
       "      <td>0.4088</td>\n",
       "    </tr>\n",
       "    <tr>\n",
       "      <th>5303</th>\n",
       "      <td>2021-04-28</td>\n",
       "      <td>RELIANCE</td>\n",
       "      <td>EQ</td>\n",
       "      <td>1988.65</td>\n",
       "      <td>1997.85</td>\n",
       "      <td>2008.00</td>\n",
       "      <td>1980.15</td>\n",
       "      <td>1993.15</td>\n",
       "      <td>1997.30</td>\n",
       "      <td>1997.60</td>\n",
       "      <td>7902002</td>\n",
       "      <td>1.578508e+15</td>\n",
       "      <td>247331.0</td>\n",
       "      <td>3921560.0</td>\n",
       "      <td>0.4963</td>\n",
       "    </tr>\n",
       "    <tr>\n",
       "      <th>5304</th>\n",
       "      <td>2021-04-29</td>\n",
       "      <td>RELIANCE</td>\n",
       "      <td>EQ</td>\n",
       "      <td>1997.30</td>\n",
       "      <td>2022.90</td>\n",
       "      <td>2044.50</td>\n",
       "      <td>2007.30</td>\n",
       "      <td>2020.00</td>\n",
       "      <td>2024.05</td>\n",
       "      <td>2024.21</td>\n",
       "      <td>8035915</td>\n",
       "      <td>1.626634e+15</td>\n",
       "      <td>213153.0</td>\n",
       "      <td>2834103.0</td>\n",
       "      <td>0.3527</td>\n",
       "    </tr>\n",
       "    <tr>\n",
       "      <th>5305</th>\n",
       "      <td>2021-04-30</td>\n",
       "      <td>RELIANCE</td>\n",
       "      <td>EQ</td>\n",
       "      <td>2024.05</td>\n",
       "      <td>2008.50</td>\n",
       "      <td>2036.00</td>\n",
       "      <td>1987.55</td>\n",
       "      <td>1995.90</td>\n",
       "      <td>1994.50</td>\n",
       "      <td>2010.20</td>\n",
       "      <td>9150974</td>\n",
       "      <td>1.839532e+15</td>\n",
       "      <td>288687.0</td>\n",
       "      <td>3902504.0</td>\n",
       "      <td>0.4265</td>\n",
       "    </tr>\n",
       "  </tbody>\n",
       "</table>\n",
       "<p>5306 rows × 15 columns</p>\n",
       "</div>"
      ],
      "text/plain": [
       "            Date    Symbol Series  Prev Close     Open     High      Low  \\\n",
       "0     2000-01-03  RELIANCE     EQ      233.05   237.50   251.70   237.50   \n",
       "1     2000-01-04  RELIANCE     EQ      251.70   258.40   271.85   251.30   \n",
       "2     2000-01-05  RELIANCE     EQ      271.85   256.65   287.90   256.65   \n",
       "3     2000-01-06  RELIANCE     EQ      282.50   289.00   300.70   289.00   \n",
       "4     2000-01-07  RELIANCE     EQ      294.35   295.00   317.90   293.00   \n",
       "...          ...       ...    ...         ...      ...      ...      ...   \n",
       "5301  2021-04-26  RELIANCE     EQ     1904.35  1920.00  1962.00  1911.50   \n",
       "5302  2021-04-27  RELIANCE     EQ     1937.85  1940.00  1997.20  1938.25   \n",
       "5303  2021-04-28  RELIANCE     EQ     1988.65  1997.85  2008.00  1980.15   \n",
       "5304  2021-04-29  RELIANCE     EQ     1997.30  2022.90  2044.50  2007.30   \n",
       "5305  2021-04-30  RELIANCE     EQ     2024.05  2008.50  2036.00  1987.55   \n",
       "\n",
       "         Last    Close     VWAP    Volume      Turnover    Trades  \\\n",
       "0      251.70   251.70   249.37   4456424  1.111319e+14       NaN   \n",
       "1      271.85   271.85   263.52   9487878  2.500222e+14       NaN   \n",
       "2      286.75   282.50   274.79  26833684  7.373697e+14       NaN   \n",
       "3      293.50   294.35   295.45  15682286  4.633254e+14       NaN   \n",
       "4      314.50   314.55   308.91  19870977  6.138388e+14       NaN   \n",
       "...       ...      ...      ...       ...           ...       ...   \n",
       "5301  1938.00  1937.85  1941.32   9620785  1.867699e+15  259137.0   \n",
       "5302  1990.00  1988.65  1978.64   9226547  1.825602e+15  291197.0   \n",
       "5303  1993.15  1997.30  1997.60   7902002  1.578508e+15  247331.0   \n",
       "5304  2020.00  2024.05  2024.21   8035915  1.626634e+15  213153.0   \n",
       "5305  1995.90  1994.50  2010.20   9150974  1.839532e+15  288687.0   \n",
       "\n",
       "      Deliverable Volume  %Deliverble  \n",
       "0                    NaN          NaN  \n",
       "1                    NaN          NaN  \n",
       "2                    NaN          NaN  \n",
       "3                    NaN          NaN  \n",
       "4                    NaN          NaN  \n",
       "...                  ...          ...  \n",
       "5301           4276703.0       0.4445  \n",
       "5302           3772144.0       0.4088  \n",
       "5303           3921560.0       0.4963  \n",
       "5304           2834103.0       0.3527  \n",
       "5305           3902504.0       0.4265  \n",
       "\n",
       "[5306 rows x 15 columns]"
      ]
     },
     "execution_count": 2,
     "metadata": {},
     "output_type": "execute_result"
    }
   ],
   "source": [
    "df = pd.read_csv('RELIANCE.csv')\n",
    "df"
   ]
  },
  {
   "cell_type": "code",
   "execution_count": 3,
   "id": "a74ad1e9",
   "metadata": {},
   "outputs": [
    {
     "data": {
      "text/plain": [
       "array([['2000-01-03', 'RELIANCE', 'EQ', ..., nan, nan, nan],\n",
       "       ['2000-01-04', 'RELIANCE', 'EQ', ..., nan, nan, nan],\n",
       "       ['2000-01-05', 'RELIANCE', 'EQ', ..., nan, nan, nan],\n",
       "       ...,\n",
       "       ['2021-04-28', 'RELIANCE', 'EQ', ..., 247331.0, 3921560.0, 0.4963],\n",
       "       ['2021-04-29', 'RELIANCE', 'EQ', ..., 213153.0, 2834103.0, 0.3527],\n",
       "       ['2021-04-30', 'RELIANCE', 'EQ', ..., 288687.0, 3902504.0, 0.4265]],\n",
       "      dtype=object)"
      ]
     },
     "execution_count": 3,
     "metadata": {},
     "output_type": "execute_result"
    }
   ],
   "source": [
    "arr = df.to_numpy()\n",
    "arr"
   ]
  },
  {
   "cell_type": "code",
   "execution_count": 4,
   "id": "1ae502c4",
   "metadata": {},
   "outputs": [
    {
     "data": {
      "text/plain": [
       "array(['2000-01-03', 'RELIANCE', 'EQ', 233.05, 237.5, 251.7, 237.5, 251.7,\n",
       "       251.7, 249.37, 4456424, 111131914445000.0, nan, nan, nan],\n",
       "      dtype=object)"
      ]
     },
     "execution_count": 4,
     "metadata": {},
     "output_type": "execute_result"
    }
   ],
   "source": [
    "arr[0]"
   ]
  },
  {
   "cell_type": "code",
   "execution_count": 5,
   "id": "965d4f3c",
   "metadata": {},
   "outputs": [
    {
     "data": {
      "text/plain": [
       "array([[233.05, 237.5, 251.7, 237.5, 251.7],\n",
       "       [251.7, 258.4, 271.85, 251.3, 271.85],\n",
       "       [271.85, 256.65, 287.9, 256.65, 286.75],\n",
       "       ...,\n",
       "       [1988.65, 1997.85, 2008.0, 1980.15, 1993.15],\n",
       "       [1997.3, 2022.9, 2044.5, 2007.3, 2020.0],\n",
       "       [2024.05, 2008.5, 2036.0, 1987.55, 1995.9]], dtype=object)"
      ]
     },
     "execution_count": 5,
     "metadata": {},
     "output_type": "execute_result"
    }
   ],
   "source": [
    "stock_features = arr[:,3:8]\n",
    "stock_features"
   ]
  },
  {
   "cell_type": "code",
   "execution_count": 6,
   "id": "47557b27",
   "metadata": {},
   "outputs": [],
   "source": [
    "from sklearn import linear_model\n",
    "from sklearn.metrics import mean_absolute_percentage_error"
   ]
  },
  {
   "cell_type": "code",
   "execution_count": 7,
   "id": "9bf23a01",
   "metadata": {},
   "outputs": [
    {
     "data": {
      "text/plain": [
       "(5306, 5)"
      ]
     },
     "execution_count": 7,
     "metadata": {},
     "output_type": "execute_result"
    }
   ],
   "source": [
    "stock_features.shape"
   ]
  },
  {
   "cell_type": "code",
   "execution_count": 8,
   "id": "4e384f3b",
   "metadata": {},
   "outputs": [],
   "source": [
    "features_train = stock_features[:-50]\n",
    "features_test = stock_features[-50:]"
   ]
  },
  {
   "cell_type": "code",
   "execution_count": 9,
   "id": "f0d50dc2",
   "metadata": {},
   "outputs": [
    {
     "data": {
      "text/plain": [
       "array([251.7, 271.85, 282.5, ..., 1997.3, 2024.05, 1994.5], dtype=object)"
      ]
     },
     "execution_count": 9,
     "metadata": {},
     "output_type": "execute_result"
    }
   ],
   "source": [
    "stock_label = arr[:,8]\n",
    "stock_label"
   ]
  },
  {
   "cell_type": "code",
   "execution_count": 10,
   "id": "5460dc4f",
   "metadata": {},
   "outputs": [],
   "source": [
    "label_train = stock_label[:-50]\n",
    "label_test = stock_label[-50:]"
   ]
  },
  {
   "cell_type": "code",
   "execution_count": 11,
   "id": "fd3946c2",
   "metadata": {},
   "outputs": [],
   "source": [
    "model = linear_model.LinearRegression()\n",
    "model.fit(features_train, label_train)\n",
    "predicted = model.predict(features_test)"
   ]
  },
  {
   "cell_type": "code",
   "execution_count": 12,
   "id": "cc497103",
   "metadata": {},
   "outputs": [
    {
     "data": {
      "text/plain": [
       "0.001193568674756895"
      ]
     },
     "execution_count": 12,
     "metadata": {},
     "output_type": "execute_result"
    }
   ],
   "source": [
    "mean_absolute_percentage_error(label_test, predicted)"
   ]
  },
  {
   "cell_type": "code",
   "execution_count": 13,
   "id": "2f00f00f",
   "metadata": {},
   "outputs": [
    {
     "data": {
      "text/plain": [
       "array([2032.6, 2059.5, 2083.25, 2067.7, 2080.3, 2008.1, 2023.45, 2061.0,\n",
       "       2144.35, 2085.8, 2101.7, 2106.0, 2202.1, 2175.85, 2178.7, 2191.1,\n",
       "       2191.05, 2181.95, 2137.6, 2108.9, 2100.6, 2055.35, 2009.1, 2082.0,\n",
       "       2062.4, 2087.5, 2047.3, 1991.45, 1994.65, 2029.3, 2003.1, 2021.85,\n",
       "       1992.6, 1984.3, 2002.85, 2005.35, 1982.05, 1911.15, 1931.8, 1944.3,\n",
       "       1932.1, 1901.7, 1901.15, 1906.4, 1904.35, 1937.85, 1988.65, 1997.3,\n",
       "       2024.05, 1994.5], dtype=object)"
      ]
     },
     "execution_count": 13,
     "metadata": {},
     "output_type": "execute_result"
    }
   ],
   "source": [
    "label_test"
   ]
  },
  {
   "cell_type": "code",
   "execution_count": 14,
   "id": "5458413d",
   "metadata": {},
   "outputs": [
    {
     "data": {
      "text/plain": [
       "array([2035.13610661, 2059.41531891, 2079.27123006, 2066.42802537,\n",
       "       2081.26041033, 2003.60100162, 2026.51840921, 2059.48539614,\n",
       "       2144.58089436, 2082.16714404, 2099.87938867, 2107.73541004,\n",
       "       2203.97019158, 2173.7632768 , 2177.29033248, 2195.89303962,\n",
       "       2188.4439209 , 2180.66798865, 2139.65736905, 2105.35890866,\n",
       "       2102.04981732, 2055.33039709, 2013.39593496, 2075.92511132,\n",
       "       2059.25011718, 2081.63496018, 2049.26412171, 1996.00994289,\n",
       "       1993.17417487, 2031.20899638, 2008.78763822, 2019.53451932,\n",
       "       1990.89516477, 1985.56024967, 2005.38075287, 2006.4597747 ,\n",
       "       1984.57997497, 1916.56378144, 1932.20071068, 1942.94502588,\n",
       "       1930.39098206, 1903.09953467, 1904.75157996, 1904.11414027,\n",
       "       1903.98004972, 1938.92709918, 1988.67005897, 1993.16434554,\n",
       "       2021.10832149, 1998.45655083])"
      ]
     },
     "execution_count": 14,
     "metadata": {},
     "output_type": "execute_result"
    }
   ],
   "source": [
    "predicted"
   ]
  },
  {
   "cell_type": "code",
   "execution_count": 15,
   "id": "07154d43",
   "metadata": {},
   "outputs": [
    {
     "data": {
      "text/plain": [
       "array([['2000-01-03', 'RELIANCE', 'EQ', ..., nan, nan, nan],\n",
       "       ['2000-01-04', 'RELIANCE', 'EQ', ..., nan, nan, nan],\n",
       "       ['2000-01-05', 'RELIANCE', 'EQ', ..., nan, nan, nan],\n",
       "       ...,\n",
       "       ['2021-04-28', 'RELIANCE', 'EQ', ..., 247331.0, 3921560.0, 0.4963],\n",
       "       ['2021-04-29', 'RELIANCE', 'EQ', ..., 213153.0, 2834103.0, 0.3527],\n",
       "       ['2021-04-30', 'RELIANCE', 'EQ', ..., 288687.0, 3902504.0, 0.4265]],\n",
       "      dtype=object)"
      ]
     },
     "execution_count": 15,
     "metadata": {},
     "output_type": "execute_result"
    }
   ],
   "source": [
    "arr"
   ]
  },
  {
   "cell_type": "code",
   "execution_count": 21,
   "id": "f4c5937c",
   "metadata": {},
   "outputs": [
    {
     "data": {
      "text/plain": [
       "array([[233.05],\n",
       "       [251.7],\n",
       "       [271.85],\n",
       "       ...,\n",
       "       [1988.65],\n",
       "       [1997.3],\n",
       "       [2024.05]], dtype=object)"
      ]
     },
     "execution_count": 21,
     "metadata": {},
     "output_type": "execute_result"
    }
   ],
   "source": [
    "features = arr[:, np.newaxis, 0+3]\n",
    "features"
   ]
  },
  {
   "cell_type": "code",
   "execution_count": 23,
   "id": "5a98accb",
   "metadata": {},
   "outputs": [
    {
     "data": {
      "text/plain": [
       "array([[233.05, 237.5],\n",
       "       [251.7, 258.4],\n",
       "       [271.85, 256.65],\n",
       "       ...,\n",
       "       [1988.65, 1997.85],\n",
       "       [1997.3, 2022.9],\n",
       "       [2024.05, 2008.5]], dtype=object)"
      ]
     },
     "execution_count": 23,
     "metadata": {},
     "output_type": "execute_result"
    }
   ],
   "source": [
    "np.append(features, arr[:, np.newaxis, 1+3], 1)"
   ]
  },
  {
   "cell_type": "code",
   "execution_count": null,
   "id": "75f08774",
   "metadata": {},
   "outputs": [],
   "source": []
  }
 ],
 "metadata": {
  "kernelspec": {
   "display_name": "Python 3 (ipykernel)",
   "language": "python",
   "name": "python3"
  },
  "language_info": {
   "codemirror_mode": {
    "name": "ipython",
    "version": 3
   },
   "file_extension": ".py",
   "mimetype": "text/x-python",
   "name": "python",
   "nbconvert_exporter": "python",
   "pygments_lexer": "ipython3",
   "version": "3.10.3"
  }
 },
 "nbformat": 4,
 "nbformat_minor": 5
}
