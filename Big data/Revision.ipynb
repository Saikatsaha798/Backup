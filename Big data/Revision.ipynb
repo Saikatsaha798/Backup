{
 "cells": [
  {
   "cell_type": "code",
   "execution_count": 26,
   "id": "7e4c72fa",
   "metadata": {},
   "outputs": [
    {
     "name": "stdout",
     "output_type": "stream",
     "text": [
      "Hello 69\n"
     ]
    }
   ],
   "source": [
    "print(\"Hello\")"
   ]
  },
  {
   "cell_type": "code",
   "execution_count": 8,
   "id": "82ade0f9",
   "metadata": {
    "scrolled": true
   },
   "outputs": [
    {
     "name": "stdout",
     "output_type": "stream",
     "text": [
      "<class 'int'> <class 'float'> <class 'str'>\n"
     ]
    }
   ],
   "source": [
    "x,y,z = 1, 1.0, \"Hi\"\n",
    "print(type(x),type(y),type(z))"
   ]
  },
  {
   "cell_type": "code",
   "execution_count": 11,
   "id": "2d3578c8",
   "metadata": {},
   "outputs": [
    {
     "name": "stdout",
     "output_type": "stream",
     "text": [
      "1.0\n",
      "<class 'str'>\n"
     ]
    }
   ],
   "source": [
    "x = input()             #Default\n",
    "print(type(x))"
   ]
  },
  {
   "cell_type": "code",
   "execution_count": 23,
   "id": "c262f343",
   "metadata": {},
   "outputs": [
    {
     "name": "stdout",
     "output_type": "stream",
     "text": [
      "15\n",
      "<class 'int'>\n"
     ]
    }
   ],
   "source": [
    "x = int(input())        #Int Input\n",
    "print(type(x))"
   ]
  },
  {
   "cell_type": "code",
   "execution_count": 20,
   "id": "a78c5321",
   "metadata": {},
   "outputs": [
    {
     "name": "stdout",
     "output_type": "stream",
     "text": [
      "69.69\n",
      "<class 'float'>\n"
     ]
    }
   ],
   "source": [
    "x = float(input())\n",
    "print(type(x))"
   ]
  },
  {
   "cell_type": "code",
   "execution_count": 27,
   "id": "ccce206a",
   "metadata": {},
   "outputs": [
    {
     "name": "stdout",
     "output_type": "stream",
     "text": [
      "Enter your age : 5\n",
      "Your age is 50 years. \n"
     ]
    }
   ],
   "source": [
    "age = int(input(\"Enter your age : \"))\n",
    "print(\"Your age is\", age , \"years. \")"
   ]
  },
  {
   "cell_type": "code",
   "execution_count": 30,
   "id": "279fe9e1",
   "metadata": {},
   "outputs": [
    {
     "name": "stdout",
     "output_type": "stream",
     "text": [
      "Enter the Number : 5\n",
      "Enter the Number : 6\n",
      "Sum of 5 and 6 : 11\n"
     ]
    }
   ],
   "source": [
    "a = int(input(\"Enter the Number : \"))\n",
    "b = int(input(\"Enter the Number : \"))\n",
    "sum = a + b\n",
    "print(\"Sum of\", a,\"and\", b, \":\", sum)"
   ]
  },
  {
   "cell_type": "code",
   "execution_count": 37,
   "id": "9bfa5e12",
   "metadata": {},
   "outputs": [
    {
     "data": {
      "text/plain": [
       "False"
      ]
     },
     "execution_count": 37,
     "metadata": {},
     "output_type": "execute_result"
    }
   ],
   "source": [
    "# 4%2     #Modulus -> returns Remainder\n",
    "\n",
    "# if - if - if - if\n",
    "# if - elif - elif - else\n",
    "\n",
    "\n",
    "# BOOLEAN OPERATORS\n",
    "\n",
    "# ==      -> Equality\n",
    "# >\n",
    "# <\n",
    "# >=\n",
    "# <=\n"
   ]
  },
  {
   "cell_type": "code",
   "execution_count": 47,
   "id": "4af2646d",
   "metadata": {},
   "outputs": [
    {
     "name": "stdout",
     "output_type": "stream",
     "text": [
      "Enter Number : 9\n",
      "A is divisible by 3\n"
     ]
    }
   ],
   "source": [
    "# if\n",
    "# elif -> else - if\n",
    "# else\n",
    "\n",
    "a = int(input(\"Enter Number : \"))\n",
    "\n",
    "if (a%2 == 0):\n",
    "    print(\"A is divisible by 2\")\n",
    "    \n",
    "elif (a%3 == 0):\n",
    "    print(\"A is divisible by 3\")\n",
    "    \n",
    "else:\n",
    "    print(\"Not Divisible\")\n"
   ]
  },
  {
   "cell_type": "code",
   "execution_count": 50,
   "id": "2d983c30",
   "metadata": {},
   "outputs": [],
   "source": [
    "# Looping\n",
    "\n",
    "# For       -> Known of Iterations\n",
    "# While     -> Unknown no of Iterations\n",
    "\n"
   ]
  },
  {
   "cell_type": "code",
   "execution_count": null,
   "id": "c3ea0004",
   "metadata": {},
   "outputs": [],
   "source": []
  }
 ],
 "metadata": {
  "kernelspec": {
   "display_name": "Python 3 (ipykernel)",
   "language": "python",
   "name": "python3"
  },
  "language_info": {
   "codemirror_mode": {
    "name": "ipython",
    "version": 3
   },
   "file_extension": ".py",
   "mimetype": "text/x-python",
   "name": "python",
   "nbconvert_exporter": "python",
   "pygments_lexer": "ipython3",
   "version": "3.10.3"
  }
 },
 "nbformat": 4,
 "nbformat_minor": 5
}
