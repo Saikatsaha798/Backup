{
 "cells": [
  {
   "cell_type": "code",
   "execution_count": 1,
   "id": "80a7f138",
   "metadata": {},
   "outputs": [],
   "source": [
    "import json"
   ]
  },
  {
   "cell_type": "code",
   "execution_count": 2,
   "id": "d519ac1a",
   "metadata": {},
   "outputs": [],
   "source": [
    "js = '{\"a\":1, \"b\":2, \"c\":3}'"
   ]
  },
  {
   "cell_type": "code",
   "execution_count": 3,
   "id": "07b7266d",
   "metadata": {},
   "outputs": [
    {
     "data": {
      "text/plain": [
       "{'a': 1, 'b': 2, 'c': 3}"
      ]
     },
     "execution_count": 3,
     "metadata": {},
     "output_type": "execute_result"
    }
   ],
   "source": [
    "j = json.loads(js)\n",
    "j"
   ]
  },
  {
   "cell_type": "code",
   "execution_count": 4,
   "id": "6555b6d8",
   "metadata": {},
   "outputs": [
    {
     "data": {
      "text/plain": [
       "2"
      ]
     },
     "execution_count": 4,
     "metadata": {},
     "output_type": "execute_result"
    }
   ],
   "source": [
    "j['b']"
   ]
  },
  {
   "cell_type": "code",
   "execution_count": 5,
   "id": "dc5f32fe",
   "metadata": {},
   "outputs": [],
   "source": [
    "js = '''\n",
    "{\n",
    "  \"editor.fontSize\": 15,\n",
    "  \"editor.fontFamily\": \"Consolas\",\n",
    "  \"editor.tabSize\": 2,\n",
    "  \"editor.wordWrapColumn\": 80,\n",
    "  \"editor.fontLigatures\": true,\n",
    "  \"editor.snippetSuggestions\": \"top\",\n",
    "  \"editor.minimap.enabled\": true,\n",
    "  \"workbench.welcome.enabled\": false,\n",
    "  \"workbench.iconTheme\": \"material-icon-theme\",\n",
    "  \"material-icon-theme.showUpdateMessage\": false,\n",
    "  \"sync.host\": \"\",\n",
    "  \"sync.pathPrefix\": \"\",\n",
    "  \"eslint.autoFixOnSave\": true,\n",
    "  \"editor.formatOnSave\": false,\n",
    "  \"editor.renderIndentGuides\": true,\n",
    "  \"flow.useNPMPackagedFlow\": true,\n",
    "  \"prettier.singleQuote\": true,\n",
    "  \"prettier.printWidth\": 80,\n",
    "  \"prettier.trailingComma\": \"all\",\n",
    "  \"prettier.semi\": true,\n",
    "  \"prettier.useTabs\": false,\n",
    "  \"prettier.bracketSpacing\": true,\n",
    "  \"sync.quietSync\": false,\n",
    "  \"workbench.colorTheme\": \"Monokai\"\n",
    "}\n",
    "'''"
   ]
  },
  {
   "cell_type": "code",
   "execution_count": 6,
   "id": "447894ef",
   "metadata": {},
   "outputs": [
    {
     "data": {
      "text/plain": [
       "{'editor.fontSize': 15,\n",
       " 'editor.fontFamily': 'Consolas',\n",
       " 'editor.tabSize': 2,\n",
       " 'editor.wordWrapColumn': 80,\n",
       " 'editor.fontLigatures': True,\n",
       " 'editor.snippetSuggestions': 'top',\n",
       " 'editor.minimap.enabled': True,\n",
       " 'workbench.welcome.enabled': False,\n",
       " 'workbench.iconTheme': 'material-icon-theme',\n",
       " 'material-icon-theme.showUpdateMessage': False,\n",
       " 'sync.host': '',\n",
       " 'sync.pathPrefix': '',\n",
       " 'eslint.autoFixOnSave': True,\n",
       " 'editor.formatOnSave': False,\n",
       " 'editor.renderIndentGuides': True,\n",
       " 'flow.useNPMPackagedFlow': True,\n",
       " 'prettier.singleQuote': True,\n",
       " 'prettier.printWidth': 80,\n",
       " 'prettier.trailingComma': 'all',\n",
       " 'prettier.semi': True,\n",
       " 'prettier.useTabs': False,\n",
       " 'prettier.bracketSpacing': True,\n",
       " 'sync.quietSync': False,\n",
       " 'workbench.colorTheme': 'Monokai'}"
      ]
     },
     "execution_count": 6,
     "metadata": {},
     "output_type": "execute_result"
    }
   ],
   "source": [
    "j = json.loads(js)\n",
    "j"
   ]
  },
  {
   "cell_type": "code",
   "execution_count": 7,
   "id": "4289a71f",
   "metadata": {},
   "outputs": [
    {
     "data": {
      "text/plain": [
       "2"
      ]
     },
     "execution_count": 7,
     "metadata": {},
     "output_type": "execute_result"
    }
   ],
   "source": [
    "j['editor.tabSize']"
   ]
  },
  {
   "cell_type": "code",
   "execution_count": 8,
   "id": "b8bafe2d",
   "metadata": {},
   "outputs": [],
   "source": [
    "with open('export.json', 'w') as f:\n",
    "    json.dump(j, f)"
   ]
  },
  {
   "cell_type": "code",
   "execution_count": 9,
   "id": "007845a0",
   "metadata": {},
   "outputs": [
    {
     "data": {
      "text/plain": [
       "{'editor.fontSize': 15,\n",
       " 'editor.fontFamily': 'Consolas',\n",
       " 'editor.tabSize': 2,\n",
       " 'editor.wordWrapColumn': 80,\n",
       " 'editor.fontLigatures': True,\n",
       " 'editor.snippetSuggestions': 'top',\n",
       " 'editor.minimap.enabled': True,\n",
       " 'workbench.welcome.enabled': False,\n",
       " 'workbench.iconTheme': 'material-icon-theme',\n",
       " 'material-icon-theme.showUpdateMessage': False,\n",
       " 'sync.host': '',\n",
       " 'sync.pathPrefix': '',\n",
       " 'eslint.autoFixOnSave': True,\n",
       " 'editor.formatOnSave': False,\n",
       " 'editor.renderIndentGuides': True,\n",
       " 'flow.useNPMPackagedFlow': True,\n",
       " 'prettier.singleQuote': True,\n",
       " 'prettier.printWidth': 80,\n",
       " 'prettier.trailingComma': 'all',\n",
       " 'prettier.semi': True,\n",
       " 'prettier.useTabs': False,\n",
       " 'prettier.bracketSpacing': True,\n",
       " 'sync.quietSync': False,\n",
       " 'workbench.colorTheme': 'Monokai'}"
      ]
     },
     "execution_count": 9,
     "metadata": {},
     "output_type": "execute_result"
    }
   ],
   "source": [
    "with open('export.json', 'r') as f:\n",
    "    j = json.load(f)\n",
    "j"
   ]
  }
 ],
 "metadata": {
  "kernelspec": {
   "display_name": "Python 3 (ipykernel)",
   "language": "python",
   "name": "python3"
  },
  "language_info": {
   "codemirror_mode": {
    "name": "ipython",
    "version": 3
   },
   "file_extension": ".py",
   "mimetype": "text/x-python",
   "name": "python",
   "nbconvert_exporter": "python",
   "pygments_lexer": "ipython3",
   "version": "3.10.3"
  }
 },
 "nbformat": 4,
 "nbformat_minor": 5
}
